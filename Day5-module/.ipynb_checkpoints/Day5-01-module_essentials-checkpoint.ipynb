{
 "cells": [
  {
   "cell_type": "markdown",
   "metadata": {},
   "source": [
    "## 本部分简介\n",
    "1. 模块定义\n",
    "2. 包（package）的定义\n",
    "3. 模块导入方法\n",
    "4. import本质（路径搜索和搜索路径）\n",
    "5. 导入优化\n",
    "6. 模块分类介绍\n",
    "\n",
    "[本部分参考网页](http://www.cnblogs.com/alex3714/articles/5161349.html)"
   ]
  },
  {
   "cell_type": "markdown",
   "metadata": {},
   "source": [
    "## 模块定义\n",
    "- 模块的就是一个.py结尾的Python文件。（假如文件名问test.py，则模块名为test）\n",
    "- 模块用于从逻辑上组织Python代码，例如可以定义变量、函数、类或逻辑。\n",
    "- 模块的本质就是要实现某个功能。\n",
    "\n",
    "## 包（package）的定义\n",
    "- 其本质是一个文件夹或目录，必须带有一个“\\__init\\__.py”文件。\n",
    "- 包是用来从逻辑上组织模块的\n",
    "- 包也可以进行导入"
   ]
  },
  {
   "cell_type": "markdown",
   "metadata": {},
   "source": [
    "## 模块导入方法\n",
    "- 若已有模块已经在当前路径或者系统搜索路径中，可直接用“import 模块名”"
   ]
  },
  {
   "cell_type": "code",
   "execution_count": 1,
   "metadata": {},
   "outputs": [],
   "source": [
    "# 写一个模块文件，名字为sayhi.py\n",
    "f = open(\"sayhi.py\",'w',encoding = \"utf-8\")\n",
    "\n",
    "str1 = 'name = \"Meng Li\"'\n",
    "str2 = \"\"\"\n",
    "def say_hi1():\n",
    "    print('1--> ',name)\n",
    "    \n",
    "def say_hi2():\n",
    "    print('2--> ',name)\n",
    "\"\"\"\n",
    "f.write(str1)\n",
    "f.write(str2)\n",
    "\n",
    "f.close()"
   ]
  },
  {
   "cell_type": "code",
   "execution_count": 2,
   "metadata": {},
   "outputs": [
    {
     "name": "stdout",
     "output_type": "stream",
     "text": [
      "1-->  Meng Li\n"
     ]
    }
   ],
   "source": [
    "# 使用sayhi模块\n",
    "import sayhi\n",
    "# 使用sayhi模块中的函数：\n",
    "sayhi.say_hi1()"
   ]
  },
  {
   "cell_type": "markdown",
   "metadata": {},
   "source": [
    "- 若想导入多个模块，用逗号分隔。直接用“import 模块名1,模块名2,模块名3”\n",
    "- 若一个模块中有多个函数或其他变量，想全部导入。可用“from 模块 import *”。这种操作会把模块中函数先放在函数中定义一遍。\n",
    " - 这种操作可能会与主文件产生冲突，默认不建议使用。建议使用“import 模块名”的方式"
   ]
  },
  {
   "cell_type": "code",
   "execution_count": 3,
   "metadata": {
    "scrolled": true
   },
   "outputs": [
    {
     "name": "stdout",
     "output_type": "stream",
     "text": [
      "2-->  Meng Li\n"
     ]
    }
   ],
   "source": [
    "from sayhi import *\n",
    "say_hi2()"
   ]
  },
  {
   "cell_type": "markdown",
   "metadata": {},
   "source": [
    "- 若想避免函数冲突。可用“from 模块 import 函数名等 as 别名”。"
   ]
  },
  {
   "cell_type": "code",
   "execution_count": 4,
   "metadata": {},
   "outputs": [
    {
     "name": "stdout",
     "output_type": "stream",
     "text": [
      "2-->  Meng Li\n"
     ]
    }
   ],
   "source": [
    "from sayhi import say_hi2 as new_say_hi\n",
    "new_say_hi()"
   ]
  },
  {
   "cell_type": "markdown",
   "metadata": {},
   "source": [
    "## import本质\n",
    "- import模块的本质：\n",
    "\n",
    "import导入的是一个模块，即文件或文件中的某个部分。当执行“import 模块-m”命令后，其本质是将导入模块中的所有代码解释一遍后，赋值给了名称为“模块-m”的变量。所以在调用时可以直接用“模块-m.**”的方式调用。\n",
    "\n",
    "- import包的本质：\n",
    "\n",
    "import包的时候，是在解释包目录下的“\\__init\\__.py”文件\n",
    "\n",
    "- 路径搜索:\n",
    "\n",
    "若在搜索路径中（系统目录+当前目录，即sys.path（一个列表）定义的路径中）都不包含欲导入的模块，可以加入（append）欲导入模块的所在路径。"
   ]
  },
  {
   "cell_type": "code",
   "execution_count": 11,
   "metadata": {},
   "outputs": [],
   "source": [
    "# 在一个文件夹内获取父目录及程序其他目录的方法\n",
    "\n",
    "# os.path.dirname() 用于获取父目录\n",
    "# os.path.abspath() 用于获取当前绝对路径\n",
    "# __file__ 用于获取当前程序的相对路径，貌似在jupyter notebook中不能用，pycharm中可以使用。\n",
    "\n",
    "# 可以使用如下方法调用\n",
    "######################\n",
    "# import os\n",
    "# os.path.abspath(__file__)  # 获取当前文件的绝对路径\n",
    "# BASE_DIR = os.path.dirname(os.path.abspath(__file__))  # 获取当前文件的父路径\n",
    "# sys.path.append(BASE_DIR)  # 添加环境变量\n",
    "\n",
    "# from **(父目录中的文件夹) import **(python文件)\n",
    "# 然后可以进行调用\n",
    "######################"
   ]
  },
  {
   "cell_type": "markdown",
   "metadata": {},
   "source": [
    "- 导入包与导入模块的本质不同。导入包是运行包下的“\\__init\\__.py”文件，而不能直接使用包下的文件。因此，若想导入包下的各种模块，可以修改“\\__init\\__.py”文件，在其中导入各种模块（from . import 模块名）。这样，便可以在导入包的时候导入包下的模块了。"
   ]
  },
  {
   "cell_type": "markdown",
   "metadata": {},
   "source": [
    "## 导入优化\n",
    "若导入模块中的某个部分被多次调用，则会多次在导入模块中多次重复查询，导致时间消耗。\n",
    "\n",
    "为了优化这个多次重复查询的过程，可以直接使用from的形式导入。“from 模块 import 函数名等 as 别名”"
   ]
  },
  {
   "cell_type": "markdown",
   "metadata": {},
   "source": [
    "## 模块分类\n",
    "Python中模块分为三类：\n",
    "1. 标准库：如sys，os等\n",
    "2. 第三方开发模块（开源模块）：如pytorch等\n",
    "3. 自行开发的模块"
   ]
  }
 ],
 "metadata": {
  "kernelspec": {
   "display_name": "Python 3",
   "language": "python",
   "name": "python3"
  },
  "language_info": {
   "codemirror_mode": {
    "name": "ipython",
    "version": 3
   },
   "file_extension": ".py",
   "mimetype": "text/x-python",
   "name": "python",
   "nbconvert_exporter": "python",
   "pygments_lexer": "ipython3",
   "version": "3.6.3"
  }
 },
 "nbformat": 4,
 "nbformat_minor": 2
}
