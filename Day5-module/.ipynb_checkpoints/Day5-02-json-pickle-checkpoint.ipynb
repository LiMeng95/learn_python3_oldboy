{
 "cells": [
  {
   "cell_type": "markdown",
   "metadata": {},
   "source": [
    "## 本部分简介\n",
    "1. json模块概述\n",
    "2. json模块使用\n",
    "3. pickle模块概述\n",
    "4. pickle模块使用\n",
    "\n",
    "[本部分参考网页](http://www.cnblogs.com/alex3714/articles/5161349.html)"
   ]
  },
  {
   "cell_type": "markdown",
   "metadata": {},
   "source": [
    "## json模块概述\n",
    "为了将Python中的数据存储到硬盘中（序列化），并将存储过的硬盘中的数据读取，并转化为Python数据（反序列化）。json模块可以实现标准的序列化、反序列化过程。\n",
    "- json只能处理简单的数据类型，包括字典、字符串、列表等\n",
    "- json能够在所有语言中通用，因此只支持一些简单的数据类型。\n",
    "\n",
    "xml功能与json功能类似，也可用于数据交互。当前json逐渐成为主流的数据交互方式。"
   ]
  },
  {
   "cell_type": "markdown",
   "metadata": {},
   "source": [
    "## json模块使用\n",
    "- 序列化过程使用dumps()/dump()\n",
    "- 反序列化过程使用loads()/load()"
   ]
  },
  {
   "cell_type": "code",
   "execution_count": 5,
   "metadata": {},
   "outputs": [
    {
     "name": "stdout",
     "output_type": "stream",
     "text": [
      "23\n",
      "23\n"
     ]
    }
   ],
   "source": [
    "## json文件使用例1:dumps()/dump()/loads()/load()的使用\n",
    "import json\n",
    "\n",
    "info = {\n",
    "    \"name\":\"Meng Li\",\n",
    "    \"age\":23\n",
    "}\n",
    "\n",
    "######方法一、二结果完全相同#########\n",
    "\n",
    "#############方法一################\n",
    "# 标准序列化过程1\n",
    "f = open('test_json.txt','w') \n",
    "f.write(json.dumps(info))\n",
    "f.close()\n",
    "\n",
    "# 标准反列化过程1\n",
    "f = open('test_json.txt','r') \n",
    "data = json.loads(f.read())\n",
    "f.close()\n",
    "print(data['age'])\n",
    "\n",
    "#############方法二################\n",
    "# 标准序列化过程2\n",
    "f = open('test_json.txt','w') \n",
    "json.dump(info,f)\n",
    "f.close()\n",
    "\n",
    "# 标准反列化过程2\n",
    "f = open('test_json.txt','r') \n",
    "data = json.load(f)\n",
    "f.close()\n",
    "print(data['age'])"
   ]
  },
  {
   "cell_type": "code",
   "execution_count": 7,
   "metadata": {},
   "outputs": [
    {
     "ename": "JSONDecodeError",
     "evalue": "Extra data: line 1 column 31 (char 30)",
     "output_type": "error",
     "traceback": [
      "\u001b[1;31m---------------------------------------------------------------------------\u001b[0m",
      "\u001b[1;31mJSONDecodeError\u001b[0m                           Traceback (most recent call last)",
      "\u001b[1;32m<ipython-input-7-ad93888c67b2>\u001b[0m in \u001b[0;36m<module>\u001b[1;34m()\u001b[0m\n\u001b[0;32m     16\u001b[0m \u001b[1;31m# 标准反列化过程1，现在文件中有两个字典\u001b[0m\u001b[1;33m\u001b[0m\u001b[1;33m\u001b[0m\u001b[0m\n\u001b[0;32m     17\u001b[0m \u001b[0mf\u001b[0m \u001b[1;33m=\u001b[0m \u001b[0mopen\u001b[0m\u001b[1;33m(\u001b[0m\u001b[1;34m'test_json.txt'\u001b[0m\u001b[1;33m,\u001b[0m\u001b[1;34m'r'\u001b[0m\u001b[1;33m)\u001b[0m\u001b[1;33m\u001b[0m\u001b[0m\n\u001b[1;32m---> 18\u001b[1;33m \u001b[0mdata\u001b[0m \u001b[1;33m=\u001b[0m \u001b[0mjson\u001b[0m\u001b[1;33m.\u001b[0m\u001b[0mload\u001b[0m\u001b[1;33m(\u001b[0m\u001b[0mf\u001b[0m\u001b[1;33m)\u001b[0m\u001b[1;33m\u001b[0m\u001b[0m\n\u001b[0m\u001b[0;32m     19\u001b[0m \u001b[0mf\u001b[0m\u001b[1;33m.\u001b[0m\u001b[0mclose\u001b[0m\u001b[1;33m(\u001b[0m\u001b[1;33m)\u001b[0m\u001b[1;33m\u001b[0m\u001b[0m\n\u001b[0;32m     20\u001b[0m \u001b[0mprint\u001b[0m\u001b[1;33m(\u001b[0m\u001b[0mdata\u001b[0m\u001b[1;33m[\u001b[0m\u001b[1;34m'age'\u001b[0m\u001b[1;33m]\u001b[0m\u001b[1;33m)\u001b[0m\u001b[1;33m\u001b[0m\u001b[0m\n",
      "\u001b[1;32mD:\\Anaconda3\\lib\\json\\__init__.py\u001b[0m in \u001b[0;36mload\u001b[1;34m(fp, cls, object_hook, parse_float, parse_int, parse_constant, object_pairs_hook, **kw)\u001b[0m\n\u001b[0;32m    297\u001b[0m         \u001b[0mcls\u001b[0m\u001b[1;33m=\u001b[0m\u001b[0mcls\u001b[0m\u001b[1;33m,\u001b[0m \u001b[0mobject_hook\u001b[0m\u001b[1;33m=\u001b[0m\u001b[0mobject_hook\u001b[0m\u001b[1;33m,\u001b[0m\u001b[1;33m\u001b[0m\u001b[0m\n\u001b[0;32m    298\u001b[0m         \u001b[0mparse_float\u001b[0m\u001b[1;33m=\u001b[0m\u001b[0mparse_float\u001b[0m\u001b[1;33m,\u001b[0m \u001b[0mparse_int\u001b[0m\u001b[1;33m=\u001b[0m\u001b[0mparse_int\u001b[0m\u001b[1;33m,\u001b[0m\u001b[1;33m\u001b[0m\u001b[0m\n\u001b[1;32m--> 299\u001b[1;33m         parse_constant=parse_constant, object_pairs_hook=object_pairs_hook, **kw)\n\u001b[0m\u001b[0;32m    300\u001b[0m \u001b[1;33m\u001b[0m\u001b[0m\n\u001b[0;32m    301\u001b[0m \u001b[1;33m\u001b[0m\u001b[0m\n",
      "\u001b[1;32mD:\\Anaconda3\\lib\\json\\__init__.py\u001b[0m in \u001b[0;36mloads\u001b[1;34m(s, encoding, cls, object_hook, parse_float, parse_int, parse_constant, object_pairs_hook, **kw)\u001b[0m\n\u001b[0;32m    352\u001b[0m             \u001b[0mparse_int\u001b[0m \u001b[1;32mis\u001b[0m \u001b[1;32mNone\u001b[0m \u001b[1;32mand\u001b[0m \u001b[0mparse_float\u001b[0m \u001b[1;32mis\u001b[0m \u001b[1;32mNone\u001b[0m \u001b[1;32mand\u001b[0m\u001b[1;33m\u001b[0m\u001b[0m\n\u001b[0;32m    353\u001b[0m             parse_constant is None and object_pairs_hook is None and not kw):\n\u001b[1;32m--> 354\u001b[1;33m         \u001b[1;32mreturn\u001b[0m \u001b[0m_default_decoder\u001b[0m\u001b[1;33m.\u001b[0m\u001b[0mdecode\u001b[0m\u001b[1;33m(\u001b[0m\u001b[0ms\u001b[0m\u001b[1;33m)\u001b[0m\u001b[1;33m\u001b[0m\u001b[0m\n\u001b[0m\u001b[0;32m    355\u001b[0m     \u001b[1;32mif\u001b[0m \u001b[0mcls\u001b[0m \u001b[1;32mis\u001b[0m \u001b[1;32mNone\u001b[0m\u001b[1;33m:\u001b[0m\u001b[1;33m\u001b[0m\u001b[0m\n\u001b[0;32m    356\u001b[0m         \u001b[0mcls\u001b[0m \u001b[1;33m=\u001b[0m \u001b[0mJSONDecoder\u001b[0m\u001b[1;33m\u001b[0m\u001b[0m\n",
      "\u001b[1;32mD:\\Anaconda3\\lib\\json\\decoder.py\u001b[0m in \u001b[0;36mdecode\u001b[1;34m(self, s, _w)\u001b[0m\n\u001b[0;32m    340\u001b[0m         \u001b[0mend\u001b[0m \u001b[1;33m=\u001b[0m \u001b[0m_w\u001b[0m\u001b[1;33m(\u001b[0m\u001b[0ms\u001b[0m\u001b[1;33m,\u001b[0m \u001b[0mend\u001b[0m\u001b[1;33m)\u001b[0m\u001b[1;33m.\u001b[0m\u001b[0mend\u001b[0m\u001b[1;33m(\u001b[0m\u001b[1;33m)\u001b[0m\u001b[1;33m\u001b[0m\u001b[0m\n\u001b[0;32m    341\u001b[0m         \u001b[1;32mif\u001b[0m \u001b[0mend\u001b[0m \u001b[1;33m!=\u001b[0m \u001b[0mlen\u001b[0m\u001b[1;33m(\u001b[0m\u001b[0ms\u001b[0m\u001b[1;33m)\u001b[0m\u001b[1;33m:\u001b[0m\u001b[1;33m\u001b[0m\u001b[0m\n\u001b[1;32m--> 342\u001b[1;33m             \u001b[1;32mraise\u001b[0m \u001b[0mJSONDecodeError\u001b[0m\u001b[1;33m(\u001b[0m\u001b[1;34m\"Extra data\"\u001b[0m\u001b[1;33m,\u001b[0m \u001b[0ms\u001b[0m\u001b[1;33m,\u001b[0m \u001b[0mend\u001b[0m\u001b[1;33m)\u001b[0m\u001b[1;33m\u001b[0m\u001b[0m\n\u001b[0m\u001b[0;32m    343\u001b[0m         \u001b[1;32mreturn\u001b[0m \u001b[0mobj\u001b[0m\u001b[1;33m\u001b[0m\u001b[0m\n\u001b[0;32m    344\u001b[0m \u001b[1;33m\u001b[0m\u001b[0m\n",
      "\u001b[1;31mJSONDecodeError\u001b[0m: Extra data: line 1 column 31 (char 30)"
     ]
    }
   ],
   "source": [
    "## json文件使用例2：多次dump，load时会报错。因此，实际使用时只能dump一次，load一次。\n",
    "import json\n",
    "\n",
    "info = {\n",
    "    \"name\":\"Meng Li\",\n",
    "    \"age\":23\n",
    "}\n",
    "\n",
    "# 标准序列化过程1\n",
    "f = open('test_json.txt','w') \n",
    "f.write(json.dumps(info))  #第一次dump\n",
    "info[\"age\"] = 24\n",
    "f.write(json.dumps(info))  #第二次dump\n",
    "f.close()\n",
    "\n",
    "# 标准反列化过程1，现在文件中有两个字典，load会报错\n",
    "f = open('test_json.txt','r') \n",
    "data = json.load(f)\n",
    "f.close()\n",
    "print(data['age'])"
   ]
  },
  {
   "cell_type": "markdown",
   "metadata": {},
   "source": [
    "## pickle模块概述\n",
    "因为json需要在多平台交互，功能比较简单。为了能够保存函数等其他Python数据信息，可以使用pickle模块。但是pickle只能在Python中使用。\n",
    "- pickle模块用法与json模块完全相同\n",
    "- 但pickle模块dumps()得到结果为二进制类型，需要写进二进制文件。"
   ]
  },
  {
   "cell_type": "markdown",
   "metadata": {},
   "source": [
    "## pickle模块使用\n",
    "- 序列化过程使用dumps()/dump()\n",
    "- 反序列化过程使用loads()/load()"
   ]
  },
  {
   "cell_type": "code",
   "execution_count": 4,
   "metadata": {},
   "outputs": [
    {
     "name": "stdout",
     "output_type": "stream",
     "text": [
      "23\n",
      "23\n"
     ]
    }
   ],
   "source": [
    "## pickle模块使用例1:dumps()/dump()/loads()/load()的使用\n",
    "import pickle\n",
    "\n",
    "def sayhi():\n",
    "    print('Hello!')\n",
    "\n",
    "info = {\n",
    "    \"name\":\"Meng Li\",\n",
    "    \"age\":23,\n",
    "    \"func\":sayhi  # 这里仅保存了函数名（sayhi），没有将整个函数存入字典\n",
    "}\n",
    "\n",
    "######方法一、二结果完全相同#########\n",
    "\n",
    "#############方法一################\n",
    "# 标准序列化过程1\n",
    "f = open('test_json.txt','wb') \n",
    "f.write(pickle.dumps(info))\n",
    "f.close()\n",
    "\n",
    "# 标准反列化过程1\n",
    "f = open('test_json.txt','rb') \n",
    "data = pickle.loads(f.read())\n",
    "f.close()\n",
    "print(data['age'])\n",
    "\n",
    "#############方法二################\n",
    "# 标准序列化过程2\n",
    "f = open('test_json.txt','wb') \n",
    "pickle.dump(info,f)\n",
    "f.close()\n",
    "\n",
    "# 标准反列化过程2\n",
    "f = open('test_json.txt','rb') \n",
    "data = pickle.load(f)\n",
    "f.close()\n",
    "print(data['age'])"
   ]
  }
 ],
 "metadata": {
  "kernelspec": {
   "display_name": "Python 3",
   "language": "python",
   "name": "python3"
  },
  "language_info": {
   "codemirror_mode": {
    "name": "ipython",
    "version": 3
   },
   "file_extension": ".py",
   "mimetype": "text/x-python",
   "name": "python",
   "nbconvert_exporter": "python",
   "pygments_lexer": "ipython3",
   "version": "3.6.3"
  }
 },
 "nbformat": 4,
 "nbformat_minor": 2
}
