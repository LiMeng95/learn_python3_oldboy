{
 "cells": [
  {
   "cell_type": "markdown",
   "metadata": {},
   "source": [
    "## 本部分简介\n",
    "1. class 和 object\n",
    "2. 封装\n",
    "3. 继承\n",
    "4. 多态\n",
    "\n",
    "[本部分参考网页](http://www.cnblogs.com/alex3714/articles/5188179.html)"
   ]
  },
  {
   "cell_type": "markdown",
   "metadata": {},
   "source": [
    "## class 和 object\n",
    "- class（类）：具有相同属性的对象的抽象。即原型、蓝图。类中定义了这些对象的都具备的属性（variables(data)）、共同的方法。\n",
    "- object（对象）：对象即是一个类的实例化后的实例。一个类必须经过实例化后方可在程序中调用，一个类可以实例化多个对象，每个对象亦可以有不同的属性，就像人类是指所有人，每个人是指具体的对象，人与人之前有共性，亦有不同。"
   ]
  },
  {
   "cell_type": "markdown",
   "metadata": {},
   "source": [
    "## 封装 Encapsulation\n",
    "类中对数据的赋值、内部调用对外部用户是透明的，这使类变成了一个胶囊或容器，里面包含着类的数据和方法。\n",
    "\n",
    "封装过程使得类的内部部分数据和操作对外部不可见。 \n",
    "\n",
    "**可以通过私有方法和私有属性实现封装**"
   ]
  },
  {
   "cell_type": "markdown",
   "metadata": {},
   "source": [
    "## 继承 Inheritance\n",
    "一个类可以派生出子类，在这个父类里定义的属性、方法自动被子类继承。\n",
    "\n",
    "继承使得类得以派生。 "
   ]
  },
  {
   "cell_type": "markdown",
   "metadata": {},
   "source": [
    "## 多态 Polymorphism\n",
    "多态是面向对象的重要特性,简单点说:“一个接口，多种实现”，指一个基类中派生出了不同的子类，且**每个子类在继承了同样的方法名的同时又对父类的方法做了不同的实现**，这就是同一种事物表现出的多种形态。\n",
    "\n",
    "多态允许将子类的对象当作父类的对象使用，某父类型的引用指向其子类型的对象,调用的方法是该子类型的方法。这里引用和调用方法的代码编译前就已经决定了,而引用所指向的对象可以在运行期间动态绑定。"
   ]
  }
 ],
 "metadata": {
  "kernelspec": {
   "display_name": "Python 3",
   "language": "python",
   "name": "python3"
  },
  "language_info": {
   "codemirror_mode": {
    "name": "ipython",
    "version": 3
   },
   "file_extension": ".py",
   "mimetype": "text/x-python",
   "name": "python",
   "nbconvert_exporter": "python",
   "pygments_lexer": "ipython3",
   "version": "3.6.3"
  }
 },
 "nbformat": 4,
 "nbformat_minor": 2
}
