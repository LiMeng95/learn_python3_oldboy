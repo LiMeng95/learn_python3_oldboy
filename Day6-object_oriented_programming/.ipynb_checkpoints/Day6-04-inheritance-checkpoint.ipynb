{
 "cells": [
  {
   "cell_type": "markdown",
   "metadata": {},
   "source": [
    "## 本部分简介\n",
    "1. 继承概述\n",
    "2. 继承简单实现\n",
    "3. 子类初始化\n",
    "4. 新式类与多继承\n",
    "\n",
    "[本部分参考网页](http://www.cnblogs.com/alex3714/articles/5188179.html)"
   ]
  },
  {
   "cell_type": "markdown",
   "metadata": {},
   "source": [
    "## 继承概述\n",
    "继承是指：它可以使用现有类的所有功能，并在无需重新编写原来的类的情况下，对这些功能进行扩展。\n",
    "\n",
    "- 通过继承创建的新类称为“子类”或“派生类”。\n",
    "- 被继承的类称为“基类”、“父类”或“超类”。\n",
    "\n",
    "继承的过程，就是从一般到特殊的过程。OOP开发范式大致为：划分对象→抽象类→将类组织成为层次化结构(继承和合成) →用类与实例进行设计和实现几个阶段。"
   ]
  },
  {
   "cell_type": "markdown",
   "metadata": {},
   "source": [
    "## 继承简单实现"
   ]
  },
  {
   "cell_type": "code",
   "execution_count": 10,
   "metadata": {},
   "outputs": [
    {
     "name": "stdout",
     "output_type": "stream",
     "text": [
      "Meng is eating...\n",
      "Meng is sleeping...\n",
      "Meng is dreaming...\n"
     ]
    },
    {
     "data": {
      "text/plain": [
       "25"
      ]
     },
     "execution_count": 10,
     "metadata": {},
     "output_type": "execute_result"
    }
   ],
   "source": [
    "# 继承简单实现\n",
    "class People:  # 父类，经典类\n",
    "    \n",
    "    def __init__(self,name,age):\n",
    "        self.name = name\n",
    "        self.age = age\n",
    "    \n",
    "    def eat(self):\n",
    "        print(\"%s is eating...\" %self.name)\n",
    "\n",
    "    def sleep(self):\n",
    "        print(\"%s is sleeping...\" %self.name)\n",
    "\n",
    "    def talk(self):\n",
    "        print(\"%s is talking...\" %self.name)\n",
    "\n",
    "# 子类，从People继承，经典类\n",
    "class Man(People):\n",
    "    \n",
    "    def drive(self):\n",
    "        print(\"%s is driving...\" %self.name)  # 子类新的方法\n",
    "    \n",
    "    def sleep(self):  # 重构父类方法\n",
    "        People.sleep(self)  # 首先调用父类方法\n",
    "        print(\"%s is dreaming...\" %self.name)  # 然后给父类加上新方法\n",
    "\n",
    "# 子类，从People继承，经典类\n",
    "class Women(People): \n",
    "    \n",
    "    def shopping(self):\n",
    "        print(\"%s is shopping...\" %self.name)  # 子类新的方法\n",
    "    \n",
    "    def sleep(self):  # 重构父类方法\n",
    "        People.sleep(self)  # 首先调用父类方法\n",
    "        print(\"%s is dreaming...\" %self.name)  # 然后给父类加上新方法\n",
    "\n",
    "m1 = Man('Meng',23)\n",
    "m1.eat()\n",
    "m1.sleep()\n",
    "\n",
    "w1 = Women('ABC',25)\n",
    "w1.age"
   ]
  },
  {
   "cell_type": "markdown",
   "metadata": {},
   "source": [
    "## 子类初始化\n",
    "希望在不同的子类加入不同的参数进行初始化，且不覆盖父类的初始化过程。\n",
    "\n",
    "**在子类中初始化父类中有两种方法**，效果相同：\n",
    "```python\n",
    "- People.__init__(self,name,age)  # 方法一\n",
    "- super(Man,self).__init__(name,age)  # 方法二，比较方便，省去写父类的步骤\n",
    "```"
   ]
  },
  {
   "cell_type": "code",
   "execution_count": 12,
   "metadata": {},
   "outputs": [
    {
     "data": {
      "text/plain": [
       "'InnerMongolia'"
      ]
     },
     "execution_count": 12,
     "metadata": {},
     "output_type": "execute_result"
    }
   ],
   "source": [
    "# 子类加参数继承\n",
    "class People:  # 父类，经典类\n",
    "    \n",
    "    def __init__(self,name,age):\n",
    "        self.name = name\n",
    "        self.age = age\n",
    "    \n",
    "    def eat(self):\n",
    "        print(\"%s is eating...\" %self.name)\n",
    "\n",
    "    def sleep(self):\n",
    "        print(\"%s is sleeping...\" %self.name)\n",
    "\n",
    "    def talk(self):\n",
    "        print(\"%s is talking...\" %self.name)\n",
    "\n",
    "# 子类，从People继承，经典类\n",
    "class Man(People):\n",
    "    \n",
    "    def __init__(self,name,age,hometown):  # 子类初始化时先调用这个函数\n",
    "        #People.__init__(self,name,age)  # 先初始化父类（方法一）\n",
    "        super(Man,self).__init__(name,age)  # 先初始化父类（方法二）\n",
    "        self.hometown = hometown  # 再初始化子类\n",
    "    \n",
    "    def drive(self):\n",
    "        print(\"%s is driving...\" %self.name)  # 子类新的方法\n",
    "    \n",
    "    def sleep(self):  # 重构父类方法\n",
    "        People.sleep(self)  # 首先调用父类方法\n",
    "        print(\"%s is dreaming...\" %self.name)  # 然后给父类加上新方法\n",
    "\n",
    "m1 = Man('Meng',23,'InnerMongolia')\n",
    "m1.hometown"
   ]
  },
  {
   "cell_type": "markdown",
   "metadata": {},
   "source": [
    "## 多继承与新式类\n",
    "- 多继承\n",
    "\n",
    "Python中支持多继承，即一个类可以从多个类中继承。当实例本身有```__init__(self)``` 的时候，会先执行自己的```__init__(self)``` 函数。当实例本身没有```__init__(self)```的时候，它会去找父类中的```__init__(self)```函数，此时有不同的继承策略。查询策略super函数,或者默认进行。\n",
    "\n",
    "- 新式类\n",
    "\n",
    "新式类是对经典类的一个改进。新式类在类名后面加入了“object”。类似于Python3与Python2.7之间的关系。以后要尽量都用新式类。\n",
    "\n",
    "新式类中加入了super函数，在经典类中也能用\n",
    "\n",
    "**新式类与经典类的不同：**\n",
    "- 在Python2的继承中，新式类与经典类，继承顺序有所不同：\n",
    " - 当类是经典类时，多继承情况下，会按照深度优先方式查找\n",
    " - 当类是新式类时，多继承情况下，会按照广度优先方式查找\n",
    "- 在Python3的继承中，新式类与经典类中均按照广度优先方式查找"
   ]
  },
  {
   "cell_type": "code",
   "execution_count": 23,
   "metadata": {},
   "outputs": [
    {
     "data": {
      "text/plain": [
       "'Meng'"
      ]
     },
     "execution_count": 23,
     "metadata": {},
     "output_type": "execute_result"
    }
   ],
   "source": [
    "# 新式类与多继承\n",
    "class People(object):  # 父类1，新式类\n",
    "    \n",
    "    def __init__(self,name,age):\n",
    "        self.name = name\n",
    "        self.age = age\n",
    "    \n",
    "    def eat(self):\n",
    "        print(\"%s is eating...\" %self.name)\n",
    "\n",
    "    def sleep(self):\n",
    "        print(\"%s is sleeping...\" %self.name)\n",
    "\n",
    "    def talk(self):\n",
    "        print(\"%s is talking...\" %self.name)\n",
    "\n",
    "# 新式类\n",
    "class Pet(object):  # 父类2，新式类\n",
    "    \n",
    "    def __init__(self,name,age):\n",
    "        self.Name = name\n",
    "        self.Age = age\n",
    "    \n",
    "    def run(self):\n",
    "        print(\"%s is running...\" %self.name)\n",
    "\n",
    "# 子类，从People和Pet继承，新式类\n",
    "class Man(People,Pet):\n",
    "    \n",
    "    def __init__(self,name,age,hometown,pet_name,pet_age):  # 子类初始化时先调用这个函数\n",
    "        ###############################################################\n",
    "        # 若想将两个父类同时初始化，可用这种方法：\n",
    "        #People.__init__(self,name,age)  # 初始化父类1\n",
    "        #Pet.__init__(self,pet_name,pet_age)  # 初始化父类2\n",
    "        ###############################################################\n",
    "        super(Man,self).__init__(name,age)  # 按默认路径搜索可用这种方法\n",
    "        self.hometown = hometown  # 再初始化子类\n",
    "    \n",
    "    def drive(self):\n",
    "        print(\"%s is driving...\" %self.name)\n",
    "    \n",
    "    def sleep(self):\n",
    "        People.sleep(self)\n",
    "        print(\"%s is dreaming...\" %self.name)\n",
    "\n",
    "m1 = Man('Meng',23,'InnerMongolia','qq','1')\n",
    "m1.name"
   ]
  },
  {
   "cell_type": "markdown",
   "metadata": {},
   "source": [
    "## 继承实例\n",
    "三个类，学校、讲师、学员。学校具有名称、地址属性。同时讲师、学员各自具有功能。"
   ]
  },
  {
   "cell_type": "code",
   "execution_count": 18,
   "metadata": {
    "scrolled": true
   },
   "outputs": [
    {
     "name": "stdout",
     "output_type": "stream",
     "text": [
      "\n",
      "---- info of teacher: Meng ----\n",
      "Name: Meng\n",
      "Age: 23\n",
      "Sex: M\n",
      "Salary: 3\n",
      "Course: Python3\n",
      "\n",
      "--------------------\n",
      "Hiring for teacher :Meng ...\n",
      "Meng is teaching...\n",
      "--------------------\n",
      "\n",
      "---- info of student: BBB ----\n",
      "Name: BBB\n",
      "Age: 12\n",
      "Sex: F\n",
      "Stu_id: 1001\n",
      "Grade: G-2\n",
      "\n",
      "Enrolling for student :BBB ...\n",
      "BBB has paid tuiton for $1000\n"
     ]
    }
   ],
   "source": [
    "# 继承实例\n",
    "class School(object):\n",
    "    def __init__(self,name,addr):\n",
    "        self.name = name\n",
    "        self.addr = addr\n",
    "        self.teachers = []\n",
    "        self.students = []\n",
    "    \n",
    "    def enrool(self,stu_object):\n",
    "        print(\"Enrolling for student :%s ...\" %stu_object.name)\n",
    "        self.students.append(stu_object)\n",
    "    \n",
    "    def hire(self,tea_object):\n",
    "        print(\"Hiring for teacher :%s ...\" %tea_object.name)\n",
    "        self.teachers.append(tea_object)\n",
    "\n",
    "class SchoolMember(object):\n",
    "    def __init__(self,name,age,sex):\n",
    "        self.name = name\n",
    "        self.age = age\n",
    "        self.sex = sex \n",
    "        \n",
    "    def tell(self):\n",
    "        pass\n",
    "\n",
    "# 子类\n",
    "class Teacher(SchoolMember):\n",
    "    def __init__(self,name,age,sex,salary,course):\n",
    "        super(Teacher,self).__init__(name,age,sex)\n",
    "        self.salary = salary\n",
    "        self.course = course\n",
    "        \n",
    "    def tell(self):\n",
    "        print(\"\"\"\n",
    "---- info of teacher: %s ----\n",
    "Name: %s\n",
    "Age: %s\n",
    "Sex: %s\n",
    "Salary: %s\n",
    "Course: %s\n",
    "\"\"\" %(self.name, self.name, self.age, self.sex, self.salary, self.course))\n",
    "    \n",
    "    def teach(self):\n",
    "        print(\"%s is teaching...\" %self.name)\n",
    "\n",
    "# 子类\n",
    "class Student(SchoolMember): \n",
    "    def __init__(self,name,age,sex,stu_id,grade):\n",
    "        super(Student,self).__init__(name,age,sex)\n",
    "        self.stu_id = stu_id\n",
    "        self.grade = grade\n",
    "    \n",
    "    def tell(self):\n",
    "        print(\"\"\"\n",
    "---- info of student: %s ----\n",
    "Name: %s\n",
    "Age: %s\n",
    "Sex: %s\n",
    "Stu_id: %s\n",
    "Grade: %s\n",
    "\"\"\" %(self.name, self.name, self.age, self.sex, self.stu_id, self.grade))\n",
    "    \n",
    "    def pay_tuition(self,amount):\n",
    "        print(\"%s has paid tuiton for $%s\" %(self.name,amount))\n",
    "\n",
    "school = School(\"Xinhua School\",\"Nanshan District\")\n",
    "t1 = Teacher(\"Meng\",\"23\",\"M\",\"3\",\"Python3\")\n",
    "t2 = Teacher(\"AAA\",\"25\",\"M\",\"2\",\"Python2\")\n",
    "s1 = Student(\"BBB\",\"12\",\"F\",\"1001\",\"G-2\")\n",
    "s2 = Student(\"CCC\",\"13\",\"M\",\"1002\",\"G-3\")\n",
    "\n",
    "t1.tell()\n",
    "print(''.center(20,'-'))\n",
    "school.hire(t1)\n",
    "school.teachers[0].teach()\n",
    "print(''.center(20,'-'))\n",
    "s1.tell()\n",
    "school.enrool(s1)\n",
    "school.students[0].pay_tuition(1000)"
   ]
  },
  {
   "cell_type": "code",
   "execution_count": null,
   "metadata": {
    "collapsed": true
   },
   "outputs": [],
   "source": []
  }
 ],
 "metadata": {
  "kernelspec": {
   "display_name": "Python 3",
   "language": "python",
   "name": "python3"
  },
  "language_info": {
   "codemirror_mode": {
    "name": "ipython",
    "version": 3
   },
   "file_extension": ".py",
   "mimetype": "text/x-python",
   "name": "python",
   "nbconvert_exporter": "python",
   "pygments_lexer": "ipython3",
   "version": "3.6.3"
  }
 },
 "nbformat": 4,
 "nbformat_minor": 2
}
