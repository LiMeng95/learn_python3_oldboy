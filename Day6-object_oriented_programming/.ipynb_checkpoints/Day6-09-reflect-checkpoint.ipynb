{
 "cells": [
  {
   "cell_type": "markdown",
   "metadata": {},
   "source": [
    "## 本部分简介\n",
    "1. 反射概述\n",
    "\n",
    "[本部分参考网页](http://www.cnblogs.com/alex3714/articles/5213184.html)"
   ]
  },
  {
   "cell_type": "markdown",
   "metadata": {},
   "source": [
    "## 反射方法\n",
    "\n",
    "- 通过字符串映射或修改程序运行时的状态、属性、方法, 有以下4个方法：\n",
    "  - getattr(object, name, default=None)  # 返回object中name字符串对应的方法或属性的内存地址，若为方法则可调用\n",
    "  - hasattr(object,name)  # 判断object中有没有一个name字符串对应的方法或属性\n",
    "  - setattr(x, y, v)  # 这里x是对象，y是字符串，v是一个值。x,'y'=v。实现了在类中动态装配方法或属性\n",
    "  - delattr(x, y)  # 删除object x 中name字符串对应的方法或属性\n",
    "\n",
    "- 使用场景：\n",
    "\n",
    "若一个类有多种方法，根据用户输入的字符串，动态进行内存装配。在用户交互时很有用。上面四个方法一般混合使用。"
   ]
  },
  {
   "cell_type": "code",
   "execution_count": 6,
   "metadata": {},
   "outputs": [
    {
     "name": "stdout",
     "output_type": "stream",
     "text": [
      ">>:fd\n",
      "fd has benn setted in class <__main__.Dog object at 0x0000000005F5A7B8>\n",
      "AAA is yelling\n",
      "--------------------\n",
      "fd has benn setted in class <__main__.Dog object at 0x0000000005F5A7B8>\n",
      "6\n"
     ]
    }
   ],
   "source": [
    "# 反射\n",
    "class Dog(object):\n",
    "    '''Dog类的描述信息'''\n",
    "    def __init__(self,name):\n",
    "        self.name = name\n",
    "    \n",
    "    def eat(self,food):\n",
    "        print(\"%s is eating %s\" % (self.name, food))\n",
    "\n",
    "d = Dog(\"AAA\")\n",
    "choice = input(\">>:\").strip()\n",
    "\n",
    "def talk(self):\n",
    "    print(\"%s is yelling\" % self.name)\n",
    "\n",
    "age = 6\n",
    "\n",
    "if hasattr(d,choice):  # 判断有没有choice方法\n",
    "    f = getattr(d,choice)  # 返回方法的内存地址或属性的值\n",
    "    if(hasattr(f, '__call__')):\n",
    "        f('bone')\n",
    "    else:\n",
    "        print(f)\n",
    "else:\n",
    "    setattr(d, choice, talk)  # 动态装配方法\n",
    "    print(\"%s has benn setted in class %s\" % (choice,d))  # 装载进新的方法\n",
    "    getattr(d,choice)(d)  # 执行装配进的方法，并需要传入实例\n",
    "    \n",
    "    delattr(d,choice)  # 删除d中的choice方法\n",
    "    \n",
    "    print(''.center(20,'-'))\n",
    "    setattr(d, choice, age)  # 动态装配属性\n",
    "    print(\"%s has benn setted in class %s\" % (choice,d))  # 装载进新的属性\n",
    "    print(getattr(d,choice))"
   ]
  }
 ],
 "metadata": {
  "kernelspec": {
   "display_name": "Python 3",
   "language": "python",
   "name": "python3"
  },
  "language_info": {
   "codemirror_mode": {
    "name": "ipython",
    "version": 3
   },
   "file_extension": ".py",
   "mimetype": "text/x-python",
   "name": "python",
   "nbconvert_exporter": "python",
   "pygments_lexer": "ipython3",
   "version": "3.6.3"
  }
 },
 "nbformat": 4,
 "nbformat_minor": 2
}
