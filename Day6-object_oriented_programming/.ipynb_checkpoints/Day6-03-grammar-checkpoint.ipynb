{
 "cells": [
  {
   "cell_type": "markdown",
   "metadata": {},
   "source": [
    "## 本部分简介\n",
    "1. 类的定义、属性、方法及实例化例子\n",
    "1. 类变量，实例变量\n",
    "2. 构造函数\n",
    "3. 析构函数\n",
    "4. 私有方法\n",
    "5. 私有属性\n",
    "\n",
    "[本部分参考网页](http://www.cnblogs.com/alex3714/articles/5188179.html)"
   ]
  },
  {
   "cell_type": "markdown",
   "metadata": {},
   "source": [
    "## 类的定义、属性、方法及实例化例子\n",
    "把一个类编程具体对象的过程叫实例化。"
   ]
  },
  {
   "cell_type": "code",
   "execution_count": 7,
   "metadata": {},
   "outputs": [
    {
     "name": "stdout",
     "output_type": "stream",
     "text": [
      "www---,A\n",
      "www---,B\n"
     ]
    }
   ],
   "source": [
    "# 类的定义、属性、方法及实例化 例1\n",
    "\n",
    "# 类的定义\n",
    "class Dog:\n",
    "    n  = 123  # 类变量（类的静态属性）\n",
    "    def __init__(self,name,age): \n",
    "        self.name = name  # 实例变量（类的静态属性）\n",
    "        self.age = age\n",
    "    \n",
    "    def bulk(self):  # 类的方法（动态属性）\n",
    "        print(\"www---,%s\" % self.name)\n",
    "\n",
    "# 类的实例化（类的初始化）：生成对象\n",
    "d1 = Dog(\"A\",12)  # d1为Dog类的实例\n",
    "d2 = Dog(\"B\",3)\n",
    "\n",
    "d1.bulk()  # 对象中函数的调用\n",
    "d2.bulk()"
   ]
  },
  {
   "cell_type": "markdown",
   "metadata": {},
   "source": [
    "## 构造函数\n",
    "**格式**：\\__init\\__(self,******,******)\n",
    "\n",
    "**作用**：在实例化时，做一些类的初始化工作。\n",
    "\n",
    "构造函数在程序解释时候会执行，给类的名称分配一个内存地址。\n",
    "\n",
    "当类中没有构造函数时，会默认给self值。\n",
    "\n",
    "**实例化过程：**\n",
    "- python首先会自动把这个实例的参数（如“\"A\",12”）以及实例的变量名（如“d1”），同时通过self等参数传进类（如“Dog”）；\n",
    "- 然后使用构造函数，其中self相当于实例的变量名（如“d1”），建立了对象（如“d1”），并给该对象通过初始化参数（如“\"A\",12”）进行赋值。\n",
    "- 最后，将对象返回，完成构造。\n",
    "- 实例化中，类中的函数（如“bulk(self)”）没有返回到实例中，而是直接存在类的内存中。实例在调用函数的时候直接在类的内存中调用。实例的信息保存在类里面函数的参数self中。"
   ]
  },
  {
   "cell_type": "code",
   "execution_count": 5,
   "metadata": {},
   "outputs": [
    {
     "name": "stdout",
     "output_type": "stream",
     "text": [
      "<class '__main__.Dog'>\n",
      "<__main__.Dog object at 0x00000000058B32E8>\n"
     ]
    }
   ],
   "source": [
    "class Dog:\n",
    "    def __init__(self,name,age): #  构造函数，做初始化工作。self用于接收变量名。\n",
    "        self.name = name\n",
    "        self.age = age\n",
    "    \n",
    "    def bulk(self):\n",
    "        print(\"www---,%s\" % self.name)\n",
    "\n",
    "print(Dog)  # 类的名称具有内存地址\n",
    "d1 = Dog(\"A\",12)\n",
    "print(d1)  # 实例化后，开辟空间，存上数据"
   ]
  },
  {
   "cell_type": "markdown",
   "metadata": {},
   "source": [
    "## 类变量，实例变量\n",
    "**实例变量的作用**：分清不同实例的特点\n",
    "\n",
    "**类变量的作用**：共有属性，节省开销\n",
    "\n",
    "**使用原则：**\n",
    "- 当同时有实例变量和类变量时，先找实例变量，再找类变量\n",
    "- 在类中增加、查询、修改、删除（del）变量,仅找类变量中的内容。在类中不能修改实例变量\n",
    "- 在实例中增加、修改、删除（del）变量,仅找实例变量中的内容。在实例中查询，先找实例变量，再找类变量。"
   ]
  },
  {
   "cell_type": "code",
   "execution_count": 55,
   "metadata": {
    "scrolled": true
   },
   "outputs": [
    {
     "name": "stdout",
     "output_type": "stream",
     "text": [
      "--------------------\n",
      "1\n",
      "12\n",
      "10\n",
      "--------------------\n",
      "[123]\n",
      "2\n",
      "[123]\n",
      "[123]\n",
      "--------------------\n",
      "[2, 1]\n",
      "[2, 1]\n",
      "[2, 1]\n"
     ]
    }
   ],
   "source": [
    "class Dog:\n",
    "    n = [123]  # 类变量，类初始化时赋值给类。保存在类的内存中，不实例化也可以调用。\n",
    "    n_list = [2]\n",
    "    def __init__(self,name,age):\n",
    "        self.name = name  #实例变量，实例初始化时赋值给实例。实例变量作用域为实例本身。保存在实例的内存中\n",
    "        self.age = age\n",
    "    \n",
    "    def bulk(self):\n",
    "        print(\"www---,%s\" % self.name)\n",
    "        print(\"www---,%s\" % self.n)  # 当同时有实例变量和类变量时，先找实例变量，再找类变量\n",
    "\n",
    "d1 = Dog(\"A\",12)\n",
    "d2 = Dog(\"B\",10)\n",
    "\n",
    "# 在类中增加、查询、修改、删除（del）变量,仅找类变量中的内容。在类中不能修改实例变量\n",
    "print(\"\".center(20,'-'))\n",
    "Dog.age = 1\n",
    "print(Dog.age)\n",
    "print(d1.age)\n",
    "print(d2.age)\n",
    "\n",
    "# 在实例中增加、修改、删除（del）变量,仅找实例变量中的内容。在实例中查询，先找实例变量，再找类变量。\n",
    "print(\"\".center(20,'-'))\n",
    "d1.n = 2  # 这步实际上是给d1增加了一个实例变量，不修改类变量\n",
    "print(Dog.n)\n",
    "print(d1.n)\n",
    "del d1.n  # 这步实际上是给删除了d1的实例变量，不修改类变量\n",
    "print(d1.n)\n",
    "print(d2.n)\n",
    "\n",
    "print(\"\".center(20,'-'))\n",
    "d1.n_list.append(1)  # 在实例中，对类变量中的列表进行操作，实际上是经过了查询过程，调用了列表的地址。\n",
    "print(Dog.n_list)\n",
    "print(d1.n_list)\n",
    "print(d2.n_list)"
   ]
  },
  {
   "cell_type": "markdown",
   "metadata": {},
   "source": [
    "## 析构函数\n",
    "**格式**：\\__del\\__(self):\n",
    "\n",
    "**作用**：与构造函数相反，在实例释放或销毁时自动执行，不传参数。通常用于类的收尾工作，例如关闭一些数据库链接、打开的临时文件等。"
   ]
  },
  {
   "cell_type": "code",
   "execution_count": 65,
   "metadata": {
    "scrolled": true
   },
   "outputs": [
    {
     "name": "stdout",
     "output_type": "stream",
     "text": [
      "Over...,A\n",
      "Over...,B\n"
     ]
    }
   ],
   "source": [
    "class Dog:\n",
    "    n = 123\n",
    "    def __init__(self,name,age):\n",
    "        self.name = name\n",
    "        self.age = age\n",
    "    \n",
    "    def bulk(self):\n",
    "        print(\"www---,%s\" % self.name)\n",
    "    \n",
    "    def __del__(self):  # 析构函数，程序退出或者销毁时自动执行\n",
    "        print(\"Over...,%s\" % self.name)\n",
    "\n",
    "d1 = Dog(\"A\",12)\n",
    "d2 = Dog(\"B\",10)\n",
    "del d1\n",
    "del d2"
   ]
  },
  {
   "cell_type": "markdown",
   "metadata": {},
   "source": [
    "## 私有属性\n",
    "私有即外面不能访问，在类的内部，可以通过“self.”的形式访问"
   ]
  },
  {
   "cell_type": "code",
   "execution_count": 78,
   "metadata": {},
   "outputs": [
    {
     "name": "stdout",
     "output_type": "stream",
     "text": [
      "aaa--->12\n",
      "aaa--->1\n"
     ]
    },
    {
     "ename": "AttributeError",
     "evalue": "'Dog' object has no attribute '__age'",
     "output_type": "error",
     "traceback": [
      "\u001b[1;31m---------------------------------------------------------------------------\u001b[0m",
      "\u001b[1;31mAttributeError\u001b[0m                            Traceback (most recent call last)",
      "\u001b[1;32m<ipython-input-78-747030a8a46a>\u001b[0m in \u001b[0;36m<module>\u001b[1;34m()\u001b[0m\n\u001b[0;32m     20\u001b[0m \u001b[0md1\u001b[0m\u001b[1;33m.\u001b[0m\u001b[0mchange_age\u001b[0m\u001b[1;33m(\u001b[0m\u001b[1;36m1\u001b[0m\u001b[1;33m)\u001b[0m  \u001b[1;31m# 内部函数修改\u001b[0m\u001b[1;33m\u001b[0m\u001b[0m\n\u001b[0;32m     21\u001b[0m \u001b[0md1\u001b[0m\u001b[1;33m.\u001b[0m\u001b[0mshow\u001b[0m\u001b[1;33m(\u001b[0m\u001b[1;33m)\u001b[0m\u001b[1;33m\u001b[0m\u001b[0m\n\u001b[1;32m---> 22\u001b[1;33m \u001b[0mprint\u001b[0m\u001b[1;33m(\u001b[0m\u001b[0md1\u001b[0m\u001b[1;33m.\u001b[0m\u001b[0m__age\u001b[0m\u001b[1;33m)\u001b[0m  \u001b[1;31m# 外部不能访问\u001b[0m\u001b[1;33m\u001b[0m\u001b[0m\n\u001b[0m",
      "\u001b[1;31mAttributeError\u001b[0m: 'Dog' object has no attribute '__age'"
     ]
    }
   ],
   "source": [
    "class Dog:\n",
    "    n = 123\n",
    "    def __init__(self,name,age):\n",
    "        self.name = name\n",
    "        self.__age = age  # 加上两个下划线变成私有属性\n",
    "    \n",
    "    def bulk(self):\n",
    "        print(\"www---,%s\" % self.name)\n",
    "    \n",
    "    def show(self):\n",
    "        print(\"aaa--->%s\" % self.__age)  # 定义一个方法，可以访问或者修改私有属性\n",
    "    \n",
    "    def change_age(self,new_age): # 定义一个方法，可以访问或者修改私有属性\n",
    "        self.__age = new_age\n",
    "\n",
    "d1 = Dog(\"A\",12)\n",
    "d2 = Dog(\"B\",10)\n",
    "\n",
    "d1.show()\n",
    "d1.change_age(1)  # 内部函数修改\n",
    "d1.show()\n",
    "print(d1.__age)  # 外部不能访问"
   ]
  },
  {
   "cell_type": "markdown",
   "metadata": {},
   "source": [
    "## 私有方法\n",
    "私有即外面不能访问，在类的内部，可以通过“self.”的形式访问"
   ]
  },
  {
   "cell_type": "code",
   "execution_count": 79,
   "metadata": {},
   "outputs": [
    {
     "name": "stdout",
     "output_type": "stream",
     "text": [
      "www---,A\n",
      "aaa---,12\n"
     ]
    }
   ],
   "source": [
    "class Dog:\n",
    "    n = 123\n",
    "    def __init__(self,name,age):\n",
    "        self.name = name\n",
    "        self.age = age\n",
    "        \n",
    "    def bulk(self):\n",
    "        print(\"www---,%s\" % self.name)\n",
    "        self.__show()\n",
    "            \n",
    "    def __show(self):\n",
    "        print(\"aaa---,%s\" % self.age)\n",
    "\n",
    "d1 = Dog(\"A\",12)\n",
    "d2 = Dog(\"B\",10)\n",
    "\n",
    "d1.bulk()"
   ]
  }
 ],
 "metadata": {
  "kernelspec": {
   "display_name": "Python 3",
   "language": "python",
   "name": "python3"
  },
  "language_info": {
   "codemirror_mode": {
    "name": "ipython",
    "version": 3
   },
   "file_extension": ".py",
   "mimetype": "text/x-python",
   "name": "python",
   "nbconvert_exporter": "python",
   "pygments_lexer": "ipython3",
   "version": "3.6.3"
  }
 },
 "nbformat": 4,
 "nbformat_minor": 2
}
