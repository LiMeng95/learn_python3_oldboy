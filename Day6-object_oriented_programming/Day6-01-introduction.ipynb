{
 "cells": [
  {
   "cell_type": "markdown",
   "metadata": {},
   "source": [
    "## 本部分简介\n",
    "1. 面向过程 VS 面向对象\n",
    "\n",
    "[本部分参考网页](http://www.cnblogs.com/alex3714/articles/5188179.html)"
   ]
  },
  {
   "cell_type": "markdown",
   "metadata": {},
   "source": [
    "## 面向过程 VS 面向对象\n",
    "编程是用特定的语法+数据结构+算法组成的代码来告诉计算机如何执行任务的过程。实现一个任务的方式有很多种，即编程范式。**两种最重要的编程范式分别是面向过程编程和面向对象编程。**，另外还有函数式编程。\n",
    "#### 面向过程编程(Procedural Programming)\n",
    "Procedural programming uses a list of instructions to tell the computer what to do step-by-step. 面向过程从上到下一步步执行，从头到尾的解决问题。\n",
    "- 缺点：维护难度高\n",
    "\n",
    "因此，若是一些简单的脚本或做一次性任务，适合用面向过程。\n",
    "若处理的任务比较复杂，且需要不断迭代和维护，适合用面向对象\n",
    "#### 面向对象编程(Object Oriented Programming)\n",
    "OOP编程是利用“类（class）”和“对象（object）”来创建各种模型来实现对真实世界的描述。\n",
    "- 优点1：使用面向对象编程的原因一方面是因为它可以使程序的维护和扩展变得更简单，并且可以大大提高程序开发效率 \n",
    "- 优点2：另外，基于面向对象的程序可以使它人更加容易理解你的代码逻辑，从而使团队开发变得更从容。\n",
    "\n",
    ">世界万物，皆可分类\n",
    "\n",
    ">世界万物，皆为对象\n",
    "\n",
    ">只要是对象，就一定属于某种品类\n",
    "\n",
    "**无论用什么形式来编程，我们都要明确记住以下原则：**\n",
    "1. 写重复代码是非常不好的低级行为\n",
    "2. 你写的代码需要经常变更 \n",
    "\n",
    "函数编程与OOP的主要区别就是OOP可以使程序更加容易扩展和易更改。"
   ]
  }
 ],
 "metadata": {
  "kernelspec": {
   "display_name": "Python 3",
   "language": "python",
   "name": "python3"
  },
  "language_info": {
   "codemirror_mode": {
    "name": "ipython",
    "version": 3
   },
   "file_extension": ".py",
   "mimetype": "text/x-python",
   "name": "python",
   "nbconvert_exporter": "python",
   "pygments_lexer": "ipython3",
   "version": "3.6.3"
  }
 },
 "nbformat": 4,
 "nbformat_minor": 2
}
