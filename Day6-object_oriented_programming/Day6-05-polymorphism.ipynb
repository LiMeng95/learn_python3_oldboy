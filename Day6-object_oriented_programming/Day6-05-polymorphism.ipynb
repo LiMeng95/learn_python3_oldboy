{
 "cells": [
  {
   "cell_type": "markdown",
   "metadata": {},
   "source": [
    "## 本部分简介\n",
    "1. 多态概述\n",
    "2. Python中多态的实现\n",
    "3. 多态实现\n",
    "\n",
    "[本部分参考网页](http://www.cnblogs.com/alex3714/articles/5188179.html)"
   ]
  },
  {
   "cell_type": "markdown",
   "metadata": {},
   "source": [
    "## 多态概述\n",
    "多态是指：允许你将父对象设置成为和一个或更多的他的子对象相等的技术，即：允许将子类类型的指针赋值给父类类型的指针，实现了接口重用。**一个接口，多种实现**\n",
    "\n",
    "Pyhon 很多语法都是支持多态的，比如 len(),sorted(), 你给len传字符串就返回字符串的长度，传列表就返回列表长度。"
   ]
  },
  {
   "cell_type": "markdown",
   "metadata": {},
   "source": [
    "## Python中多态的实现\n",
    "Python中的多态实现和C++中多态的实现不同。由于Python是解释性语言并且Python中变量是弱类型的，所以Python中的多态也是弱类型的。"
   ]
  },
  {
   "cell_type": "markdown",
   "metadata": {},
   "source": [
    "## 多态实现\n",
    "两种方法：\n",
    "- 方法一：在父类中加入一个多态函数\n",
    "- 方法二：直接在程序中定义一个多态函数"
   ]
  },
  {
   "cell_type": "code",
   "execution_count": 2,
   "metadata": {},
   "outputs": [
    {
     "name": "stdout",
     "output_type": "stream",
     "text": [
      "cccc: 喵喵喵!\n",
      "dddd: 汪！汪！汪！\n"
     ]
    }
   ],
   "source": [
    "# 多态实现\n",
    "class Animal(object):\n",
    "    def __init__(self, name):\n",
    "        self.name = name\n",
    "    \n",
    "    def talk(self):              # 加上异常，需要子类进行重写\n",
    "        raise NotImplementedError(\"Subclass must implement abstract method\")\n",
    "    \n",
    "    # 实现多态，方法一\n",
    "    def talk_func(obj): #一个接口，多种形态\n",
    "        obj.talk()\n",
    " \n",
    " \n",
    "class Cat(Animal):\n",
    "    def talk(self):\n",
    "        print('%s: 喵喵喵!' %self.name)\n",
    " \n",
    " \n",
    "class Dog(Animal):\n",
    "    def talk(self):\n",
    "        print('%s: 汪！汪！汪！' %self.name)\n",
    "\n",
    "c1 = Cat('cccc')\n",
    "d1 = Dog('dddd') \n",
    "\n",
    "###################### \n",
    "# 实现多态，方法一\n",
    "Animal.talk_func(c1)\n",
    "Animal.talk_func(d1)\n",
    "######################\n",
    "\n",
    "###################### \n",
    "# 实现多态，方法二\n",
    "# def talk_func(obj): #一个接口，多种形态\n",
    "#    obj.talk()\n",
    "# talk_func(c1)\n",
    "# talk_func(d1)\n",
    "######################\n",
    "\n",
    " \n"
   ]
  }
 ],
 "metadata": {
  "kernelspec": {
   "display_name": "Python 3",
   "language": "python",
   "name": "python3"
  },
  "language_info": {
   "codemirror_mode": {
    "name": "ipython",
    "version": 3
   },
   "file_extension": ".py",
   "mimetype": "text/x-python",
   "name": "python",
   "nbconvert_exporter": "python",
   "pygments_lexer": "ipython3",
   "version": "3.6.3"
  }
 },
 "nbformat": 4,
 "nbformat_minor": 2
}
