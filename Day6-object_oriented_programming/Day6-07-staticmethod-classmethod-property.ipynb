{
 "cells": [
  {
   "cell_type": "markdown",
   "metadata": {},
   "source": [
    "## 本部分简介\n",
    "1. 静态方法\n",
    "2. 类方法\n",
    "3. 属性方法\n",
    "\n",
    "[本部分参考网页](http://www.cnblogs.com/alex3714/articles/5213184.html)"
   ]
  },
  {
   "cell_type": "markdown",
   "metadata": {},
   "source": [
    "## 静态方法\n",
    "- **使用方法**：在类的方法前加装饰器：\n",
    "```python\n",
    "@staticmethod\n",
    "```\n",
    "\n",
    "- **特征**：\n",
    "\n",
    "普通的方法，可以在实例化后直接调用，并且在方法里可以通过```self.```调用实例变量或类变量。但**静态方法不可以通过```self.```访问实例变量或类变量**。一个不能访问实例变量和类变量的方法，其实相当于跟类本身已经没什么关系了，它与类唯一的关联就是需要通过类名来调用这个方法。\n",
    "\n",
    "- **作用**：\n",
    "\n",
    "与私有方法不同，私有方法可以传入self，但静态方法所有的参数需要用户自己输入。当想把一个类当做工具包使用时，可以把其中的方法写成静态方法，归类管理，并防止误调用。"
   ]
  },
  {
   "cell_type": "code",
   "execution_count": 5,
   "metadata": {},
   "outputs": [
    {
     "name": "stdout",
     "output_type": "stream",
     "text": [
      "AAA is eating bone\n"
     ]
    }
   ],
   "source": [
    "# 静态方法\n",
    "class Dog(object):\n",
    "    \n",
    "    def __init__(self,name):\n",
    "        self.name = name\n",
    "        \n",
    "    @staticmethod\n",
    "    def eat(self,food):\n",
    "        print(\"%s is eating %s\" %(self.name, food))\n",
    "\n",
    "d = Dog(\"AAA\")\n",
    "# d.eat(\"bone\")  # 这样用会报错\n",
    "d.eat(d,\"bone\")  # 可以这样使用"
   ]
  },
  {
   "cell_type": "markdown",
   "metadata": {},
   "source": [
    "## 类方法\n",
    "- **使用方法**：在类的方法前加装饰器：\n",
    "```python\n",
    "@classmethod\n",
    "```\n",
    "\n",
    "- **特征**：\n",
    "\n",
    "普通的方法，可以在实例化后可以通过```self.```调用实例变量或类变量。但**类方法不可以通过```self.```访问实例变量，只能访问类变量**。\n",
    "\n",
    "- **作用**：\n",
    "\n",
    "防止类变量被实例变量覆盖。强制使用类变量。"
   ]
  },
  {
   "cell_type": "code",
   "execution_count": 8,
   "metadata": {},
   "outputs": [
    {
     "name": "stdout",
     "output_type": "stream",
     "text": [
      "m_dog is eating bone\n"
     ]
    }
   ],
   "source": [
    "# 类方法\n",
    "class Dog(object):\n",
    "    name = \"m_dog\"\n",
    "    def __init__(self,name):\n",
    "        self.name = name\n",
    "        \n",
    "    @classmethod\n",
    "    def eat(self,food):\n",
    "        print(\"%s is eating %s\" %(self.name, food))\n",
    "\n",
    "d = Dog(\"AAA\")\n",
    "d.eat(\"bone\")  # 可以这样使用"
   ]
  },
  {
   "cell_type": "markdown",
   "metadata": {},
   "source": [
    "## 属性方法\n",
    "- **使用方法**：在类的方法前加装饰器：\n",
    "```python\n",
    "@property\n",
    "```\n",
    "\n",
    "- **特征**：\n",
    "\n",
    "普通的方法，可以在实例化后通过```()```使用该方法。但**属性方法不可以通过```()```调用，而是将这个方法变成静态属性**，直接用```self.方法名```调用。\n",
    "\n",
    "不可以直接对属性方法传入外部参数。\n",
    "\n",
    "- **作用**：\n",
    "\n",
    "当想根据当前类的状态实现不同功能，且不需要用户外部介入时，可使用属性方法。将方法变成静态属性。对用户来讲，不需要关心内部状态。"
   ]
  },
  {
   "cell_type": "code",
   "execution_count": 17,
   "metadata": {},
   "outputs": [
    {
     "name": "stdout",
     "output_type": "stream",
     "text": [
      "AAA is eating ---\n"
     ]
    }
   ],
   "source": [
    "# 一般的属性方法\n",
    "class Dog(object):\n",
    "    name = \"m_dog\"\n",
    "    def __init__(self,name):\n",
    "        self.name = name\n",
    "        \n",
    "    @property  # 属性方法，暴露给用户\n",
    "    def eat(self):\n",
    "        print(\"%s is eating %s\" %(self.name, '---'))\n",
    "\n",
    "d = Dog(\"AAA\")\n",
    "d.eat  # 可以这样使用"
   ]
  },
  {
   "cell_type": "markdown",
   "metadata": {},
   "source": [
    "- **属性方法的赋值**：\n",
    "\n",
    "与普通的属性不同，属性方法不能直接使用```=```更改。而是通过装饰器\n",
    "```python \n",
    "@proerty.setter \n",
    "```\n",
    "定义一个修改函数，然后通过该函数进行修改。\n",
    "\n",
    "这样实现了同一个函数名的复用。```@property```实现属性方法的调用。通过相同的名称，```@proerty.setter```实现属性方法的修改。"
   ]
  },
  {
   "cell_type": "code",
   "execution_count": 21,
   "metadata": {},
   "outputs": [
    {
     "name": "stdout",
     "output_type": "stream",
     "text": [
      "AAA is eating none\n",
      "AAA is eating bone\n"
     ]
    }
   ],
   "source": [
    "# 属性方法的赋值\n",
    "class Dog(object):\n",
    "    name = \"m_dog\"\n",
    "    def __init__(self,name):\n",
    "        self.name = name\n",
    "        self.food = 'none'\n",
    "        \n",
    "    @property\n",
    "    def eat(self):\n",
    "        print(\"%s is eating %s\" %(self.name, self.food))\n",
    "\n",
    "    @eat.setter\n",
    "    def eat(self,dog_food):\n",
    "        self.food = dog_food\n",
    "\n",
    "d = Dog(\"AAA\")\n",
    "d.eat\n",
    "d.eat = 'bone'  # 给属性方法赋值  # 如果没有@proerty.setter装饰器，则不能进行赋值操作\n",
    "d.eat"
   ]
  },
  {
   "cell_type": "markdown",
   "metadata": {},
   "source": [
    "- **属性方法的删除**：\n",
    "\n",
    "与普通的属性不同，属性方法不能通过```del```删除。而是通过装饰器\n",
    "```python \n",
    "@proerty.deleter \n",
    "```\n",
    "删除\n",
    "\n",
    "这样实现了同一个函数名的复用。```@property```实现属性方法的调用。通过相同的名称，```@proerty.deleter```实现属性方法的删除。"
   ]
  },
  {
   "cell_type": "code",
   "execution_count": 26,
   "metadata": {},
   "outputs": [
    {
     "name": "stdout",
     "output_type": "stream",
     "text": [
      "AAA is eating bone\n"
     ]
    }
   ],
   "source": [
    "# 属性方法的删除\n",
    "class Dog(object):\n",
    "    name = \"m_dog\"\n",
    "    def __init__(self,name):\n",
    "        self.name = name\n",
    "        self.food = 'bone'\n",
    "        \n",
    "    @property\n",
    "    def eat(self):\n",
    "        print(\"%s is eating %s\" %(self.name, self.food))\n",
    "        \n",
    "    @eat.deleter\n",
    "    def eat(self):\n",
    "        del self.food\n",
    "\n",
    "d = Dog(\"AAA\")\n",
    "d.eat\n",
    "del d.eat  # 如果没有@proerty.deleter装饰器，则不能使用del调用删除函数\n",
    "# d.eat"
   ]
  }
 ],
 "metadata": {
  "kernelspec": {
   "display_name": "Python 3",
   "language": "python",
   "name": "python3"
  },
  "language_info": {
   "codemirror_mode": {
    "name": "ipython",
    "version": 3
   },
   "file_extension": ".py",
   "mimetype": "text/x-python",
   "name": "python",
   "nbconvert_exporter": "python",
   "pygments_lexer": "ipython3",
   "version": "3.6.3"
  }
 },
 "nbformat": 4,
 "nbformat_minor": 2
}
