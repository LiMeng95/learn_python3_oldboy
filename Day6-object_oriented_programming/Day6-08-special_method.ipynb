{
 "cells": [
  {
   "cell_type": "markdown",
   "metadata": {},
   "source": [
    "## 本部分简介\n",
    "1. 各种特殊成员方法\n",
    "2. Python中自定义的类也有父类（了解）\n",
    "3. Python中类的创建过程（了解）\n",
    "\n",
    "[本部分参考网页](http://www.cnblogs.com/alex3714/articles/5213184.html)"
   ]
  },
  {
   "cell_type": "markdown",
   "metadata": {},
   "source": [
    "## 各种特殊成员方法\n",
    "\n",
    "- **```__doc__```**：\n",
    "\n",
    "表示类的描述信息。在编程时，最好在类下的第一行写好描述信息。"
   ]
  },
  {
   "cell_type": "code",
   "execution_count": 1,
   "metadata": {},
   "outputs": [
    {
     "name": "stdout",
     "output_type": "stream",
     "text": [
      "Dog类的描述信息\n"
     ]
    }
   ],
   "source": [
    "# __doc__\n",
    "class Dog(object):\n",
    "    '''Dog类的描述信息'''\n",
    "    def __init__(self,name):\n",
    "        self.name = name\n",
    "\n",
    "d = Dog(\"AAA\")\n",
    "print(d.__doc__)"
   ]
  },
  {
   "cell_type": "markdown",
   "metadata": {},
   "source": [
    "- **```__init__```**：\n",
    "\n",
    "构造方法，通过类创建对象时，自动触发执行\n",
    "\n",
    "- **```__del__```**：\n",
    "\n",
    "析构方法，当对象在内存中被释放时，自动触发执行。\n",
    "\n",
    "构造方法和析构方法不进行自定义的话会由Python解释器自动执行。"
   ]
  },
  {
   "cell_type": "markdown",
   "metadata": {},
   "source": [
    "- **```__module__```**：\n",
    "\n",
    "表示当前操作的对象在哪个模块\n",
    "\n",
    "- **```__class__```**：\n",
    "\n",
    "表示当前操作的对象在哪个模块"
   ]
  },
  {
   "cell_type": "code",
   "execution_count": 2,
   "metadata": {
    "scrolled": true
   },
   "outputs": [
    {
     "name": "stdout",
     "output_type": "stream",
     "text": [
      "numpy.core.multiarray\n",
      "<class 'builtin_function_or_method'>\n"
     ]
    }
   ],
   "source": [
    "# __module__  __class__\n",
    "from numpy import array\n",
    "\n",
    "print(array.__module__)\n",
    "print(array.__class__)"
   ]
  },
  {
   "cell_type": "markdown",
   "metadata": {},
   "source": [
    "- **```__call__```**：\n",
    "\n",
    "在实例化后的对象后面加括号，触发执行"
   ]
  },
  {
   "cell_type": "code",
   "execution_count": 3,
   "metadata": {},
   "outputs": [
    {
     "name": "stdout",
     "output_type": "stream",
     "text": [
      "__call__方法在执行\n"
     ]
    }
   ],
   "source": [
    "# __call__\n",
    "class Dog(object):\n",
    "    '''Dog类的描述信息'''\n",
    "    def __init__(self,name):\n",
    "        self.name = name\n",
    "    \n",
    "    def __call__(self, *args, **kwargs):\n",
    "        print(\"__call__方法在执行\")\n",
    "        \n",
    "d = Dog(\"AAA\")\n",
    "d()"
   ]
  },
  {
   "cell_type": "markdown",
   "metadata": {},
   "source": [
    "- **```__dict__```**：\n",
    "\n",
    "查看类或对象中的所有成员 "
   ]
  },
  {
   "cell_type": "code",
   "execution_count": 4,
   "metadata": {},
   "outputs": [
    {
     "name": "stdout",
     "output_type": "stream",
     "text": [
      "{'__module__': '__main__', '__doc__': 'Dog类的描述信息', 'color': 'black', '__init__': <function Dog.__init__ at 0x00000000076936A8>, 'func1': <function Dog.func1 at 0x0000000007693730>, '__dict__': <attribute '__dict__' of 'Dog' objects>, '__weakref__': <attribute '__weakref__' of 'Dog' objects>}\n",
      "---------------\n",
      "{'name': 'AAA'}\n"
     ]
    }
   ],
   "source": [
    "# __dict__\n",
    "class Dog(object):\n",
    "    '''Dog类的描述信息'''\n",
    "    color = 'black'\n",
    "    def __init__(self,name):\n",
    "        self.name = name\n",
    "    \n",
    "    def func1(self, *args, **kwargs):\n",
    "        print(\"方法在执行\")\n",
    "d = Dog(\"AAA\")\n",
    "\n",
    "print(Dog.__dict__)  # 通过类调用，输出字典，包括所有类属性\n",
    "print(\"---------------\")\n",
    "print(d.__dict__)  # 通过实例调用，输出字典，包括所有实例属性"
   ]
  },
  {
   "cell_type": "markdown",
   "metadata": {},
   "source": [
    "- **```__str__```**：\n",
    "\n",
    "如果一个类中定义了```__str__```方法，那么在打印对象时，默认输出该方法的返回值。"
   ]
  },
  {
   "cell_type": "code",
   "execution_count": 5,
   "metadata": {},
   "outputs": [
    {
     "name": "stdout",
     "output_type": "stream",
     "text": [
      "str\n"
     ]
    }
   ],
   "source": [
    "# __str__\n",
    "class Dog(object):\n",
    "    def __init__(self,name):\n",
    "        self.name = name\n",
    "    \n",
    "    def __str__(self, *args, **kwargs):\n",
    "        return 'str'\n",
    "d = Dog(\"AAA\")\n",
    "\n",
    "print(d)  # 输出str的返回值。如果没有__str__，则打印d的内存地址"
   ]
  },
  {
   "cell_type": "markdown",
   "metadata": {},
   "source": [
    "- **```__getitem__、__setitem__、__delitem__```**：\n",
    "\n",
    "用于索引操作，如字典。以上分别表示获取、设置、删除数据函数。\n",
    "\n",
    "可以用这种方法将自己的类封装成一个字典。"
   ]
  },
  {
   "cell_type": "code",
   "execution_count": 6,
   "metadata": {},
   "outputs": [
    {
     "name": "stdout",
     "output_type": "stream",
     "text": [
      "meng\n"
     ]
    }
   ],
   "source": [
    "# __getitem__、__setitem__、__delitem__\n",
    "class Foo(object):\n",
    "    data ={}\n",
    "    def __getitem__(self, key):\n",
    "        #print('__getitem__',key)\n",
    "        return self.data[key]\n",
    " \n",
    "    def __setitem__(self, key, value):\n",
    "        #print('__setitem__',key,value)\n",
    "        self.data[key] = value\n",
    " \n",
    "    def __delitem__(self, key):\n",
    "        #print('__delitem__',key)\n",
    "        del self.data[key]\n",
    " \n",
    " \n",
    "obj = Foo()\n",
    "   \n",
    "obj['k2'] = 'meng'  # 自动触发执行 __setitem__,传入的是字符串。\n",
    "print(obj['k2'])  # 自动触发执行 __getitem__\n",
    "del obj['k2']  # 自动触发执行 __getitem__"
   ]
  },
  {
   "cell_type": "markdown",
   "metadata": {},
   "source": [
    "- **```__new__ \\ __metaclass__```**：\n",
    "\n",
    "    - ```__new__```方法：用来创建实例，并在其中调用了```__init__```等其他方法。一般情况下不要自己写该方法。若想在实例化之前调用某些方法，可以使用```__new__```方法。实际中，先调用```__new__```，再调用```__init__```\n"
   ]
  },
  {
   "cell_type": "code",
   "execution_count": 7,
   "metadata": {},
   "outputs": [
    {
     "name": "stdout",
     "output_type": "stream",
     "text": [
      "Foo - __new__\n",
      "F00 - __init__\n"
     ]
    }
   ],
   "source": [
    "# __new__ 的作用：类中通过__new__进行实例化，__new__中调用了__init__等其他方法。所有，类在实例化中最初调用的是__new__\n",
    "class Foo(object):\n",
    "    \n",
    "    def __init__(self,name):\n",
    "        self.name = name\n",
    "        print(\"F00 - __init__\")\n",
    "        \n",
    "    def __new__(cls, *args, **kwargs):  # cls相当于类的名称，类似于对象时的self、若自己定义了__new__，需要从父类继承__new__函数\n",
    "        print(\"Foo - __new__\")\n",
    "        return object.__new__(cls)\n",
    "\n",
    "f = Foo('meng')"
   ]
  },
  {
   "cell_type": "markdown",
   "metadata": {},
   "source": [
    "    - __metaclass__方法得到的叫“元类”，表示该类由谁实例化创建得到的。"
   ]
  },
  {
   "cell_type": "markdown",
   "metadata": {},
   "source": [
    "## Python中自定义的类也有父类\n",
    "**Python中一切皆对象**，所以下方定义的Foo类也是一个对象，它也有父类。"
   ]
  },
  {
   "cell_type": "code",
   "execution_count": 8,
   "metadata": {},
   "outputs": [
    {
     "name": "stdout",
     "output_type": "stream",
     "text": [
      "<class '__main__.Foo'>\n",
      "<class 'type'>\n"
     ]
    }
   ],
   "source": [
    "class Foo(object):\n",
    "  \n",
    "    def __init__(self,name):\n",
    "        self.name = name\n",
    " \n",
    "f = Foo(\"meng\")\n",
    "\n",
    "# Foo和f的类型：\n",
    "print(type(f))\n",
    "print(type(Foo))  # 我们自己定义的类Foo，来自于type类"
   ]
  },
  {
   "cell_type": "markdown",
   "metadata": {},
   "source": [
    "因此，我们了解到有两种创建类的方式：\n",
    "    \n",
    "    - 普通方式\n",
    "```python\n",
    "class Foo(object):\n",
    "  \n",
    "    def func(self):\n",
    "        print('hello')\n",
    "\n",
    "f = Foo(\"jack\",22)\n",
    "f.func()\n",
    "```\n",
    "    \n",
    "    - 特殊方式\n",
    "```python\n",
    "def func(self):\n",
    "    print('hello special')\n",
    "\n",
    "def __init__(self,name,age):\n",
    "    self.name = name\n",
    "    self.age = age\n",
    "  \n",
    "Foo = type('Foo',(object,), {'func': func, '__init__':__init__})\n",
    "f = Foo(\"jack\",22)\n",
    "f.func()\n",
    "```\n",
    "\n",
    "即，在Python中我们自定义的类默认由```type```类实例化产生。"
   ]
  },
  {
   "cell_type": "markdown",
   "metadata": {},
   "source": [
    "## Python中类的创建过程\n",
    "观察类创建过程中，父类、子类的生成调用顺序"
   ]
  },
  {
   "cell_type": "code",
   "execution_count": 9,
   "metadata": {},
   "outputs": [
    {
     "name": "stdout",
     "output_type": "stream",
     "text": [
      "Foo - __new__\n",
      "F00 - __init__\n"
     ]
    }
   ],
   "source": [
    "# Python3中类的创建过程\n",
    "class MyType(type):\n",
    "    \n",
    "    def __init__(self, what, bases = None, dict = None):\n",
    "        print(\"MyType - __init__\")\n",
    "    \n",
    "    def __call__(self, *args, **kwargs):\n",
    "        print(\"MyType - __call__\")\n",
    "        obj = self.__new__(self, *args, **kwargs)  # 子类Foo的__new__\n",
    "        self.__init__(obj, *args, **kwargs)  # 子类Foo的__init__\n",
    "\n",
    "class Foo(object):\n",
    "    __metaclass__ = MyType\n",
    "    \n",
    "    def __init__(self,name):\n",
    "        self.name = name\n",
    "        print(\"F00 - __init__\")\n",
    "        \n",
    "    def __new__(cls, *args, **kwargs):  # cls相当于类的名称，类似于对象时的self、若自己定义了__new__，需要从父类继承__new__函数\n",
    "        print(\"Foo - __new__\")\n",
    "        return object.__new__(cls)\n",
    "\n",
    "f = Foo('meng')"
   ]
  },
  {
   "cell_type": "markdown",
   "metadata": {},
   "source": [
    "在Python2中得到的输出为：\n",
    "```python\n",
    "MyType - __init__\n",
    "MyType - __call__\n",
    "Foo - __new__\n",
    "F00 - __init__\n",
    "```\n",
    "\n",
    "说明在python2中，类的创建过程为首先自动执行父类的构造方法，然后执行父类的```__call__```方法，创建子类的实例。\n",
    "\n",
    "所以，类的生成调用顺序依次是 ```__new__ --> __init__ --> __call__```"
   ]
  }
 ],
 "metadata": {
  "kernelspec": {
   "display_name": "Python 3",
   "language": "python",
   "name": "python3"
  },
  "language_info": {
   "codemirror_mode": {
    "name": "ipython",
    "version": 3
   },
   "file_extension": ".py",
   "mimetype": "text/x-python",
   "name": "python",
   "nbconvert_exporter": "python",
   "pygments_lexer": "ipython3",
   "version": "3.6.3"
  }
 },
 "nbformat": 4,
 "nbformat_minor": 2
}
