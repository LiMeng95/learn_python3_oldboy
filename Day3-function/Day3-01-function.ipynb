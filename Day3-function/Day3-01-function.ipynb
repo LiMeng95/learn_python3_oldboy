{
 "cells": [
  {
   "cell_type": "markdown",
   "metadata": {},
   "source": [
    "## 本部分简介\n",
    "1. 函数基本语法及特性\n",
    "\n",
    "2. 参数与局部变量\n",
    "\n",
    "3. 返回值\n",
    "  、嵌套函数\n",
    "\n",
    "4. 递归\n",
    "\n",
    "5. 匿名函数\n",
    "\n",
    "6. 函数式编程介绍\n",
    "\n",
    "7. 高阶函数\n",
    "\n",
    "8. 内置函数\n",
    "\n",
    "[本部分参考网页](http://www.cnblogs.com/alex3714/articles/5740985.html)\n",
    "\n",
    "## 三种编程方式\n",
    "\n",
    "- 面向对象编程：重点是类的概念\n",
    "- 面向过程编程：重点是过程，即def。过程是没有返回值的函数\n",
    "- 面向函数编程：重点是函数，也用def定义函数\n",
    "\n",
    "定义: 函数是指将一组语句的集合通过一个名字(函数名)封装起来，要想执行这个函数，只需调用其函数名即可。使用函数可减少重复代码，使程序变的可扩展，使程序变得易维护。\n",
    "\n",
    "## 函数定义方式\n",
    "数学中函数定义有自变量和因变量。编程中的函数具有类似的描述。"
   ]
  },
  {
   "cell_type": "code",
   "execution_count": 9,
   "metadata": {},
   "outputs": [
    {
     "name": "stdout",
     "output_type": "stream",
     "text": [
      "this is a test function\n",
      "0\n"
     ]
    }
   ],
   "source": [
    "# 函数定义方式\n",
    "def test_function():\n",
    "    # 函数定义测试\n",
    "    print('this is a test function')\n",
    "    return 0\n",
    "\n",
    "print(test_function())"
   ]
  },
  {
   "cell_type": "markdown",
   "metadata": {},
   "source": [
    "## 参数与局部变量"
   ]
  },
  {
   "cell_type": "markdown",
   "metadata": {},
   "source": [
    "- 参数"
   ]
  },
  {
   "cell_type": "code",
   "execution_count": 6,
   "metadata": {},
   "outputs": [
    {
     "name": "stdout",
     "output_type": "stream",
     "text": [
      "1 {'num': 3.14}\n",
      "1 {'num': 3.14}\n"
     ]
    }
   ],
   "source": [
    "# 有参数的函数\n",
    "def test(x,y):\n",
    "    print(x,y)\n",
    "\n",
    "test(1,{'num':3.14})  # 位置参数\n",
    "test(y={'num':3.14} , x=1)  # 关键参数，指定参数名即可使用,关键参数必须放在位置参数之后。"
   ]
  },
  {
   "cell_type": "code",
   "execution_count": 9,
   "metadata": {},
   "outputs": [
    {
     "name": "stdout",
     "output_type": "stream",
     "text": [
      "1 2\n",
      "2 3\n"
     ]
    }
   ],
   "source": [
    "# 默认参数\n",
    "def test(x,y=2):  # 默认参数必须放在非默认参数之后\n",
    "    print(x,y)\n",
    "\n",
    "test(1)\n",
    "test(2,3)"
   ]
  },
  {
   "cell_type": "code",
   "execution_count": 19,
   "metadata": {},
   "outputs": [
    {
     "name": "stdout",
     "output_type": "stream",
     "text": [
      "name =  Meng\n",
      "age =  34\n",
      "others =  ('python', '2018/3/27')\n",
      "name =  Meng\n",
      "age =  34\n",
      "others =  ('python', '2018/3/27')\n"
     ]
    }
   ],
   "source": [
    "# 参数组\n",
    "# 上方定义函数的形式，不能解决用户自定义输入参数数量的情况。参数组可以使用非固定参数\n",
    "def print_info(name,age=22,*args): #  参数组放在位置参数和关键参数之后。且args只是参数名，可以更改成其他名称，*表示元组类型的默认参数\n",
    "    print('name = ',name)\n",
    "    print('age = ',age)\n",
    "    print('others = ',args)\n",
    "\n",
    "print_info('Meng',34,'python','2018/3/27')\n",
    "print_info('Meng',34,*['python','2018/3/27'])"
   ]
  },
  {
   "cell_type": "code",
   "execution_count": 22,
   "metadata": {
    "scrolled": false
   },
   "outputs": [
    {
     "name": "stdout",
     "output_type": "stream",
     "text": [
      "name =  Meng\n",
      "age =  34\n",
      "others1 =  ('python', '2018/3/27')\n",
      "others2 =  {'city': 'SZ', 'school': 'Tsinghua University'}\n",
      "name =  Meng\n",
      "age =  34\n",
      "others1 =  ()\n",
      "others2 =  {'city': 'SZ', 'school': 'Tsinghua University'}\n"
     ]
    }
   ],
   "source": [
    "# 参数组\n",
    "# 字典作为参数传入，需要放在位置参数、默认参数、元组类型默认参数之后。使用**表示\n",
    "def print_info(name,age=22,*args,**kwargs): \n",
    "    print('name = ',name)\n",
    "    print('age = ',age)\n",
    "    print('others1 = ',args)\n",
    "    print('others2 = ',kwargs)\n",
    "\n",
    "print_info('Meng',34,'python','2018/3/27',city = 'SZ',school = 'Tsinghua University')\n",
    "print_info('Meng',34,**{'city':'SZ','school':'Tsinghua University'})"
   ]
  },
  {
   "cell_type": "markdown",
   "metadata": {},
   "source": [
    "- **局部变量：字符串、数字等不能在局部中修改**\n",
    "\n",
    "在子程序中定义的变量称为局部变量，在程序的一开始定义的变量称为全局变量。\n",
    "全局变量作用域是整个程序，局部变量作用域是定义该变量的子程序。\n",
    "当全局变量与局部变量同名时：\n",
    "在定义局部变量的子程序内，局部变量起作用；在其它地方全局变量起作用。"
   ]
  },
  {
   "cell_type": "code",
   "execution_count": 23,
   "metadata": {},
   "outputs": [
    {
     "name": "stdout",
     "output_type": "stream",
     "text": [
      "before change: Meng Li\n",
      "after change Meng_Li\n",
      "在外面看看name改了么? Meng Li\n"
     ]
    }
   ],
   "source": [
    "name = \"Meng Li\"\n",
    " \n",
    "def change_name(name):\n",
    "    print(\"before change:\",name)\n",
    "    name = \"Meng_Li\"\n",
    "    print(\"after change\", name)\n",
    "\n",
    "    \n",
    "change_name(name)\n",
    " \n",
    "print(\"在外面看看name改了么?\",name)"
   ]
  },
  {
   "cell_type": "markdown",
   "metadata": {},
   "source": [
    "在函数中改变全局变量的字符串、数字等：使用global。但最好**不要这样做**"
   ]
  },
  {
   "cell_type": "code",
   "execution_count": 28,
   "metadata": {},
   "outputs": [
    {
     "name": "stdout",
     "output_type": "stream",
     "text": [
      "before change: SZ\n",
      "after change CF\n",
      "在外面看看city改了么? CF\n"
     ]
    }
   ],
   "source": [
    "name = \"Meng Li\"\n",
    "city = 'SZ'\n",
    " \n",
    "def change_name():\n",
    "    global city\n",
    "    print(\"before change:\",city)\n",
    "    city = \"CF\"\n",
    "    print(\"after change\", city)\n",
    " \n",
    "\n",
    "change_name()\n",
    "print(\"在外面看看city改了么?\",city)"
   ]
  },
  {
   "cell_type": "markdown",
   "metadata": {},
   "source": [
    "- **局部变量：列表、字典、集合、类可以在局部变量中修改值**"
   ]
  },
  {
   "cell_type": "code",
   "execution_count": 32,
   "metadata": {},
   "outputs": [
    {
     "name": "stdout",
     "output_type": "stream",
     "text": [
      "before change: Meng Li\n",
      "after change Meng_Li\n",
      "在外面看看name改了么? Meng_Li\n"
     ]
    }
   ],
   "source": [
    "name = [\"Meng Li\"]\n",
    " \n",
    "def change_name(name):\n",
    "    print(\"before change:\",name[0])\n",
    "    name[0] = \"Meng_Li\"\n",
    "    print(\"after change\", name[0])\n",
    "\n",
    "    \n",
    "change_name(name)\n",
    " \n",
    "print(\"在外面看看name改了么?\",name[0])"
   ]
  },
  {
   "cell_type": "markdown",
   "metadata": {},
   "source": [
    "## 返回值\n",
    "要想获取函数的执行结果，就可以用return语句把结果返回。会**把所有返回值放在元组**中返回。\n",
    "\n",
    "注意:\n",
    "- 函数在执行过程中只要遇到return语句，就会停止执行并返回结果，so 也可以理解为 return 语句代表着函数的结束\n",
    "- 如果未在函数中指定return,那这个函数的返回值为None "
   ]
  },
  {
   "cell_type": "code",
   "execution_count": 15,
   "metadata": {},
   "outputs": [
    {
     "name": "stdout",
     "output_type": "stream",
     "text": [
      "this is a test function\n",
      "(1, 'adc', ['ds', '645', 6], {'name': '123'})\n"
     ]
    }
   ],
   "source": [
    "# 返回值\n",
    "def test_return():\n",
    "    # 返回值测试\n",
    "    print('this is a test function')\n",
    "    return 1,'adc',['ds','645',6],{\"name\":'123'}\n",
    "\n",
    "print(test_return())  # 返回值是一个元组"
   ]
  },
  {
   "cell_type": "markdown",
   "metadata": {},
   "source": [
    "## 嵌套函数\n",
    "函数中可以继续定义函数"
   ]
  },
  {
   "cell_type": "code",
   "execution_count": 20,
   "metadata": {
    "scrolled": true
   },
   "outputs": [
    {
     "name": "stdout",
     "output_type": "stream",
     "text": [
      "第3层打印 Meng_3\n",
      "第2层打印 Meng_2\n",
      "最外层打印 Meng_1\n"
     ]
    }
   ],
   "source": [
    "name = \"Meng_1\"\n",
    " \n",
    "def change_name():\n",
    "    name = \"Meng_2\" \n",
    "    \n",
    "    def change_name2():\n",
    "        name = \"Meng_3\"\n",
    "        print(\"第3层打印\",name) \n",
    "        \n",
    "    change_name2() #调用内层函数\n",
    "    print(\"第2层打印\",name)\n",
    " \n",
    "change_name()\n",
    "print(\"最外层打印\",name)"
   ]
  },
  {
   "cell_type": "markdown",
   "metadata": {},
   "source": [
    "## 匿名函数\n",
    "匿名函数是Python中函数的一种，顾名思义，它没有自己的名称。使用的时候也不调用任何函数名。当我们不需要显式地定义函数时，直接传入匿名函数更方便。匿名函数用后会直接回收。\n",
    "\n",
    "**首先了解map函数：map(function, iterable, ...)**\n",
    "- map() 会根据提供的函数对指定序列做映射。\n",
    "- 第一个参数 function 以参数序列中的每一个元素调用 function 函数\n",
    "- Python 2.x 返回列表。\n",
    "- Python 3.x 返回迭代器。"
   ]
  },
  {
   "cell_type": "code",
   "execution_count": 25,
   "metadata": {},
   "outputs": [
    {
     "data": {
      "text/plain": [
       "<map at 0x5b26320>"
      ]
     },
     "execution_count": 25,
     "metadata": {},
     "output_type": "execute_result"
    }
   ],
   "source": [
    "def f(x):\n",
    "    return x * x\n",
    "\n",
    "a = map(f, [1, 2, 3, 4, 5, 6, 7, 8, 9])  # 返回的是一个迭代器，按顺序将列表元素作为函数f的参数传入\n",
    "a"
   ]
  },
  {
   "cell_type": "markdown",
   "metadata": {},
   "source": [
    "**匿名函数：**关键字lambda表示匿名函数，冒号前面的符号表示函数参数。匿名函数没有return，只能有一个表达式。**匿名函数的返回值根据冒号后表达式的形式确定**，当为判断语句时，返回true或false；当为计算语句时，返回计算的值。"
   ]
  },
  {
   "cell_type": "code",
   "execution_count": 18,
   "metadata": {
    "scrolled": true
   },
   "outputs": [
    {
     "name": "stdout",
     "output_type": "stream",
     "text": [
      "10000000000\n",
      "10000000000\n"
     ]
    },
    {
     "data": {
      "text/plain": [
       "10000000000"
      ]
     },
     "execution_count": 18,
     "metadata": {},
     "output_type": "execute_result"
    }
   ],
   "source": [
    "# 匿名函数返回数值\n",
    "# 这段代码\n",
    "def calc(n):\n",
    "    return n**n\n",
    "print(calc(10))\n",
    " \n",
    "# 换成匿名函数\n",
    "calc = lambda n:n**n\n",
    "print(calc(10))\n",
    "\n",
    "# 或者：\n",
    "(lambda n:n**n)(10)"
   ]
  },
  {
   "cell_type": "code",
   "execution_count": 23,
   "metadata": {
    "scrolled": false
   },
   "outputs": [
    {
     "data": {
      "text/plain": [
       "False"
      ]
     },
     "execution_count": 23,
     "metadata": {},
     "output_type": "execute_result"
    }
   ],
   "source": [
    "# 匿名函数返回true或false\n",
    "(lambda n:n>7)(1)"
   ]
  },
  {
   "cell_type": "code",
   "execution_count": 11,
   "metadata": {
    "scrolled": true
   },
   "outputs": [
    {
     "data": {
      "text/plain": [
       "<map at 0x5932b00>"
      ]
     },
     "execution_count": 11,
     "metadata": {},
     "output_type": "execute_result"
    }
   ],
   "source": [
    "# 匿名函数与map()函数结合：将对应数据进行计算，返回值为一个迭代器\n",
    "map(lambda x: x ** 2, [1, 2, 3, 4, 5])  # 使用 lambda 匿名函数\n",
    "map(lambda x, y: x + y, [1, 3, 5, 7, 9], [2, 4, 6, 8, 10])  # 提供了两个列表，对相同位置的列表数据进行相加"
   ]
  },
  {
   "cell_type": "code",
   "execution_count": 21,
   "metadata": {},
   "outputs": [
    {
     "name": "stdout",
     "output_type": "stream",
     "text": [
      "8\n",
      "9\n"
     ]
    }
   ],
   "source": [
    "# 匿名函数与filter()函数结合:在一组数据中过滤出想要的数据，返回值为一个迭代器，内容包含使得匿名函数中表达式为真的值。\n",
    "res = filter(lambda n:n>7,range(10))\n",
    "for i in res:\n",
    "    print(i)"
   ]
  },
  {
   "cell_type": "markdown",
   "metadata": {},
   "source": [
    "匿名函数也是一个函数对象，也可以把匿名函数赋值给一个变量，再利用变量来调用该函数"
   ]
  },
  {
   "cell_type": "code",
   "execution_count": 12,
   "metadata": {},
   "outputs": [
    {
     "data": {
      "text/plain": [
       "1"
      ]
     },
     "execution_count": 12,
     "metadata": {},
     "output_type": "execute_result"
    }
   ],
   "source": [
    "f = lambda x: x * x\n",
    "f(1)"
   ]
  },
  {
   "cell_type": "code",
   "execution_count": 16,
   "metadata": {},
   "outputs": [
    {
     "data": {
      "text/plain": [
       "25"
      ]
     },
     "execution_count": 16,
     "metadata": {},
     "output_type": "execute_result"
    }
   ],
   "source": [
    "def build(x, y):\n",
    "    return lambda: x ** 2 + y **2\n",
    "\n",
    "a=build(3,4)\n",
    "a()"
   ]
  },
  {
   "cell_type": "markdown",
   "metadata": {},
   "source": [
    "## 递归函数\n",
    "函数中调用自己。要求:\n",
    "1. 必须有一个明确的结束条件\n",
    "\n",
    "2. 每次进入更深一层递归时，问题规模相比上次递归都应有所减少\n",
    "\n",
    "3. 递归效率不高，递归层次过多会导致栈溢出（在计算机中，函数调用是通过栈（stack）这种数据结构实现的，每当进入一个函数调用，栈就会加一层栈帧，每当函数返回，栈就会减一层栈帧。由于栈的大小不是无限的，所以，递归调用的次数过多，会导致栈溢出）"
   ]
  },
  {
   "cell_type": "code",
   "execution_count": 33,
   "metadata": {},
   "outputs": [
    {
     "data": {
      "text/plain": [
       "120"
      ]
     },
     "execution_count": 33,
     "metadata": {},
     "output_type": "execute_result"
    }
   ],
   "source": [
    "# 递归函数\n",
    "def calculate(num):  # 计算阶乘\n",
    "    if num == 1 :  # 递归的结束条件\n",
    "        return num\n",
    "    return num*calculate(num-1)\n",
    "\n",
    "calculate(5)"
   ]
  },
  {
   "cell_type": "markdown",
   "metadata": {},
   "source": [
    "## 函数式编程\n",
    "这里的“函数”指的是数学里面的函数，即自变量的映射。Python对函数式编程提供部分支持。由于Python允许使用变量，因此，Python不是纯函数式编程语言。\n",
    "[具体可以参考](http://www.cnblogs.com/alex3714/articles/5740985.html)\n",
    "。Erlang,Haskell是典型的函数式编程方法。Python不是。"
   ]
  },
  {
   "cell_type": "markdown",
   "metadata": {},
   "source": [
    "## 高阶函数\n",
    "1. 一个函数可以接收另一个函数作为参数，这种函数就称之为高阶函数。（即把一个函数名当做实参传入函数）\n",
    "2. 或者：在返回值中包含函数名"
   ]
  },
  {
   "cell_type": "code",
   "execution_count": 34,
   "metadata": {},
   "outputs": [
    {
     "name": "stdout",
     "output_type": "stream",
     "text": [
      "9\n"
     ]
    }
   ],
   "source": [
    "def add(x,y,f):\n",
    "    return f(x) + f(y)\n",
    " \n",
    "res = add(3,-6,abs)\n",
    "print(res)"
   ]
  },
  {
   "cell_type": "markdown",
   "metadata": {},
   "source": [
    "## 内置函数\n",
    "**Python3中的内置函数：**\n",
    "![](build_in_function.png)"
   ]
  },
  {
   "cell_type": "code",
   "execution_count": 1,
   "metadata": {
    "scrolled": true
   },
   "outputs": [
    {
     "data": {
      "text/plain": [
       "2"
      ]
     },
     "execution_count": 1,
     "metadata": {},
     "output_type": "execute_result"
    }
   ],
   "source": [
    "abs(-2)  # 取绝对值"
   ]
  },
  {
   "cell_type": "code",
   "execution_count": 2,
   "metadata": {
    "scrolled": false
   },
   "outputs": [
    {
     "data": {
      "text/plain": [
       "True"
      ]
     },
     "execution_count": 2,
     "metadata": {},
     "output_type": "execute_result"
    }
   ],
   "source": [
    "all([])  # 其参数为可迭代对象。如果可迭代对象为空或者元素均为真，则返回Ture，否则（元素中有非真）返回False"
   ]
  },
  {
   "cell_type": "code",
   "execution_count": 12,
   "metadata": {},
   "outputs": [
    {
     "data": {
      "text/plain": [
       "False"
      ]
     },
     "execution_count": 12,
     "metadata": {},
     "output_type": "execute_result"
    }
   ],
   "source": [
    "any([])  # 其参数为可迭代对象。如果可迭代对象有元素为真，则返回Ture，否则（元素中有非真，或者为空）返回False"
   ]
  },
  {
   "cell_type": "code",
   "execution_count": 13,
   "metadata": {},
   "outputs": [
    {
     "data": {
      "text/plain": [
       "False"
      ]
     },
     "execution_count": 13,
     "metadata": {},
     "output_type": "execute_result"
    }
   ],
   "source": [
    "bool([])  # 判断真假。0为假，非0为真。空字典、空列表均为假。字典、列表中有元素即为真。"
   ]
  },
  {
   "cell_type": "code",
   "execution_count": 31,
   "metadata": {},
   "outputs": [
    {
     "name": "stdout",
     "output_type": "stream",
     "text": [
      "8\n",
      "9\n"
     ]
    },
    {
     "data": {
      "text/plain": [
       "45"
      ]
     },
     "execution_count": 31,
     "metadata": {},
     "output_type": "execute_result"
    }
   ],
   "source": [
    "# filter():在一组数据中过滤出想要的数据，返回迭代器，迭代器中的值为使第一个函数返回值为真的值。\n",
    "res = filter(lambda n:n>7,range(10))\n",
    "for i in res:\n",
    "    print(i)\n",
    "\n",
    "# 传给reduce中的函数 function（有两个参数）先对集合中的第 1、2 个元素进行操作，得到的结果再与第三个数据用 function 函数运算，最后得到一个结果。\n",
    "from functools import reduce\n",
    "res = reduce(lambda x,y:x+y,range(10))  # 实现了0+1+2+···+9\n",
    "res"
   ]
  },
  {
   "cell_type": "code",
   "execution_count": 41,
   "metadata": {},
   "outputs": [
    {
     "data": {
      "text/plain": [
       "-1200970918684905623"
      ]
     },
     "execution_count": 41,
     "metadata": {},
     "output_type": "execute_result"
    }
   ],
   "source": [
    "# hash():返回输入对象的哈希值，用整数表示。哈希值在字典查找时，可用于快速比较键的值。可以把无序变成有序。增加效率\n",
    "hash(\"1\")"
   ]
  },
  {
   "cell_type": "code",
   "execution_count": 44,
   "metadata": {},
   "outputs": [
    {
     "name": "stdout",
     "output_type": "stream",
     "text": [
      "[(-3, 0), (1, 4), (2, 9), (5, 7)]\n",
      "[(-3, 0), (1, 4), (5, 7), (2, 9)]\n"
     ]
    }
   ],
   "source": [
    "# sorted()  # 可用于排序\n",
    "# 例如可以用于对字典中的key进行排序\n",
    "a={1:4,5:7,2:9,-3:0}\n",
    "print(sorted(a.items()))  # 对字典中key排序\n",
    "print(sorted(a.items(),key=lambda x:x[1]))  # 对字典中value排序"
   ]
  },
  {
   "cell_type": "code",
   "execution_count": 46,
   "metadata": {},
   "outputs": [
    {
     "name": "stdout",
     "output_type": "stream",
     "text": [
      "(1, 'q')\n",
      "(2, 'w')\n",
      "(3, 'e')\n"
     ]
    }
   ],
   "source": [
    "# zip()  # 拉链，将数据合在一起，返回值为迭代器，迭代器中每个元素为元组。且以最短的为基准\n",
    "a=[1,2,3,4,5]\n",
    "b=['q','w','e']\n",
    "\n",
    "for i in zip(a,b):\n",
    "    print(i)"
   ]
  },
  {
   "cell_type": "code",
   "execution_count": 43,
   "metadata": {
    "collapsed": true
   },
   "outputs": [],
   "source": [
    "# 其他\n",
    "\n",
    "##########ascii码相关############\n",
    "# ascii()  # 把传入的参数转化成可打印的字符串\n",
    "# chr()  # 把传入的数字转化成对应的ascii码\n",
    "# ord()  # 把传入的ascii码转化成对应的数字\n",
    "##########ascii码相关############\n",
    "\n",
    "##########二进制相关############\n",
    "# bin()  # 把传入的数字参数转化成二进制\n",
    "# bytearray()  # 把传入的参数转化成可修改的二进制数组格式\n",
    "# bytes()  # 把传入的参数转化成不可修改的二进制格式\n",
    "##########二进制相关############\n",
    "\n",
    "##########面向对象相关############\n",
    "# delattr()  # 在面向对象中很有用\n",
    "# getaddr()  # 在面向对象中很有用\n",
    "# issubclass()  # 是不是子类\n",
    "# object()  # Python中一切皆对象。每个对象都有属性,可以通过\".\"调用属性\n",
    "# super()  # 可用在继承中，在子类构造函数中使用，调用父类的构造函数\n",
    "# vars()  # 返回对象的所有属性名\n",
    "##########面向对象相关############\n",
    "\n",
    "# callable()  # 判断传入的东西是否可以调用（即是否可以使用\"()\"调用）\n",
    "# classmethod()  # 类方法\n",
    "# compile()  # 把传入的参数进行编译。\n",
    "# complex()  # 返回复数？\n",
    "\n",
    "\n",
    "# ditc()  # 可以返回字典\n",
    "# dir()  # 查看目录\n",
    "# divmod()  # 参数a，b，返回商和余数\n",
    "\n",
    "# enumerate  # 对列表等加上index，循环中使用\n",
    "# eval()  # 将包含运算的字符串计算结果\n",
    "# exec()  # 将包含函数的字符串计算结果\n",
    "# float()  # 浮点数\n",
    "# format()  # 格式化字符串\n",
    "# frozenset()  # 把集合变成不可变集合，变成类似于元组\n",
    "\n",
    "# globals()  # 返回当前文件中所有已有的变量名及变量值。返回值为字典类型\n",
    "# hex()  # 转成十六进制\n",
    "# id()  # 返回内存地址\n",
    "# input()  # 输入交互\n",
    "# int()  # 转成整型\n",
    "# isinstance()  # 判断是否为某种类型\n",
    "# hex()  # 转成十六进制\n",
    "# iter()  # 迭代器\n",
    "# lens()  # 长度\n",
    "# locals()  # 返回当前函数中局部变量。返回值为字典类型\n",
    "\n",
    "# map()  # 对应\n",
    "# max()  # 返回列表中最大值\n",
    "# min()  # 返回列表中最小值\n",
    "# memoryview()  # \n",
    "# next()  # 迭代器中使用\n",
    "\n",
    "# oct()  # 转八进制\n",
    "# open()  # 可用于打开文件\n",
    "# pow()  # 幂计算\n",
    "# print()  # 打印\n",
    "# property()  # \n",
    "# range()  # \n",
    "# repr()  # 用字符串表示一个对象\n",
    "# reversed()  # 翻转\n",
    "# round()  # 保留两位小数精度\n",
    "\n",
    "# set()  # 集合\n",
    "# setattr()  # \n",
    "# slice()  # 切片\n",
    "# staticmethod()  # \n",
    "# str()  # 可用于打开文件\n",
    "# sum()  # 列表求和\n",
    "\n",
    "# tuple()  # 元组\n",
    "# type()  # 查询python中数据类型\n",
    "\n",
    "# __import__()  # 如果知道模块名，可以直接“import 模块名”。但如果只知道字符串，可以用 “__import__(字符串)”"
   ]
  },
  {
   "cell_type": "code",
   "execution_count": 17,
   "metadata": {},
   "outputs": [
    {
     "data": {
      "text/plain": [
       "b'dsdsd'"
      ]
     },
     "execution_count": 17,
     "metadata": {},
     "output_type": "execute_result"
    }
   ],
   "source": [
    "bytes(\"dsdsd\",encoding = \"utf-8\") "
   ]
  },
  {
   "cell_type": "markdown",
   "metadata": {},
   "source": [
    "## 作业1：修改haproxy配置文件"
   ]
  },
  {
   "cell_type": "markdown",
   "metadata": {},
   "source": [
    "**haproxy文件内容：**"
   ]
  },
  {
   "cell_type": "markdown",
   "metadata": {},
   "source": [
    "global       \n",
    "        log 127.0.0.1 local2\n",
    "        daemon\n",
    "        maxconn 256\n",
    "        log 127.0.0.1 local2 info\n",
    "defaults\n",
    "        log global\n",
    "        mode http\n",
    "        timeout connect 5000ms\n",
    "        timeout client 50000ms\n",
    "        timeout server 50000ms\n",
    "        option  dontlognull\n",
    "\n",
    "listen stats :8888\n",
    "        stats enable\n",
    "        stats uri       /admin\n",
    "        stats auth      admin:1234\n",
    "\n",
    "frontend oldboy.org\n",
    "        bind 0.0.0.0:80\n",
    "        option httplog\n",
    "        option httpclose\n",
    "        option  forwardfor\n",
    "        log global\n",
    "        acl www hdr_reg(host) -i www.oldboy.org\n",
    "        use_backend www.oldboy.org if www\n",
    "\n",
    "backend www.oldboy.org\n",
    "        server 100.1.7.9 100.1.7.9 weight 20 maxconn 3000"
   ]
  },
  {
   "cell_type": "markdown",
   "metadata": {},
   "source": [
    "**实现的功能：**"
   ]
  },
  {
   "cell_type": "markdown",
   "metadata": {},
   "source": [
    "1、查\n",
    "    输入：www.oldboy.org\n",
    "    获取当前backend下的所有记录\n",
    "\n",
    "2、新建\n",
    "    输入：\n",
    "        arg = {\n",
    "            'bakend': 'www.oldboy.org',\n",
    "            'record':{\n",
    "                'server': '100.1.7.9',\n",
    "                'weight': 20,\n",
    "                'maxconn': 30\n",
    "            }\n",
    "        }\n",
    "\n",
    "3、删除\n",
    "    输入：\n",
    "        arg = {\n",
    "            'bakend': 'www.oldboy.org',\n",
    "            'record':{\n",
    "                'server': '100.1.7.9',\n",
    "                'weight': 20,\n",
    "                'maxconn': 30\n",
    "            }\n",
    "        }"
   ]
  }
 ],
 "metadata": {
  "kernelspec": {
   "display_name": "Python 3",
   "language": "python",
   "name": "python3"
  },
  "language_info": {
   "codemirror_mode": {
    "name": "ipython",
    "version": 3
   },
   "file_extension": ".py",
   "mimetype": "text/x-python",
   "name": "python",
   "nbconvert_exporter": "python",
   "pygments_lexer": "ipython3",
   "version": "3.6.3"
  }
 },
 "nbformat": 4,
 "nbformat_minor": 2
}
