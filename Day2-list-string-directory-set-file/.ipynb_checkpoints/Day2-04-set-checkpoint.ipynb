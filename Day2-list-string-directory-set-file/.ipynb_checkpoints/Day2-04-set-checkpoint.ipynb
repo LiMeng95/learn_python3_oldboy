{
 "cells": [
  {
   "cell_type": "markdown",
   "metadata": {},
   "source": [
    "## 本部分简介\n",
    "- 集合\n",
    "\n",
    "[本部分参考网页](http://www.cnblogs.com/alex3714/articles/5717620.html)"
   ]
  },
  {
   "cell_type": "markdown",
   "metadata": {},
   "source": [
    "## 集合\n",
    "需求：集合是一个无序的，不重复的数据组合。可用于对两个列表的去重，更重要的作用是可用于对两个列表元素的关系进行测试。\n",
    "\n",
    "**集合定义**：参数可以是列表、字符串等，最多包含一个参数。集合也是无序的。"
   ]
  },
  {
   "cell_type": "code",
   "execution_count": 19,
   "metadata": {},
   "outputs": [
    {
     "data": {
      "text/plain": [
       "{3, 5, 9, 10}"
      ]
     },
     "execution_count": 19,
     "metadata": {},
     "output_type": "execute_result"
    }
   ],
   "source": [
    "set1 = set([3,5,10,3,9,10])  #创建一个数值集合,set最多包含一个参数\n",
    "set1"
   ]
  },
  {
   "cell_type": "code",
   "execution_count": 18,
   "metadata": {},
   "outputs": [
    {
     "data": {
      "text/plain": [
       "{'H', 'e', 'l', 'o'}"
      ]
     },
     "execution_count": 18,
     "metadata": {},
     "output_type": "execute_result"
    }
   ],
   "source": [
    "set2 = set(\"Hello\")  #创建一个唯一字符的集合，最多包含一个参数\n",
    "set2"
   ]
  },
  {
   "cell_type": "markdown",
   "metadata": {},
   "source": [
    "**集合增加**：add()和update()两种方式。add()用于增加一项，update()用于增加多项"
   ]
  },
  {
   "cell_type": "code",
   "execution_count": 17,
   "metadata": {},
   "outputs": [
    {
     "data": {
      "text/plain": [
       "{3, 5, 9, 10, 'x'}"
      ]
     },
     "execution_count": 17,
     "metadata": {},
     "output_type": "execute_result"
    }
   ],
   "source": [
    "set1 = set([3,5,10,3,9,10])\n",
    "set1.add('x')\n",
    "set1"
   ]
  },
  {
   "cell_type": "code",
   "execution_count": 23,
   "metadata": {},
   "outputs": [
    {
     "data": {
      "text/plain": [
       "{'o', 66, 3, 5, 7, 'e', 'l', 'H'}"
      ]
     },
     "execution_count": 23,
     "metadata": {},
     "output_type": "execute_result"
    }
   ],
   "source": [
    "set2 = set(\"Hello\")\n",
    "set2.update([3,5,66,7])\n",
    "set2"
   ]
  },
  {
   "cell_type": "markdown",
   "metadata": {},
   "source": [
    "**集合删除**：remove()方式，可指定删除的元素，元素不存在时会报错。discard()方式，可指定删除的元素，元素不存在时不会报错。pop()方式，随机删除，并返回删除的元素，set为空时会报错。"
   ]
  },
  {
   "cell_type": "code",
   "execution_count": 65,
   "metadata": {},
   "outputs": [
    {
     "data": {
      "text/plain": [
       "{'H', 'e', 'o'}"
      ]
     },
     "execution_count": 65,
     "metadata": {},
     "output_type": "execute_result"
    }
   ],
   "source": [
    "# remove()方式\n",
    "set2 = set(\"Hello\")\n",
    "set2.remove('l')\n",
    "set2"
   ]
  },
  {
   "cell_type": "code",
   "execution_count": 66,
   "metadata": {},
   "outputs": [
    {
     "data": {
      "text/plain": [
       "{'H', 'e', 'l', 'o'}"
      ]
     },
     "execution_count": 66,
     "metadata": {},
     "output_type": "execute_result"
    }
   ],
   "source": [
    "# discard()方式\n",
    "set2 = set(\"Hello\")\n",
    "set2.discard('m')\n",
    "set2"
   ]
  },
  {
   "cell_type": "code",
   "execution_count": 61,
   "metadata": {},
   "outputs": [
    {
     "name": "stdout",
     "output_type": "stream",
     "text": [
      "{'e', 'o', 'l', 'H'}\n",
      "e\n",
      "{'o', 'l', 'H'}\n",
      "o\n",
      "{'l', 'H'}\n"
     ]
    }
   ],
   "source": [
    "# pop()方式\n",
    "set2 = set(\"Hello\")\n",
    "print(set2)\n",
    "print(set2.pop())\n",
    "print(set2)\n",
    "print(set2.pop())\n",
    "print(set2)"
   ]
  },
  {
   "cell_type": "code",
   "execution_count": null,
   "metadata": {
    "collapsed": true
   },
   "outputs": [],
   "source": []
  },
  {
   "cell_type": "markdown",
   "metadata": {},
   "source": [
    "**集合关系运算**："
   ]
  },
  {
   "cell_type": "code",
   "execution_count": 58,
   "metadata": {},
   "outputs": [
    {
     "name": "stdout",
     "output_type": "stream",
     "text": [
      "--------取交集---------\n",
      "{1, 3}\n",
      "{1, 3}\n",
      "--------取并集---------\n",
      "{1, 2, 3, 4, 5, 8, 9, 10}\n",
      "{1, 2, 3, 4, 5, 8, 9, 10}\n",
      "--------取差集---------\n",
      "{2, 4, 5}\n",
      "{2, 4, 5}\n",
      "-------取对称差集--------\n",
      "{2, 4, 5, 8, 9, 10}\n",
      "{2, 4, 5, 8, 9, 10}\n"
     ]
    }
   ],
   "source": [
    "set1 = set([1,2,3,4,5])\n",
    "set2 = set([3,8,1,9,10])\n",
    "\n",
    "# 取交集,两种方法\n",
    "print(\"取交集\".center(20,'-'))\n",
    "print(set1.intersection(set2))\n",
    "print(set1 & set2)\n",
    "\n",
    "# 取并集,两种方法\n",
    "print(\"取并集\".center(20,'-'))\n",
    "print(set1.union(set2))\n",
    "print(set1 | set2)\n",
    "\n",
    "# 取差集,两种方法   set1中有，set2中没有的元素\n",
    "print(\"取差集\".center(20,'-'))\n",
    "print(set1.difference(set2))\n",
    "print(set1 - set2)\n",
    "\n",
    "# 取对称差集,两种方法   set1中、set2中单次出现的元素\n",
    "print(\"取对称差集\".center(20,'-'))\n",
    "print(set1.symmetric_difference(set2))\n",
    "print(set1 ^ set2)"
   ]
  },
  {
   "cell_type": "code",
   "execution_count": 52,
   "metadata": {},
   "outputs": [
    {
     "name": "stdout",
     "output_type": "stream",
     "text": [
      "---------子集---------\n",
      "True\n",
      "True\n",
      "---------父集---------\n",
      "False\n",
      "False\n",
      "------查看是否是元素-------\n",
      "False\n",
      "True\n",
      "------查看是否没有交集------\n",
      "False\n"
     ]
    }
   ],
   "source": [
    "set1 = set(\"hello\")\n",
    "set2 = set(\"hello world\")\n",
    "\n",
    "# 子集,两种方法  看set1是否为set2的子集\n",
    "print(\"子集\".center(20,'-'))\n",
    "print(set1.issubset(set2))\n",
    "print(set1 <= set2)\n",
    "\n",
    "# 父集,两种方法  看set1是否为set2的父集\n",
    "print(\"父集\".center(20,'-'))\n",
    "print(set1.issuperset(set2))\n",
    "print(set1 >= set2)\n",
    "\n",
    "# 查看是否是元素  看set1是否为set2中的元素\n",
    "print(\"查看是否是元素\".center(20,'-'))\n",
    "print(set1 in set2)  # 列表、字典、字符串、集合等都可以用in判断元素是否存在\n",
    "print(set1 not in set2)\n",
    "\n",
    "# 查看两个集合是否有交集，有交集返回False，没有返回True\n",
    "print(\"查看是否没有交集\".center(20,'-'))\n",
    "print(set1.isdisjoint(set2))"
   ]
  },
  {
   "cell_type": "markdown",
   "metadata": {},
   "source": [
    "**集合其他运算**："
   ]
  },
  {
   "cell_type": "code",
   "execution_count": 46,
   "metadata": {},
   "outputs": [
    {
     "data": {
      "text/plain": [
       "5"
      ]
     },
     "execution_count": 46,
     "metadata": {},
     "output_type": "execute_result"
    }
   ],
   "source": [
    "# 查看集合长度\n",
    "set1 = set([1,2,3,4,5])\n",
    "len(set1)"
   ]
  },
  {
   "cell_type": "code",
   "execution_count": 48,
   "metadata": {},
   "outputs": [
    {
     "data": {
      "text/plain": [
       "{1, 2, 3, 4, 5}"
      ]
     },
     "execution_count": 48,
     "metadata": {},
     "output_type": "execute_result"
    }
   ],
   "source": [
    "# 浅复制\n",
    "set1 = set([1,2,3,4,5])\n",
    "set2 = set1.copy()\n",
    "set2"
   ]
  }
 ],
 "metadata": {
  "kernelspec": {
   "display_name": "Python 3",
   "language": "python",
   "name": "python3"
  },
  "language_info": {
   "codemirror_mode": {
    "name": "ipython",
    "version": 3
   },
   "file_extension": ".py",
   "mimetype": "text/x-python",
   "name": "python",
   "nbconvert_exporter": "python",
   "pygments_lexer": "ipython3",
   "version": "3.6.3"
  }
 },
 "nbformat": 4,
 "nbformat_minor": 2
}
