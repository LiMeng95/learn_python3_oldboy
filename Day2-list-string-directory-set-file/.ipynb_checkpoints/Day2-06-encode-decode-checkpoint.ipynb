{
 "cells": [
  {
   "cell_type": "markdown",
   "metadata": {},
   "source": [
    "## 本部分简介\n",
    "- 字符编码与转码\n",
    "\n",
    "[本部分参考网页1](http://www.cnblogs.com/alex3714/articles/5717620.html)\n",
    "\n",
    "[本部分参考网页2](http://www.cnblogs.com/yuanchenqi/articles/5956943.html)\n",
    "\n",
    "## 字符编码与转码\n",
    "\n",
    "最初使用的是ASCII码，最多占一个字节，只能存英文和特殊字符。ASCII不能存中文，因此出现了GB2312(1980年)到GBK再到GB18030（能够存更多的文字）。为了兼容各个国家语言，出现了Unicode，占两个字节。为了节省Unicode浪费空间的问题，出现了UTF-8，是对Unicode编码的压缩和优化，可变长的字符编码，其中所有英文字符按ASCII码存储，占1个字节，欧洲的字符用2个字节保存，东亚的字符用3个字节保存。"
   ]
  },
  {
   "cell_type": "markdown",
   "metadata": {},
   "source": [
    "在python2默认编码是ASCII, python3里默认是Unicode\n",
    "\n",
    "在Python程序开头通常写的 #-*- coding='utf-8' -*-  是对Python解释器解码方式的声明。"
   ]
  },
  {
   "cell_type": "code",
   "execution_count": 14,
   "metadata": {
    "scrolled": true
   },
   "outputs": [
    {
     "data": {
      "text/plain": [
       "'utf-8'"
      ]
     },
     "execution_count": 14,
     "metadata": {},
     "output_type": "execute_result"
    }
   ],
   "source": [
    "# 系统默认编码\n",
    "import sys\n",
    "sys.getdefaultencoding()"
   ]
  },
  {
   "cell_type": "markdown",
   "metadata": {},
   "source": [
    "**字符转码流程**：Python2和Python3中均遵循此流程，即，不同字符编码之间均需要经过Unicode。**无论py2，还是py3,与明文直接对应的就是unicode数据**，打印unicode数据就会显示相应的明文(包括英文和中文)\n",
    "![](Day2-06-encode-decode.png)"
   ]
  },
  {
   "cell_type": "markdown",
   "metadata": {},
   "source": [
    "**Python2中**：python2默认编码是ASCII\n",
    "\n",
    "例如，Python2中，'utf-8'编码的字符串str从utf-8转成gbk编码需要经过以下流程：\n",
    " - str_2_unicode = str.decode('utf-8')  # 表明初始编码是utf-8\n",
    " - str_gbk = str_2_unicode.encode('gbk')  # 表明要转化成的编码是gbk"
   ]
  },
  {
   "cell_type": "markdown",
   "metadata": {},
   "source": [
    "**Python3中**：\n",
    "\n",
    "与Python2不同的有以下两点：\n",
    "- python3默认编码是Unicode。\n",
    "- encode过程中，不仅转换了编码，还转换成了bytes类型。bytes类型可通过decode变成字符串。"
   ]
  },
  {
   "cell_type": "code",
   "execution_count": 38,
   "metadata": {
    "scrolled": true
   },
   "outputs": [
    {
     "name": "stdout",
     "output_type": "stream",
     "text": [
      "-------------编码过程-------------\n",
      "b'\\xe4\\xbd\\xa0\\xe5\\xa5\\xbd'\n",
      "b'\\xe4\\xbd\\xa0\\xe5\\xa5\\xbd'\n",
      "b'\\xc4\\xe3\\xba\\xc3'\n",
      "b'\\xc4\\xe3\\xba\\xc3'\n",
      "-------------解码过程-------------\n",
      "你好\n",
      "你好\n",
      "你好\n"
     ]
    }
   ],
   "source": [
    "#-*- coding='gbk' -*-\n",
    "\n",
    "str1 = \"你好\"  # 默认当前编码为Unicode\n",
    "\n",
    "print('编码过程'.center(30,'-'))\n",
    "print(str1.encode())  # 默认编码成utf-8\n",
    "print(str1.encode('utf-8'))\n",
    "print(str1.encode('gb2312'))  # 如果字符串中包含汉字“紘”，则这部分会报错，因为没有这个编码\n",
    "print(str1.encode('gb18030'))\n",
    "\n",
    "print('解码过程'.center(30,'-'))\n",
    "print(str1.encode('utf-8').decode())\n",
    "print(str1.encode('utf-8').decode('utf-8'))\n",
    "print(str1.encode('gb2312').decode('gb2312'))"
   ]
  }
 ],
 "metadata": {
  "kernelspec": {
   "display_name": "Python 3",
   "language": "python",
   "name": "python3"
  },
  "language_info": {
   "codemirror_mode": {
    "name": "ipython",
    "version": 3
   },
   "file_extension": ".py",
   "mimetype": "text/x-python",
   "name": "python",
   "nbconvert_exporter": "python",
   "pygments_lexer": "ipython3",
   "version": "3.6.3"
  }
 },
 "nbformat": 4,
 "nbformat_minor": 2
}
