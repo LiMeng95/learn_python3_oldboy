{
 "cells": [
  {
   "cell_type": "markdown",
   "metadata": {},
   "source": [
    "## 本部分简介\n",
    "- 字典\n",
    "- 作业三：三级菜单程序\n",
    "\n",
    "[本部分参考网页](http://www.cnblogs.com/alex3714/articles/5717620.html)"
   ]
  },
  {
   "cell_type": "markdown",
   "metadata": {},
   "source": [
    "## 字典\n",
    "需求：存储较复杂的信息。字典可以按照索引查询。列表中索引通过位置查询，而字典中不同。字典是key-value类型，可通过key进行查询。key必须是唯一的,天生去重。\n",
    "\n",
    "**字典定义**："
   ]
  },
  {
   "cell_type": "code",
   "execution_count": 6,
   "metadata": {},
   "outputs": [
    {
     "name": "stdout",
     "output_type": "stream",
     "text": [
      "{'stu1101': 'Zhao', 'stu1102': 'Qian', 'stu1103': 'Sun'}\n",
      "--------------------\n",
      "{2: 'context', 3: 'context', 4: 'context'}\n"
     ]
    }
   ],
   "source": [
    "info = {\n",
    "    'stu1101': \"Zhao\",\n",
    "    'stu1102': \"Qian\",\n",
    "    'stu1103': \"Sun\"\n",
    "}\n",
    "print(info)  # 字典是无序的，没有下标\n",
    "print(''.center(20,'-'))\n",
    "c = dict.fromkeys([2,3,4],\"context\")  # 这样创建的字典是浅复制的，只有第一层完全复制，其他层复制地址\n",
    "print(c)"
   ]
  },
  {
   "cell_type": "markdown",
   "metadata": {},
   "source": [
    "**字典修改**："
   ]
  },
  {
   "cell_type": "code",
   "execution_count": 2,
   "metadata": {},
   "outputs": [
    {
     "data": {
      "text/plain": [
       "{'stu1101': 'Zhao',\n",
       " 'stu1102': '钱',\n",
       " 'stu1103': 'Sun1',\n",
       " 'stu1104': '李',\n",
       " 1: 2,\n",
       " 'stu0011': [12, 34]}"
      ]
     },
     "execution_count": 2,
     "metadata": {},
     "output_type": "execute_result"
    }
   ],
   "source": [
    "info[\"stu1102\"] = \"钱\"  # 如果存在则进行修改\n",
    "info[\"stu1104\"] = \"李\"  # 不存在则直接添加\n",
    "info.setdefault(\"stu1101\",'Sun')  # 如果已经存在\"stu1101\"，保持不变，不存在则添加\n",
    "#############\n",
    "info_new = {\n",
    "    1:2,\n",
    "    'stu1103': \"Sun1\",\n",
    "    \"stu0011\":[12,34]\n",
    "}\n",
    "#############\n",
    "info.update(info_new)  # 将旧字典与新字典比较，替换相同的key，增加新的内容\n",
    "info"
   ]
  },
  {
   "cell_type": "markdown",
   "metadata": {},
   "source": [
    "**字典删除**："
   ]
  },
  {
   "cell_type": "code",
   "execution_count": 3,
   "metadata": {},
   "outputs": [
    {
     "data": {
      "text/plain": [
       "{'stu1102': '钱', 'stu1104': '李', 1: 2, 'stu0011': [12, 34]}"
      ]
     },
     "execution_count": 3,
     "metadata": {},
     "output_type": "execute_result"
    }
   ],
   "source": [
    "del info[\"stu1101\"]  # del是Python中删除变量的通用方法\n",
    "info.pop(\"stu1103\")  # 指定删除某一个\n",
    "# info.popitem()  # 因为字典无序，所以随便删除一个？\n",
    "info"
   ]
  },
  {
   "cell_type": "markdown",
   "metadata": {},
   "source": [
    "**字典查询**："
   ]
  },
  {
   "cell_type": "code",
   "execution_count": 4,
   "metadata": {
    "scrolled": true
   },
   "outputs": [
    {
     "name": "stdout",
     "output_type": "stream",
     "text": [
      "钱\n",
      "李\n",
      "True\n",
      "***************\n",
      "<class 'dict_keys'>\n",
      "dict_values(['钱', '李', 2, [12, 34]])\n",
      "dict_items([('stu1102', '钱'), ('stu1104', '李'), (1, 2), ('stu0011', [12, 34])])\n"
     ]
    }
   ],
   "source": [
    "# 列表、字典、字符串、集合等都可以用in判断元素是否存在\n",
    "print(info[\"stu1102\"])  # 直接使用key进行查询，如果不存在该关键字则报错\n",
    "print(info.get(\"stu1104\"))  # get方法较为安全，不存在则返回None\n",
    "print(\"stu1104\" in info)  # 判断字典中是否有某个关键字\n",
    "print(''.center(15,'*'))\n",
    "print(type(info.keys()))  # 取出所有的key\n",
    "print(info.values())  # 取出所有的value\n",
    "print(info.items())  # 取出所有的项"
   ]
  },
  {
   "cell_type": "markdown",
   "metadata": {},
   "source": [
    "**多级字典的嵌套**：字典可以多层嵌套，做成树状结构"
   ]
  },
  {
   "cell_type": "code",
   "execution_count": 5,
   "metadata": {},
   "outputs": [
    {
     "data": {
      "text/plain": [
       "'1995万'"
      ]
     },
     "execution_count": 5,
     "metadata": {},
     "output_type": "execute_result"
    }
   ],
   "source": [
    "capital_catalog = {\n",
    "    \"Asia\" : {\n",
    "        \"Beijing\":[\"China\",\"1.641万平方千米\",\"2170.7万\"],\n",
    "        \"Seoul\":[\"South Korea\",\"605.77平方千米\",\"1014万\"],\n",
    "        \"Tokyo\":[\"Japan\",\"2155平方千米\",\"3700万\"]\n",
    "    },\n",
    "    \"Europe\" : {\n",
    "        \"London\":[\"UK\",\"1577平方千米\",\"828万\"],\n",
    "        \"Roma\":[\"Italy\",\"1285.306平方公里\",\"286.8万\"]\n",
    "    },\n",
    "    \"Americas\" : {\n",
    "        \"Washington D.C\":[\"America\",\"177平方公里\",\"68.1万\"],\n",
    "        \"Buenos Aires\":[\"Argentina\",\"203平方公里\",\"1995万\"]\n",
    "    }\n",
    "}\n",
    "capital_catalog.get(\"Americas\").get(\"Buenos Aires\")[2]"
   ]
  },
  {
   "cell_type": "markdown",
   "metadata": {},
   "source": [
    "**字典循环**："
   ]
  },
  {
   "cell_type": "code",
   "execution_count": 10,
   "metadata": {},
   "outputs": [
    {
     "name": "stdout",
     "output_type": "stream",
     "text": [
      "stu1101 --> Zhao\n",
      "stu1102 --> Qian\n",
      "stu1103 --> Sun\n",
      "--------------------\n",
      "stu1101 --> Zhao\n",
      "stu1102 --> Qian\n",
      "stu1103 --> Sun\n"
     ]
    }
   ],
   "source": [
    "info = {\n",
    "    'stu1101': \"Zhao\",\n",
    "    'stu1102': \"Qian\",\n",
    "    'stu1103': \"Sun\"\n",
    "}\n",
    "# 建议使用的循环方式,高效\n",
    "for i in info:\n",
    "    print(i,'-->',info[i])\n",
    "    \n",
    "print(''.center(20,'-'))\n",
    "    \n",
    "# 建议使用的循环方式，低效\n",
    "for i,v in info.items():\n",
    "    print(i,'-->',v)"
   ]
  },
  {
   "cell_type": "markdown",
   "metadata": {},
   "source": [
    "## 作业三：三级菜单程序\n",
    "任务说明：\n",
    "- 打印大洲、国家、主要城市三级菜单\n",
    "- 可返回上一级\n",
    "- 可随时退出程序"
   ]
  }
 ],
 "metadata": {
  "kernelspec": {
   "display_name": "Python 3",
   "language": "python",
   "name": "python3"
  },
  "language_info": {
   "codemirror_mode": {
    "name": "ipython",
    "version": 3
   },
   "file_extension": ".py",
   "mimetype": "text/x-python",
   "name": "python",
   "nbconvert_exporter": "python",
   "pygments_lexer": "ipython3",
   "version": "3.6.3"
  }
 },
 "nbformat": 4,
 "nbformat_minor": 2
}
