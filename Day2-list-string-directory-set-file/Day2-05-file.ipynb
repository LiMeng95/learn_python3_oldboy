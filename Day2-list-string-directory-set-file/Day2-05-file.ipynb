{
 "cells": [
  {
   "cell_type": "markdown",
   "metadata": {},
   "source": [
    "## 本部分简介\n",
    "- 文件操作\n",
    "\n",
    "[本部分参考网页](http://www.cnblogs.com/alex3714/articles/5717620.html)\n",
    "\n",
    "## 文件\n",
    "程序与文件进行数据交互"
   ]
  },
  {
   "cell_type": "markdown",
   "metadata": {},
   "source": [
    "**文件操作流程**：\n",
    "- 打开文件，得到文件句柄并赋值给一个变量\n",
    "- 通过句柄对文件进行操作\n",
    "- 关闭文件 "
   ]
  },
  {
   "cell_type": "markdown",
   "metadata": {},
   "source": [
    "**文件打开**：使用open()命令,参数为文件名称、打开模式、编码集等"
   ]
  },
  {
   "cell_type": "code",
   "execution_count": 15,
   "metadata": {},
   "outputs": [
    {
     "data": {
      "text/plain": [
       "<_io.TextIOWrapper name='lyric.txt' mode='r' encoding='utf-8'>"
      ]
     },
     "execution_count": 15,
     "metadata": {},
     "output_type": "execute_result"
    }
   ],
   "source": [
    "# windows 默认是gbk格式。Python3默认是utf-8。如果不指定编码集，则以默认的gbk编码打开，会报错。\n",
    "f = open(\"lyric.txt\",'r',encoding = \"utf-8\")  # 得到文件句柄，包括文件名、硬盘起始位置,读写方式等信息，默认打开方式为只读。\n",
    "f\n",
    "# print(f.read())  # 打印文件内容"
   ]
  },
  {
   "cell_type": "markdown",
   "metadata": {},
   "source": [
    "**文件打开模式**：\n",
    "\n",
    "- r，只读模式（默认）。\n",
    "- w，只写模式。【不可读；不存在则创建；存在则删除内容；】\n",
    "- a，追加模式。【不可读；不存在则创建；存在则只追加内容；】\n",
    "- \n",
    "- \"+\" 表示可以同时读写某个文件。【写的时候只会从文件最后进行内容追加，不能加到中间部分】\n",
    " -   r+，可读写文件。【可读；可写；可追加】。【最常用的】。起始时指针在文件开头。\n",
    " -   w+，写读：该模式会首先根据w命令创建文件，已有文件删除。与读写模式（r+）的情况不同。用得不多。\n",
    " -   a+，追加。【可读；可写；可追加】。起始时指针在文件末尾。\n",
    "- \n",
    "- \"U\"表示在读取时，可以将 \\r \\n \\r\\n自动转换成 \\n （与 r 或 r+ 模式同使用）。因为在Windows上以\\r\\n换行。Linux上以\\n换行。\n",
    " -   rU\n",
    " -   r+U\n",
    "- \n",
    "- \"b\"表示处理二进制文件（如：FTP发送上传ISO镜像文件，linux可忽略，windows处理二进制文件时需标注）\n",
    " -   rb（网络传输时使用）\n",
    " -   wb\n",
    " -   ab"
   ]
  },
  {
   "cell_type": "markdown",
   "metadata": {},
   "source": [
    "**文件关闭**：使用close()命令,在使用完文件句柄之后，需要关闭。"
   ]
  },
  {
   "cell_type": "code",
   "execution_count": 16,
   "metadata": {
    "collapsed": true
   },
   "outputs": [],
   "source": [
    "f.close()"
   ]
  },
  {
   "cell_type": "markdown",
   "metadata": {},
   "source": [
    "**实现文件自动关闭**：使用with语句管理上下文,Python3中特有的可以使用一个with对多个文件进行同时管理"
   ]
  },
  {
   "cell_type": "code",
   "execution_count": 105,
   "metadata": {},
   "outputs": [
    {
     "name": "stdout",
     "output_type": "stream",
     "text": [
      "Somehow, it seems the love I knew was always the most destructive kind\n",
      "\n"
     ]
    }
   ],
   "source": [
    "# 打开文件，自动关闭\n",
    "with open(\"lyric.txt\",'r',encoding = \"utf-8\") as f:  # 相当于 \"f = open(\"lyric.txt\",'r',encoding = \"utf-8\")\"\n",
    "    print(f.readline())"
   ]
  },
  {
   "cell_type": "code",
   "execution_count": 107,
   "metadata": {},
   "outputs": [
    {
     "name": "stdout",
     "output_type": "stream",
     "text": [
      "Somehow, it seems the love I knew was always the most destructive kind\n",
      "\n",
      "My lyric\n",
      "\n"
     ]
    }
   ],
   "source": [
    "# 打开多个文件，，自动关闭\n",
    "with open(\"lyric.txt\",'r',encoding = \"utf-8\") as f1, \\\n",
    "        open(\"my_lyric.txt\",'r',encoding = \"utf-8\") as f2:\n",
    "    print(f1.readline())\n",
    "    print(f2.readline())"
   ]
  },
  {
   "cell_type": "markdown",
   "metadata": {},
   "source": [
    "**文件读取**：文件指针初始时从头开始，随着读写命令光标移动。"
   ]
  },
  {
   "cell_type": "code",
   "execution_count": 32,
   "metadata": {},
   "outputs": [
    {
     "name": "stdout",
     "output_type": "stream",
     "text": [
      "Somehow, it seems the love I knew was always the most destructive kind\n",
      "\n"
     ]
    }
   ],
   "source": [
    "# 打开文件\n",
    "f = open(\"lyric.txt\",'r',encoding = \"utf-8\")\n",
    "\n",
    "# data = f.read(50)  # 读取全部内容，返回字符串，指针指到最后。数字表示读多少个字符\n",
    "data = f.readline(100)  # 读一行，返回字符串，指针指到第二行开头。数字表示读多少个字符，超出该行字符数则只读一行\n",
    "# data = f.readlines()  # 读多行，返回列表，每个元素为每行的内容（字符串）。\n",
    "\n",
    "# 循环读文件，实现每次只读一行，对读大文件读写时效率高\n",
    "\"\"\"\n",
    "for line in f:  # 这里的f是迭代器的作用\n",
    "    print(line.strip())\n",
    "\"\"\"\n",
    "\n",
    "print(data)\n",
    "\n",
    "# 关闭文件\n",
    "f.close()"
   ]
  },
  {
   "cell_type": "markdown",
   "metadata": {},
   "source": [
    "**写文件**：不同模式下光标起始位置不同。"
   ]
  },
  {
   "cell_type": "code",
   "execution_count": 57,
   "metadata": {},
   "outputs": [],
   "source": [
    "# 写普通文件\n",
    "\n",
    "# 打开文件\n",
    "f = open(\"my_lyric.txt\",'w',encoding = \"utf-8\")\n",
    "\n",
    "f.write('My lyric\\n')  # 直接写字符串\n",
    "f.writelines([\"菜鸟教程 1\\n\", \"菜鸟教程 2\"])  # 写列表中的多个字符串\n",
    "\n",
    "# 关闭文件\n",
    "f.close()"
   ]
  },
  {
   "cell_type": "code",
   "execution_count": 53,
   "metadata": {
    "scrolled": true
   },
   "outputs": [
    {
     "name": "stdout",
     "output_type": "stream",
     "text": [
      "起始位置-->>>>>>>>>>>>>> 0\n",
      "Somehow, it seems the love I knew was always the most destructive kind\n",
      "读一行后位置-->>>>>>>>>>>> 71\n",
      "写一行后位置-->>>>>>>>>>>> 2604\n",
      "到256后位置-->>>>>>>>>>> 256\n",
      "my tongue\n",
      "再读一行后位置-->>>>>>>>>>> 266\n"
     ]
    }
   ],
   "source": [
    "# 写文件时的指针变化\n",
    "\n",
    "# 打开文件\n",
    "f = open(\"lyric.txt\",'r+',encoding = \"utf-8\")\n",
    "\n",
    "print('起始位置-->'.ljust(20,'>'),f.tell())\n",
    "print(f.readline().strip())\n",
    "print('读一行后位置-->'.ljust(20,'>'),f.tell())\n",
    "f.write('\\nMy File')\n",
    "print('写一行后位置-->'.ljust(20,'>'),f.tell())\n",
    "f.seek(256)  # 返回到某个位置。参数n表示指针返回到第n个字符之后。\n",
    "print('到256后位置-->'.ljust(20,'>'),f.tell())\n",
    "print(f.readline().strip())\n",
    "print('再读一行后位置-->'.ljust(20,'>'),f.tell())\n",
    "\n",
    "# 关闭文件\n",
    "f.close()"
   ]
  },
  {
   "cell_type": "markdown",
   "metadata": {},
   "source": [
    "**二进制文件读写**："
   ]
  },
  {
   "cell_type": "code",
   "execution_count": 69,
   "metadata": {
    "scrolled": true
   },
   "outputs": [
    {
     "name": "stdout",
     "output_type": "stream",
     "text": [
      "b'My File\\n'\n",
      "My File\n",
      "\n"
     ]
    }
   ],
   "source": [
    "# 打开二进制文件，以读写二进制的方式打开\n",
    "f = open(\"my_lyric_binary.txt\",'rb+')\n",
    "\n",
    "f.write('My File\\n'.encode())  # 默认从utf-8 encode 成二进制写入\n",
    "\n",
    "f.seek(0)\n",
    "print(f.readline())\n",
    "\n",
    "f.seek(0)\n",
    "print(f.readline().decode())  # 默认 decode 成 utf-8 格式\n",
    "\n",
    "# 关闭文件\n",
    "f.close()"
   ]
  },
  {
   "cell_type": "markdown",
   "metadata": {},
   "source": [
    "**文件修改**：是通过“先将文件读出来，写到内存，修改后再写到文件中”的方式修改。"
   ]
  },
  {
   "cell_type": "code",
   "execution_count": 83,
   "metadata": {},
   "outputs": [],
   "source": [
    "# 修改文件的例子\n",
    "# 实现将my_lyric.txt文件中所有有文字“教程”的行，最前面加“--> ”符号\n",
    "import os\n",
    "\n",
    "file_orignal = open('my_lyric.txt','r',encoding = 'utf-8')\n",
    "file_new = open('my_lyric_new.txt','w',encoding = 'utf-8')\n",
    "\n",
    "for data in file_orignal:\n",
    "    if \"教程\" in data:\n",
    "        data = \"{} {}\".format(\"-->\",data)\n",
    "    file_new.write(data)\n",
    "\n",
    "file_orignal.close()\n",
    "file_new.close()\n",
    "\n",
    "os.remove('my_lyric.txt')  # 文件删除\n",
    "os.rename('my_lyric_new.txt','my_lyric.txt')  # 文件重命名，当原文件存在时，不能重命名"
   ]
  },
  {
   "cell_type": "markdown",
   "metadata": {},
   "source": [
    "**文件指针相关**：seek与tell函数"
   ]
  },
  {
   "cell_type": "code",
   "execution_count": 31,
   "metadata": {},
   "outputs": [
    {
     "name": "stdout",
     "output_type": "stream",
     "text": [
      "0\n",
      "71\n",
      "456\n"
     ]
    }
   ],
   "source": [
    "# 打开文件\n",
    "f = open(\"lyric.txt\",'r',encoding = \"utf-8\")\n",
    "\n",
    "print(f.tell())  # 打印文件当前指针位置，表示前方有多少字符\n",
    "f.readline()\n",
    "print(f.tell())\n",
    "f.seek(456)  # 返回到某个位置。参数n表示指针返回到第n个字符之后。\n",
    "print(f.tell())\n",
    "\n",
    "# 关闭文件\n",
    "f.close()"
   ]
  },
  {
   "cell_type": "markdown",
   "metadata": {},
   "source": [
    "**其他命令**："
   ]
  },
  {
   "cell_type": "code",
   "execution_count": 34,
   "metadata": {
    "collapsed": true
   },
   "outputs": [],
   "source": [
    "# f.flush() 命令，写文件时系统等到缓存满了才写到文件中（一般在dos命令行中有这种缓存机制），使用flush命令进行强制刷新，不等缓存满了才写文件\n",
    "# f.buffer 命令，返回文件编码方式\n",
    "# f.detach() 命令，在编辑时转换编码方式\n",
    "# f.encoding 命令，返回文件编码方式\n",
    "# f.errors 命令，异常处理时使用\n",
    "# f.fileno() 命令，返回句柄f在内存中的编号\n",
    "# f.name 命令，返回文件名称\n",
    "# f.isatty() 命令，是否是终端设备\n",
    "# f.seekable() 命令，判断是否可移动指针\n",
    "# f.readable() 命令，判断是否可读\n",
    "# f.writeable() 命令，判断是否可写\n",
    "# f.closed 命令，判断是否关闭\n",
    "# f.truncate(n) 命令，截断。如果不写参数n则清空文件。参数n表示保留前n个字符，与指针当前位置无关"
   ]
  },
  {
   "cell_type": "markdown",
   "metadata": {},
   "source": [
    "**进度条的小例子**：使用flush命令输出进度条效果"
   ]
  },
  {
   "cell_type": "code",
   "execution_count": 41,
   "metadata": {},
   "outputs": [
    {
     "name": "stdout",
     "output_type": "stream",
     "text": [
      "####################"
     ]
    }
   ],
   "source": [
    "import sys,time\n",
    "for i in range(20):\n",
    "    sys.stdout.write('#')  # 标准输出方式，与print不同\n",
    "    sys.stdout.flush()  # 强制输出，没有的话会某几个‘#’同时输出\n",
    "    time.sleep(0.1)  # 停顿0.1s "
   ]
  },
  {
   "cell_type": "markdown",
   "metadata": {},
   "source": [
    "## 作业四：修改haproxy配置文件 \n",
    "任务说明：\n",
    "- "
   ]
  }
 ],
 "metadata": {
  "kernelspec": {
   "display_name": "Python 3",
   "language": "python",
   "name": "python3"
  },
  "language_info": {
   "codemirror_mode": {
    "name": "ipython",
    "version": 3
   },
   "file_extension": ".py",
   "mimetype": "text/x-python",
   "name": "python",
   "nbconvert_exporter": "python",
   "pygments_lexer": "ipython3",
   "version": "3.6.3"
  }
 },
 "nbformat": 4,
 "nbformat_minor": 2
}
