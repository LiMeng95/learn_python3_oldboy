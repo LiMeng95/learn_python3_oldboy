{
 "cells": [
  {
   "cell_type": "markdown",
   "metadata": {},
   "source": [
    "## 本部分简介\n",
    "- 列表\n",
    "- 元组\n",
    "- 作业二：购物车程序\n",
    "\n",
    "[本部分参考网页](http://www.cnblogs.com/alex3714/articles/5717620.html)"
   ]
  },
  {
   "cell_type": "markdown",
   "metadata": {},
   "source": [
    "## 列表\n",
    "需求：将多个信息进行存储。\n",
    "\n",
    "#### 列表定义："
   ]
  },
  {
   "cell_type": "code",
   "execution_count": 1,
   "metadata": {},
   "outputs": [
    {
     "data": {
      "text/plain": [
       "['Zhao', 'Qian', 'Sun', 'Li', 'Zhou', 'Wu', 'Zheng', 'Wang']"
      ]
     },
     "execution_count": 1,
     "metadata": {},
     "output_type": "execute_result"
    }
   ],
   "source": [
    "names = ['Zhao', 'Qian', 'Sun', 'Li', 'Zhou', 'Wu', 'Zheng', 'Wang']  # 列表定义\n",
    "names"
   ]
  },
  {
   "cell_type": "markdown",
   "metadata": {},
   "source": [
    "**列表切片**：通过下标访问，从0开始。切片操作可取多个元素。参数表示半闭半开区间。负数表示倒序。"
   ]
  },
  {
   "cell_type": "code",
   "execution_count": 2,
   "metadata": {},
   "outputs": [
    {
     "data": {
      "text/plain": [
       "['Sun', 'Li', 'Zhou']"
      ]
     },
     "execution_count": 2,
     "metadata": {},
     "output_type": "execute_result"
    }
   ],
   "source": [
    "names[2:-3]  # 从某个区间取值"
   ]
  },
  {
   "cell_type": "code",
   "execution_count": 3,
   "metadata": {},
   "outputs": [
    {
     "data": {
      "text/plain": [
       "['Zheng', 'Wang']"
      ]
     },
     "execution_count": 3,
     "metadata": {},
     "output_type": "execute_result"
    }
   ],
   "source": [
    "names[6:]  # 取末尾的值。如果直接写区间则不能包括。"
   ]
  },
  {
   "cell_type": "code",
   "execution_count": 4,
   "metadata": {},
   "outputs": [
    {
     "data": {
      "text/plain": [
       "['Zhao', 'Sun', 'Zhou', 'Zheng']"
      ]
     },
     "execution_count": 4,
     "metadata": {},
     "output_type": "execute_result"
    }
   ],
   "source": [
    "names[::2]  # 从0开始，到-1，每隔两个取一个,这里进行了省略"
   ]
  },
  {
   "cell_type": "code",
   "execution_count": 5,
   "metadata": {},
   "outputs": [
    {
     "data": {
      "text/plain": [
       "['Li', 'Zheng']"
      ]
     },
     "execution_count": 5,
     "metadata": {},
     "output_type": "execute_result"
    }
   ],
   "source": [
    "names[3:7:3]  # 从3开始，到7，每隔三个取一个"
   ]
  },
  {
   "cell_type": "markdown",
   "metadata": {},
   "source": [
    "**列表追加**：使用append"
   ]
  },
  {
   "cell_type": "code",
   "execution_count": 6,
   "metadata": {},
   "outputs": [
    {
     "data": {
      "text/plain": [
       "['Zhao', 'Qian', 'Sun', 'Li', 'Zhou', 'Wu', 'Zheng', 'Wang', 'Feng']"
      ]
     },
     "execution_count": 6,
     "metadata": {},
     "output_type": "execute_result"
    }
   ],
   "source": [
    "names = ['Zhao', 'Qian', 'Sun', 'Li', 'Zhou', 'Wu', 'Zheng', 'Wang']\n",
    "names.append('Feng')\n",
    "names"
   ]
  },
  {
   "cell_type": "markdown",
   "metadata": {},
   "source": [
    "**列表插入**：使用insert,会加在前面"
   ]
  },
  {
   "cell_type": "code",
   "execution_count": 7,
   "metadata": {},
   "outputs": [
    {
     "name": "stdout",
     "output_type": "stream",
     "text": [
      "['Zhao', 'Qian', 'Sun', 'Li_insert', 'Li', 'Zhou', 'Wu', 'Zheng', 'Wang', 'Feng']\n"
     ]
    }
   ],
   "source": [
    "names = ['Zhao', 'Qian', 'Sun', 'Li', 'Zhou', 'Wu', 'Zheng', 'Wang', 'Feng']\n",
    "names.insert(3,'Li_insert')\n",
    "print(names)"
   ]
  },
  {
   "cell_type": "markdown",
   "metadata": {},
   "source": [
    "**列表修改**：直接进行替换"
   ]
  },
  {
   "cell_type": "code",
   "execution_count": 8,
   "metadata": {},
   "outputs": [
    {
     "name": "stdout",
     "output_type": "stream",
     "text": [
      "['Zhao', 'Qian', 'Sun', 'Li_change', 'Li', 'Zhou', 'Wu', 'Zheng', 'Wang', 'Feng']\n"
     ]
    }
   ],
   "source": [
    "names = ['Zhao', 'Qian', 'Sun', 'Li_insert', 'Li', 'Zhou', 'Wu', 'Zheng', 'Wang', 'Feng']\n",
    "names[3] = 'Li_change'\n",
    "print(names)"
   ]
  },
  {
   "cell_type": "markdown",
   "metadata": {},
   "source": [
    "**列表删除**：三种方法进行删除"
   ]
  },
  {
   "cell_type": "code",
   "execution_count": 9,
   "metadata": {},
   "outputs": [
    {
     "name": "stdout",
     "output_type": "stream",
     "text": [
      "---> ['Zhao', 'Qian', 'Sun', 'Li', 'Zhou', 'Wu', 'Zheng', 'Wang', 'Feng']\n",
      "---> ['Zhao', 'Qian', 'Sun', 'Li', 'Zhou', 'Wu', 'Zheng', 'Feng']\n",
      "---> ['Zhao', 'Qian', 'Sun', 'Li', 'Zhou', 'Wu', 'Zheng']\n",
      "---> []\n"
     ]
    }
   ],
   "source": [
    "names = ['Zhao', 'Qian', 'Sun', 'Li_change', 'Li', 'Zhou', 'Wu', 'Zheng', 'Wang', 'Feng']\n",
    "del names[3]  # 直接根据下标删除\n",
    "print('--->',names)\n",
    "names.remove('Wang')  # 根据内容删除\n",
    "print('--->',names)\n",
    "names.pop()  # 删除最后一个元素\n",
    "print('--->',names)\n",
    "names.clear()  # 删除所有元素\n",
    "print('--->',names)\n",
    "del names  # 删除变量"
   ]
  },
  {
   "cell_type": "markdown",
   "metadata": {},
   "source": [
    "**列表查询**：使用index"
   ]
  },
  {
   "cell_type": "code",
   "execution_count": 10,
   "metadata": {},
   "outputs": [
    {
     "data": {
      "text/plain": [
       "3"
      ]
     },
     "execution_count": 10,
     "metadata": {},
     "output_type": "execute_result"
    }
   ],
   "source": [
    "# 列表、字典、字符串、集合等都可以用in判断元素是否存在\n",
    "names = ['Zhao', 'Qian', 'Sun', 'Li', 'Zhou', 'Wu', 'Zheng', 'Wang']\n",
    "names.index('Li')"
   ]
  },
  {
   "cell_type": "markdown",
   "metadata": {},
   "source": [
    "**列表统计**：使用count"
   ]
  },
  {
   "cell_type": "code",
   "execution_count": 11,
   "metadata": {},
   "outputs": [
    {
     "data": {
      "text/plain": [
       "2"
      ]
     },
     "execution_count": 11,
     "metadata": {},
     "output_type": "execute_result"
    }
   ],
   "source": [
    "names = ['Zhao', 'Qian', 'Sun', 'Li', 'Zhou', 'Wu', 'Zheng', 'Wang', 'Li']\n",
    "names.count('Li')"
   ]
  },
  {
   "cell_type": "markdown",
   "metadata": {},
   "source": [
    "**列表排序**：使用sort"
   ]
  },
  {
   "cell_type": "code",
   "execution_count": 12,
   "metadata": {},
   "outputs": [
    {
     "data": {
      "text/plain": [
       "['#Qian', '3Sun', '5Li', 'Wu', 'Zhao', 'Zheng', 'Zhou', 'wang']"
      ]
     },
     "execution_count": 12,
     "metadata": {},
     "output_type": "execute_result"
    }
   ],
   "source": [
    "names = ['Zhao', '#Qian', '3Sun', '5Li', 'Zhou', 'Wu', 'Zheng', 'wang']\n",
    "names.sort()  # 按照特殊符号、数字、大写、小写的顺序排序，不同类型的数据不能放在一起排序\n",
    "names"
   ]
  },
  {
   "cell_type": "markdown",
   "metadata": {},
   "source": [
    "**列表反转**：使用reverse"
   ]
  },
  {
   "cell_type": "code",
   "execution_count": 13,
   "metadata": {},
   "outputs": [
    {
     "data": {
      "text/plain": [
       "['Wang', 'Zheng', 'Wu', 'Zhou', 'Li', 'Sun', 'Qian', 'Zhao']"
      ]
     },
     "execution_count": 13,
     "metadata": {},
     "output_type": "execute_result"
    }
   ],
   "source": [
    "names = ['Zhao', 'Qian', 'Sun', 'Li', 'Zhou', 'Wu', 'Zheng', 'Wang']\n",
    "names.reverse()\n",
    "names"
   ]
  },
  {
   "cell_type": "markdown",
   "metadata": {},
   "source": [
    "**列表扩展**：使用extend"
   ]
  },
  {
   "cell_type": "code",
   "execution_count": 14,
   "metadata": {},
   "outputs": [
    {
     "data": {
      "text/plain": [
       "['Zhao', 'Qian', 'Sun', 'Li', 1, 2, 3, 4]"
      ]
     },
     "execution_count": 14,
     "metadata": {},
     "output_type": "execute_result"
    }
   ],
   "source": [
    "names1 = ['Zhao', 'Qian', 'Sun', 'Li']\n",
    "names2 = [1,2,3,4]\n",
    "names1.extend(names2)\n",
    "names1"
   ]
  },
  {
   "cell_type": "markdown",
   "metadata": {},
   "source": [
    "**列表复制**：\n",
    "\n",
    "使用copy，浅复制:"
   ]
  },
  {
   "cell_type": "code",
   "execution_count": 15,
   "metadata": {},
   "outputs": [
    {
     "name": "stdout",
     "output_type": "stream",
     "text": [
      "---> ['Zhao', 'Qian', 'Sun', 'Li', 'Zhou', 'Wu', 'Zheng', 'Wang']\n",
      "---> ['Zhao', 'Qian', 'Sun', 'Li', 'Zhou', 'Wu', 'Zheng', 'Wang']\n",
      "---> ['Zhao', 'Qian', 'Sun', ['Zhou', 'Wu', 'Zheng', 'Wang'], 'Li']\n",
      "---> ['Zhao', 'Qian', 'Sun', ['Zhou', 'ABBB', 'Zheng', 'Wang'], 'Li']\n"
     ]
    }
   ],
   "source": [
    "names = ['Zhao', 'Qian', 'Sun', 'Li', 'Zhou', 'Wu', 'Zheng', 'Wang']\n",
    "name_copy = names.copy()  # 浅复制，仅复制第一层的内容，如果还有下一层，则直接复制下一层的地址。复制了变量的引用\n",
    "print('--->',name_copy)\n",
    "names = ['Zhao', 'Qian', 'Sun', 'Li']\n",
    "print('--->',name_copy)\n",
    "#################\n",
    "names = ['Zhao', 'Qian', 'Sun', [ 'Zhou', 'Wu', 'Zheng', 'Wang'], 'Li']\n",
    "name_copy = names.copy()  # 浅复制，仅复制第一层的内容。如果还有下一层，则直接复制下一层的地址。\n",
    "print('--->',name_copy)\n",
    "names[3][1] = 'ABBB'  # 修改了原始内容\n",
    "names[2] = 'AXXX'  # 修改了原始内容\n",
    "print('--->',name_copy)"
   ]
  },
  {
   "cell_type": "markdown",
   "metadata": {},
   "source": [
    "使用 ‘=’ ，也是浅复制，但仅复制地址:"
   ]
  },
  {
   "cell_type": "code",
   "execution_count": 16,
   "metadata": {},
   "outputs": [
    {
     "name": "stdout",
     "output_type": "stream",
     "text": [
      "---> ['Zhao', 'qian', 'Sun', ['Zhou', 'Wu', 'Zheng', 'Wang'], 'Li']\n",
      "---> ['Zhao', 'qian', 'AXXX', ['Zhou', 'ABBB', 'Zheng', 'Wang'], 'Li']\n"
     ]
    }
   ],
   "source": [
    "names = ['Zhao', 'qian', 'Sun', [ 'Zhou', 'Wu', 'Zheng', 'Wang'], 'Li']\n",
    "name_copy = names  # 浅复制，仅复制地址。\n",
    "print('--->',name_copy)\n",
    "names[3][1] = 'ABBB'  # 修改了原始内容\n",
    "names[2] = 'AXXX'  # 修改了原始内容\n",
    "print('--->',name_copy)"
   ]
  },
  {
   "cell_type": "markdown",
   "metadata": {},
   "source": [
    "使用独立的copy模块，可进行深/浅复制:"
   ]
  },
  {
   "cell_type": "code",
   "execution_count": 17,
   "metadata": {},
   "outputs": [
    {
     "name": "stdout",
     "output_type": "stream",
     "text": [
      "soft---> ['Zhao', 'qian', 'Sun', ['Zhou', 'Wu', 'Zheng', 'Wang'], 'Li']\n",
      "soft---> ['Zhao', 'qian', 'Sun', ['Zhou', 'ABBB', 'Zheng', 'Wang'], 'Li']\n",
      "deepcopy---> ['Zhao', 'qian', 'Sun', ['Zhou', 'Wu', 'Zheng', 'Wang'], 'Li']\n",
      "deepcopy---> ['Zhao', 'qian', 'Sun', ['Zhou', 'Wu', 'Zheng', 'Wang'], 'Li']\n"
     ]
    }
   ],
   "source": [
    "import copy\n",
    "# ------------- 浅复制\n",
    "names = ['Zhao', 'qian', 'Sun', [ 'Zhou', 'Wu', 'Zheng', 'Wang'], 'Li']\n",
    "name_copy = copy.copy(names)  # 浅复制，仅复制第一层的内容，如果还有下一层，则直接复制下一层的地址。\n",
    "print('soft--->',name_copy)\n",
    "names[3][1] = 'ABBB'  # 修改了原始内容\n",
    "names[2] = 'AXXX'  # 修改了原始内容\n",
    "print('soft--->',name_copy)\n",
    "# ------------- 深复制\n",
    "names = ['Zhao', 'qian', 'Sun', [ 'Zhou', 'Wu', 'Zheng', 'Wang'], 'Li']\n",
    "name_copy = copy.deepcopy(names)  # 深复制，完全克隆\n",
    "print('deepcopy--->',name_copy)\n",
    "names[3][1] = 'ABBB'  # 修改了原始内容\n",
    "names[2] = 'AXXX'  # 修改了原始内容\n",
    "print('deepcopy--->',name_copy)"
   ]
  },
  {
   "cell_type": "markdown",
   "metadata": {},
   "source": [
    "**总结**，进行浅copy的三种方法。当原始数据用作模板的时候，浅复制很有用。"
   ]
  },
  {
   "cell_type": "code",
   "execution_count": 18,
   "metadata": {
    "collapsed": true
   },
   "outputs": [],
   "source": [
    "import copy\n",
    "names = ['Zhao', 'qian', 'Sun', [ 'Zhou', 'Wu', 'Zheng', 'Wang'], 'Li']\n",
    "p1 = copy.copy(names) # 方法一\n",
    "p2 = names[:]  # 方法二\n",
    "p3 = list(names)  # 方法三，工厂函数\n",
    "## 以上三种方法得到的结果相同"
   ]
  },
  {
   "cell_type": "code",
   "execution_count": 19,
   "metadata": {},
   "outputs": [
    {
     "name": "stdout",
     "output_type": "stream",
     "text": [
      "['women', ['saving', 50]]\n"
     ]
    }
   ],
   "source": [
    "import copy\n",
    "person = ['name',['saving',100]]\n",
    "p1 = person.copy()  # 浅复制，可以创建联合账号\n",
    "p2 = person.copy()\n",
    "p1[0] = 'man'\n",
    "p2[0] = 'women'\n",
    "p1[1][1] = 50\n",
    "print(p2)"
   ]
  },
  {
   "cell_type": "markdown",
   "metadata": {},
   "source": [
    "**列表循环**：for循环"
   ]
  },
  {
   "cell_type": "code",
   "execution_count": 20,
   "metadata": {},
   "outputs": [
    {
     "name": "stdout",
     "output_type": "stream",
     "text": [
      "Zhao\n",
      "qian\n",
      "Sun\n",
      "['Zhou', 'Wu', 'Zheng', 'Wang']\n",
      "Li\n"
     ]
    }
   ],
   "source": [
    "names = ['Zhao', 'qian', 'Sun', [ 'Zhou', 'Wu', 'Zheng', 'Wang'], 'Li']\n",
    "for i in names:\n",
    "    print(i)"
   ]
  },
  {
   "cell_type": "markdown",
   "metadata": {},
   "source": [
    "**列表长度**：len函数"
   ]
  },
  {
   "cell_type": "code",
   "execution_count": 24,
   "metadata": {},
   "outputs": [
    {
     "data": {
      "text/plain": [
       "5"
      ]
     },
     "execution_count": 24,
     "metadata": {},
     "output_type": "execute_result"
    }
   ],
   "source": [
    "names = ['Zhao', 'qian', 'Sun', [ 'Zhou', 'Wu', 'Zheng', 'Wang'], 'Li']\n",
    "len(names)"
   ]
  },
  {
   "cell_type": "markdown",
   "metadata": {},
   "source": [
    "**列表循环打印**：使用for，加上enumerate函数得到下标"
   ]
  },
  {
   "cell_type": "code",
   "execution_count": 25,
   "metadata": {},
   "outputs": [
    {
     "name": "stdout",
     "output_type": "stream",
     "text": [
      "0 Zhao\n",
      "1 qian\n",
      "2 Sun\n",
      "3 ['Zhou', 'Wu', 'Zheng', 'Wang']\n",
      "4 Li\n"
     ]
    }
   ],
   "source": [
    "names = ['Zhao', 'qian', 'Sun', [ 'Zhou', 'Wu', 'Zheng', 'Wang'], 'Li']\n",
    "for index,i in enumerate(names):\n",
    "    print(index,i)"
   ]
  },
  {
   "cell_type": "markdown",
   "metadata": {},
   "source": [
    "## 元组\n",
    "需求：将多个信息进行存储。它一旦创建，便不能再修改，所以又叫只读列表。只能切片、查询\n",
    "\n",
    "#### 元组定义："
   ]
  },
  {
   "cell_type": "code",
   "execution_count": 21,
   "metadata": {},
   "outputs": [
    {
     "data": {
      "text/plain": [
       "('Zhao', 'qian', 'Sun', 'Li')"
      ]
     },
     "execution_count": 21,
     "metadata": {},
     "output_type": "execute_result"
    }
   ],
   "source": [
    "names = ('Zhao', 'qian', 'Sun', 'Li')\n",
    "names"
   ]
  },
  {
   "cell_type": "markdown",
   "metadata": {},
   "source": [
    "它只有2个方法，一个是count,一个是index\n",
    "\n",
    "**元组统计**："
   ]
  },
  {
   "cell_type": "code",
   "execution_count": 22,
   "metadata": {},
   "outputs": [
    {
     "data": {
      "text/plain": [
       "1"
      ]
     },
     "execution_count": 22,
     "metadata": {},
     "output_type": "execute_result"
    }
   ],
   "source": [
    "names = ('Zhao', 'qian', 'Sun', 'Li')\n",
    "names.count('Li')"
   ]
  },
  {
   "cell_type": "markdown",
   "metadata": {},
   "source": [
    "**元组查询**："
   ]
  },
  {
   "cell_type": "code",
   "execution_count": 27,
   "metadata": {},
   "outputs": [
    {
     "data": {
      "text/plain": [
       "3"
      ]
     },
     "execution_count": 27,
     "metadata": {},
     "output_type": "execute_result"
    }
   ],
   "source": [
    "names = ('Zhao', 'qian', 'Sun', 'Li')\n",
    "names.index('Li')"
   ]
  },
  {
   "cell_type": "markdown",
   "metadata": {},
   "source": [
    "## 作业二：购物车程序\n",
    "任务说明：\n",
    "- 启动程序后，让用户输入工资，然后打印商品列表\n",
    "- 允许用户根据商品编号购买商品\n",
    "- 用户选择商品后，检测余额是否够，够就直接扣款，不够就提醒 \n",
    "- 可随时退出，退出时，打印已购买商品和余额"
   ]
  }
 ],
 "metadata": {
  "kernelspec": {
   "display_name": "Python 3",
   "language": "python",
   "name": "python3"
  },
  "language_info": {
   "codemirror_mode": {
    "name": "ipython",
    "version": 3
   },
   "file_extension": ".py",
   "mimetype": "text/x-python",
   "name": "python",
   "nbconvert_exporter": "python",
   "pygments_lexer": "ipython3",
   "version": "3.6.3"
  }
 },
 "nbformat": 4,
 "nbformat_minor": 2
}
