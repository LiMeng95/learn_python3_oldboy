{
 "cells": [
  {
   "cell_type": "markdown",
   "metadata": {},
   "source": [
    "## 作业二：购物车程序\n",
    "任务说明：\n",
    "- 启动程序后，让用户输入工资，然后打印商品列表\n",
    "- 允许用户根据商品编号购买商品\n",
    "- 用户选择商品后，检测余额是否够，够就直接扣款，不够就提醒 \n",
    "- 可随时退出，退出时，打印已购买商品和余额"
   ]
  },
  {
   "cell_type": "code",
   "execution_count": 1,
   "metadata": {},
   "outputs": [
    {
     "name": "stdout",
     "output_type": "stream",
     "text": [
      "Please input your salary:30000\n",
      "commodity_list:\n",
      "0 ['Computer', 5000]\n",
      "1 ['bicycle', 1000]\n",
      "2 ['book', 40]\n",
      "3 ['keyboard', 200]\n",
      "4 ['bottle', 30]\n",
      "Please input commodity number (q:quit):3\n",
      "\n",
      "commodity_list:\n",
      "0 ['Computer', 5000]\n",
      "1 ['bicycle', 1000]\n",
      "2 ['book', 40]\n",
      "3 ['keyboard', 200]\n",
      "4 ['bottle', 30]\n",
      "Please input commodity number (q:quit):0\n",
      "\n",
      "commodity_list:\n",
      "0 ['Computer', 5000]\n",
      "1 ['bicycle', 1000]\n",
      "2 ['book', 40]\n",
      "3 ['keyboard', 200]\n",
      "4 ['bottle', 30]\n",
      "Please input commodity number (q:quit):0\n",
      "\n",
      "commodity_list:\n",
      "0 ['Computer', 5000]\n",
      "1 ['bicycle', 1000]\n",
      "2 ['book', 40]\n",
      "3 ['keyboard', 200]\n",
      "4 ['bottle', 30]\n",
      "Please input commodity number (q:quit):q\n",
      "Your balance: 19800\n",
      "Your shopping list:\n",
      "['number', 'commodity', 'price', 'quantity']\n",
      "['0', 'keyboard', 200, 1]\n",
      "['1', 'Computer', 5000, 2]\n"
     ]
    }
   ],
   "source": [
    "# 商品列表\n",
    "commodity_list = [['Computer', 5000], ['bicycle', 1000], ['book', 40], ['keyboard', 200], ['bottle', 30]]\n",
    "salary = input(\"Please input your salary:\")  # 输入工资\n",
    "shopping_list = []\n",
    "if salary.isdigit():\n",
    "    salary = int(salary)\n",
    "\n",
    "state = 0  # 购物状态\n",
    "while True:\n",
    "    print(\"commodity_list:\")\n",
    "    for index, i in enumerate(commodity_list):                            # 打印商品列表,enumerate用于取出列表下标\n",
    "        print(index,i)\n",
    "\n",
    "    commodity_number = input(\"Please input commodity number (q:quit):\")  # 输入购买编号,q为退出\n",
    "\n",
    "    if commodity_number == 'q':  # 退出\n",
    "        break\n",
    "    elif commodity_number.isdigit() and 0 <= int(commodity_number) < len(commodity_list):  # 在商品范围内\n",
    "        commodity_number = int(commodity_number)\n",
    "        if salary - commodity_list[commodity_number][1] > 0:      # 余额够\n",
    "            salary = salary - commodity_list[commodity_number][1]\n",
    "            for bought in shopping_list:                                     # 查找是否已经买过了\n",
    "                if bought[1] == commodity_list[commodity_number][0]:\n",
    "                    bought[3] += 1\n",
    "                    break\n",
    "            else:                                                            # 遍历一遍之后没有买过\n",
    "                bought = [str(state), commodity_list[commodity_number][0], commodity_list[commodity_number][1], 1]\n",
    "                shopping_list.append(bought)\n",
    "                state += 1\n",
    "            print()\n",
    "        else:                                                             # 余额不够\n",
    "            print(\"Your salary is not enough!\")\n",
    "    else:\n",
    "        print(\"Invalid input!\")\n",
    "        continue\n",
    "\n",
    "\n",
    "print(\"Your balance:\", salary)\n",
    "print(\"Your shopping list:\")\n",
    "print(['number', 'commodity', 'price', 'quantity'])\n",
    "for i in shopping_list:\n",
    "    print(i)"
   ]
  },
  {
   "cell_type": "code",
   "execution_count": null,
   "metadata": {
    "collapsed": true
   },
   "outputs": [],
   "source": []
  }
 ],
 "metadata": {
  "kernelspec": {
   "display_name": "Python 3",
   "language": "python",
   "name": "python3"
  },
  "language_info": {
   "codemirror_mode": {
    "name": "ipython",
    "version": 3
   },
   "file_extension": ".py",
   "mimetype": "text/x-python",
   "name": "python",
   "nbconvert_exporter": "python",
   "pygments_lexer": "ipython3",
   "version": "3.6.3"
  }
 },
 "nbformat": 4,
 "nbformat_minor": 2
}
