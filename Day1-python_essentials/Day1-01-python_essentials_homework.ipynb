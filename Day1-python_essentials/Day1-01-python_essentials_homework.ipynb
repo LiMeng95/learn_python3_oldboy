{
 "cells": [
  {
   "cell_type": "markdown",
   "metadata": {},
   "source": [
    "## 作业一：编写登陆接口\n",
    "任务说明：\n",
    "- 可输入用户名密码\n",
    "- 与硬盘中数据比对后，认证成功则显示欢迎信息\n",
    "- 输错三次后锁定，将该用户名存储到硬盘，拒绝该用户名下次登录\n",
    "\n",
    "作业说明：\n",
    "- 实现了上述功能，NameAndPasswd.txt文件存储了已有的用户名和密码，LockedName.txt文件存储了锁定的用户名\n",
    "\n",
    "**方法1，没有使用列表等数据类型，直接实现**"
   ]
  },
  {
   "cell_type": "code",
   "execution_count": 1,
   "metadata": {},
   "outputs": [
    {
     "name": "stdout",
     "output_type": "stream",
     "text": [
      "Plz input your username:name2\n",
      "Plz input your password:333\n",
      "Username name2 has been locked!\n"
     ]
    }
   ],
   "source": [
    "file_of_name_password = open(\"NameAndPasswd.txt\", 'r')\n",
    "file_of_locked_name = open(\"LockedName.txt\", 'r+')\n",
    "\n",
    "username_input = input(\"Plz input your username:\")\n",
    "password_input = input(\"Plz input your password:\")\n",
    "\n",
    "# 首先判断用户名是否被锁定\n",
    "Locked = 0  # 0表示未锁定，1表示锁定\n",
    "while Locked == 0:\n",
    "    locked_name = file_of_locked_name.readline().split()  # 获取被锁定账号名称,split可去除'\\n\\t\\r'空格等\n",
    "    if locked_name:  # 如果没有到文件结尾\n",
    "        if locked_name[0] == username_input:\n",
    "            print(\"Username %s has been locked!\" % username_input)\n",
    "            Locked = 1\n",
    "    else:  # 如果已到文件结尾\n",
    "        break\n",
    "\n",
    "# 如未锁定，则开始登陆\n",
    "Login_succeed = 0  # 0表示未成功登陆，1表示成功登录\n",
    "while Locked == 0 and Login_succeed == 0:\n",
    "    username = file_of_name_password.readline().split()  # 按顺序读取已保存的用户名\n",
    "    if username:  # 如果没有到文件结尾\n",
    "        password = file_of_name_password.readline().split()[0]  # 按顺序读取已保存的密码\n",
    "        if username_input == username[0]:  # 如果用户名匹配\n",
    "            for password_input_count in range(3):\n",
    "                if password_input == password:  # 如果密码匹配\n",
    "                    print(\"Welcome user %s login...\" % username_input)\n",
    "                    Login_succeed = 1\n",
    "                    break\n",
    "                else:  # 重新输入密码\n",
    "                    print(\"Wrong password, Input again. You have %d chances remain.\" % (2-password_input_count))\n",
    "                    if password_input_count < 2:\n",
    "                        password_input = input(\"Plz input your password:\")\n",
    "                    else:  # 输入三次未成功\n",
    "                        file_of_locked_name.write(username_input)\n",
    "                        file_of_locked_name.write('\\n')\n",
    "                        print(\"Try to many times. Username %s has been locked!\" % username_input)\n",
    "                        Locked = 1\n",
    "    else:  # 如果已到文件结尾\n",
    "        print(\"Username %s do not exist.\" % username_input)\n",
    "        break\n",
    "\n",
    "file_of_name_password.close()\n",
    "file_of_locked_name.close()"
   ]
  }
 ],
 "metadata": {
  "kernelspec": {
   "display_name": "Python 3",
   "language": "python",
   "name": "python3"
  },
  "language_info": {
   "codemirror_mode": {
    "name": "ipython",
    "version": 3
   },
   "file_extension": ".py",
   "mimetype": "text/x-python",
   "name": "python",
   "nbconvert_exporter": "python",
   "pygments_lexer": "ipython3",
   "version": "3.6.3"
  }
 },
 "nbformat": 4,
 "nbformat_minor": 2
}
