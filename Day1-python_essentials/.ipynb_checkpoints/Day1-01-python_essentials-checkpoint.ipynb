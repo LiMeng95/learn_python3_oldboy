{
 "cells": [
  {
   "cell_type": "markdown",
   "metadata": {
    "collapsed": true
   },
   "source": [
    "# 写在最前面\n",
    "开始系统学习Python3。主要参考两个版本的教程，所以会分成两个版本的笔记进行学习记录。两个版本前面的部分会稍有重叠，后面各有侧重。此部分笔记基于第一个版本，偏向工程应用。\n",
    "- 第一个版本是老男孩教育的python自动化开发，主要偏向于工程应用，在简单的python基础之后对自动化开发过程进行重点介绍。[参考网站](http://www.cnblogs.com/alex3714/category/770733.html)\n",
    "- 第二个版本是李金学长的Python2学习笔记，偏向于科学运算。对Python中各种数据处理过程进行重点介绍。[参考网站](http://nbviewer.jupyter.org/github/lijin-THU/notes-python/blob/master/index.ipynb)\n",
    "\n",
    "李萌  2018年03月09日"
   ]
  },
  {
   "cell_type": "markdown",
   "metadata": {},
   "source": [
    "## 本部分简介\n",
    "- 基础介绍\n",
    "- 变量、模块认识\n",
    "- 简单交互\n",
    "- 数据类型与运算\n",
    "- 循环与判断\n",
    "- 作业一：编写登陆接口\n",
    "\n",
    "[本部分参考网页](http://www.cnblogs.com/alex3714/articles/5465198.html)"
   ]
  },
  {
   "cell_type": "markdown",
   "metadata": {},
   "source": [
    "## 基础介绍\n",
    "Python是一门解释性语言，与C、C++等编译性语言不同。\n",
    "\n",
    "**Python2与Python3的区别**（不全，待持续总结）\n",
    "- \"range()\" returns a memory efficient iterable, not a list as in 2.x\n",
    "- \"print()\"函数\n",
    "- 在python2默认编码是ASCII, python3里默认是unicode\n",
    "- 某些库改名了，详见上方参考网站\n",
    "- Python3字典类型中没有 Dir.has_key() 命令，而是使用 \"\" in Dir 代替，Python3 中，列表、字典、字符串、集合等都可以用in判断元素是否存在\n",
    "- Python3中统一使用open()命令打开文件，Python2.7中有使用file()命令的情况\n",
    "- Python3中可以使用with对多个open命令进行上下文管理，自动关闭文件。Python2中只能有一个。\n",
    "- Python3中对range()函数和xrange()函数做了统一，取消了xrange()函数，统一成range()函数，返回值为迭代器。而在Python2中,range()函数返回的是一个列表，xrange()函数返回的是迭代器。在处理较大数量的数据时，迭代器较快。\n",
    "- Python3中对文件进行操作时，直接使用redlines()函数，返回值为迭代器，取消了xredlines()函数。在Python2中使用xredlines()函数返回迭代器，redlines()函数返回值为列表。\n",
    "- reduce()方法在Python2中为内置方法，可直接使用。在Python3中移到了标准库中，需要通过“from functools import reduce”调用。\n",
    "- Python3中，json模块只能load一次，即每次读取全部数据。在Python2.7中可以load多次。\n",
    "- 在Python 2.7中，整型的运算结果只能返回整型，除法的结果也不例外。Python3中可以返回浮点型\n",
    "- Python3中没有长整型等，不管整形数据多大，都是int类型。\n",
    "- Python3中获取异常时使用“```except Exception as e```”，但是在Python2中可以使用“```except Exception, e```”\n",
    "- 待续...\n",
    "\n",
    "Python的发展史、优缺点、解释器、.pyc文件解释、Python运行流程等可见上方参考网站。"
   ]
  },
  {
   "cell_type": "markdown",
   "metadata": {},
   "source": [
    "## 变量、模块认识\n",
    "**1、变量**：变量用于程序中对信息进行存储和控制，并可以对待标记的数据进行直观描述。所以一般在对变量进行命名时，尽量使用符合语境的单词、数字、下划线或其组合作为变量名称。\n",
    "\n",
    "**变量声明**：如下，变量名为username，赋值为\"Meng Li\""
   ]
  },
  {
   "cell_type": "code",
   "execution_count": 1,
   "metadata": {
    "collapsed": true
   },
   "outputs": [],
   "source": [
    "username = \"Meng Li\""
   ]
  },
  {
   "cell_type": "markdown",
   "metadata": {},
   "source": [
    "**变量命名规则**：\n",
    "- 变量名只能是 字母、数字或下划线的任意组合\n",
    "- 变量名的第一个字符不能是数字\n",
    "- 以下关键字不能声明为变量名\n",
    "```\n",
    "['and', 'as', 'assert', 'break', 'class', 'continue', 'def', 'del', 'elif', 'else', 'except', 'exec', 'finally', 'for', 'from', 'global', 'if', 'import', 'in', 'is', 'lambda', 'not', 'or', 'pass', 'print', 'raise', 'return', 'try', 'while', 'with', 'yield']\n",
    "```\n",
    "\n",
    "**2、模块**：Python中有很多标准库和第三方库，可以进行很多的功能扩展，甚至可以自己写一些文件作为模块进行导入。系统导入模块时会首先从当前路径进行查找。想要导入自己的模块时，如果默认条件下搜索不到，可以通过修改python搜索路径的方式实现。以标准库sys和os为例，介绍模块功能及其导入方式(**注意**，python3中输出命令为print()，是与python2的一个重要差别)："
   ]
  },
  {
   "cell_type": "code",
   "execution_count": 4,
   "metadata": {},
   "outputs": [
    {
     "name": "stdout",
     "output_type": "stream",
     "text": [
      "['D:\\\\Anaconda3\\\\lib\\\\site-packages\\\\ipykernel_launcher.py', '-f', 'C:\\\\Users\\\\Administrator\\\\AppData\\\\Roaming\\\\jupyter\\\\runtime\\\\kernel-4956ab3b-8e3d-4383-91d3-aab2f33e5b0f.json']\n"
     ]
    }
   ],
   "source": [
    "# 例1.1.1 sys模块\n",
    "import sys\n",
    "# print(sys.path)  # 打印环境变量\n",
    "print(sys.argv)  # 打印接受的参数。得到的是一个列表"
   ]
  },
  {
   "cell_type": "code",
   "execution_count": 10,
   "metadata": {},
   "outputs": [
    {
     "name": "stdout",
     "output_type": "stream",
     "text": [
      " 驱动器 G 中的卷是 文档\n",
      " 卷的序列号是 8651-7CB7\n",
      "\n",
      " G:\\课程\\Python3\\Learn_Py3\\Notes 的目录\n",
      "\n",
      "2018/03/12  15:59    <DIR>          .\n",
      "2018/03/12  15:59    <DIR>          ..\n",
      "2018/03/12  15:12    <DIR>          .ipynb_checkpoints\n",
      "2018/03/12  15:59             5,550 day1-python-essentials-1.ipynb\n",
      "               1 个文件          5,550 字节\n",
      "               3 个目录 15,514,193,920 可用字节\n",
      "\n"
     ]
    }
   ],
   "source": [
    "# 例1.1.2 os模块,主要用于系统交互\n",
    "import os\n",
    "# os.system(\"dir\")  # 结果直接输出到屏幕上，而不进行保存。返回值为命令的成功与否，0为成功，1为失败\n",
    "cmd_res = os.popen(\"dir\").read()  # popen输出为内存对象的地址，加上read命令可以得到地址下的内容\n",
    "print(cmd_res)\n",
    "# os.mkdir(\"new_dir\")  # 创建新的目录"
   ]
  },
  {
   "cell_type": "markdown",
   "metadata": {},
   "source": [
    "## 简单交互\n",
    "介绍python中简单的命令行交互与文件交互方法。\n",
    "\n",
    "**使用input命令接收用户输入**，中间可放提示语，返回类型为字符串。如需其他类型需要进行强制类型转换。"
   ]
  },
  {
   "cell_type": "code",
   "execution_count": 11,
   "metadata": {
    "scrolled": true
   },
   "outputs": [
    {
     "name": "stdout",
     "output_type": "stream",
     "text": [
      "please input your username: Meng Li\n"
     ]
    }
   ],
   "source": [
    "username = input(\"please input your username: \")  # inout() 返回的是字符串类型"
   ]
  },
  {
   "cell_type": "markdown",
   "metadata": {},
   "source": [
    "**密码密文输入**，使用Python中的getpass库，它是Python的密码输入标准库。需注意，getpass在pycharm中不能用。"
   ]
  },
  {
   "cell_type": "code",
   "execution_count": 16,
   "metadata": {},
   "outputs": [
    {
     "name": "stdout",
     "output_type": "stream",
     "text": [
      "Please input your new user name: ········\n",
      "---> My Password\n"
     ]
    }
   ],
   "source": [
    "import getpass\n",
    "password = getpass.getpass(\"Please input your new user name: \") # getpass在pycharm中不能用\n",
    "print('--->',password)"
   ]
  },
  {
   "cell_type": "markdown",
   "metadata": {},
   "source": [
    "**格式化输出**\n",
    "提供三种格式化输出的方式，其输出结果相同"
   ]
  },
  {
   "cell_type": "code",
   "execution_count": 34,
   "metadata": {},
   "outputs": [
    {
     "data": {
      "text/plain": [
       "'\\nName: Meng Li\\nPassword: My Password\\n'"
      ]
     },
     "execution_count": 34,
     "metadata": {},
     "output_type": "execute_result"
    }
   ],
   "source": [
    "# 方法一、用%进行格式化输出\n",
    "info1 = '''\n",
    "Name: %s\n",
    "Password: %s\n",
    "''' % (username, password)  \n",
    "\n",
    "# 方法二、格式化拼接，使用format进行关联，这里的格式化代号可以自行确定\n",
    "info2 = '''\n",
    "Name: {_name1}\n",
    "Password: {_password}\n",
    "'''.format(_name1=username, _password=password)  \n",
    "\n",
    "# 方法三、格式化拼接，使用format进行关联\n",
    "info3 = '''\n",
    "Name: {0}\n",
    "Password: {1}\n",
    "'''.format(username, password)\n",
    "\n",
    "info1"
   ]
  },
  {
   "cell_type": "code",
   "execution_count": 6,
   "metadata": {},
   "outputs": [
    {
     "name": "stdout",
     "output_type": "stream",
     "text": [
      "the number \u001b[31;1m10\u001b[0m is \u001b[41;1myour\u001b[0m \u001b[32;1minput\u001b[0m.\n"
     ]
    }
   ],
   "source": [
    "# 高亮显示的例子\n",
    "number = 10\n",
    "print(\"the number \\033[31;1m%s\\033[0m is \\033[41;1myour\\033[0m \\033[32;1minput\\033[0m.\" %number)"
   ]
  },
  {
   "cell_type": "markdown",
   "metadata": {},
   "source": [
    "## 数据类型与运算\n",
    "**1、python中数据类型**\n",
    "- int类型：表示整数。与Python2的不同在于，Python3中整数都是int类型，没有长整型long了\n",
    "- float类型，可表示有理小数。\n",
    "- bool类型，表示真假值，常用1表示真，0表示假。\n",
    "- byte类型，字节数据类型，表示二进制数据=。python2中，字节类型与字符串相同，容易混淆。python3中对二者进行了明显的区分。我们常见的音频，视频数据等经常用二进制进行存储。bytes类型数据还通常用于网络数据传输、二进制图片和文件的保存。python3中的socket使用二进制进行信息传输，必须使用二进制。\n",
    "\n",
    "下方是二进制类型和字符串进行转换的例子："
   ]
  },
  {
   "cell_type": "code",
   "execution_count": 37,
   "metadata": {},
   "outputs": [
    {
     "name": "stdout",
     "output_type": "stream",
     "text": [
      "b'\\xe6\\x88\\x91\\xe7\\x88\\xb1\\xe5\\x8c\\x97\\xe4\\xba\\xac\\xe5\\xa4\\xa9\\xe5\\xae\\x89\\xe9\\x97\\xa8'\n",
      "我爱北京天安门\n"
     ]
    }
   ],
   "source": [
    "msg = \"我爱北京天安门\"\n",
    "print(msg.encode(encoding=\"utf-8\"))  # 字符串转换成二进制，byte类型，使用encode，并告诉原始编码是utf-8\n",
    "print(msg.encode(encoding=\"utf-8\").decode(encoding=\"utf-8\"))  # 二进制转字符串，使用decode，解码成utf-8"
   ]
  },
  {
   "cell_type": "markdown",
   "metadata": {},
   "source": [
    "**2、python字符编码**\n",
    "\n",
    "可见上方参考网站\n",
    "\n",
    "**3、python中数据运算**\n",
    "- 算数运算\n",
    "- 比较运算\n",
    "- 赋值运算\n",
    "- 逻辑运算\n",
    "- 成员、位置运算\n",
    "- 位运算\n",
    "\n",
    "可见上方参考网站"
   ]
  },
  {
   "cell_type": "markdown",
   "metadata": {},
   "source": [
    "## 循环与判断\n",
    "主要通过例子介绍if...else判断语句，while循环以及for循环的作用，后续文档进行详细介绍。\n",
    "\n",
    "与C++不同，Python中的判断、循环是通过缩进的方式进行分块，连续采用相同缩进的语句为整个部分。并且，在关键字语句的最后有冒号表示执行子环节。可见下方三个例子。\n",
    "\n",
    "**1、if...else判断**"
   ]
  },
  {
   "cell_type": "code",
   "execution_count": 21,
   "metadata": {},
   "outputs": [
    {
     "name": "stdout",
     "output_type": "stream",
     "text": [
      "Welcome user Meng Li login...\n"
     ]
    }
   ],
   "source": [
    "system_username = \"Meng Li\"\n",
    "system_password = \"My Password\"\n",
    "if username == system_username and password == system_password: #  两个条件同时成立\n",
    "    print(\"Welcome user {name} login...\".format(name=system_username))\n",
    "elif username == system_username or password == system_password: #  两个条件有一个成立\n",
    "    print(\"Invalid username or password!\")\n",
    "else: #  两个条件同时不成立\n",
    "    print(\"Invalid username and password!\")"
   ]
  },
  {
   "cell_type": "markdown",
   "metadata": {},
   "source": [
    "if...else判断还有常见的三元运算格式，格式为 “result = 值1 if 条件 else 值2”，即条件成立，取值为值1，否则取值为值2："
   ]
  },
  {
   "cell_type": "code",
   "execution_count": 27,
   "metadata": {},
   "outputs": [
    {
     "data": {
      "text/plain": [
       "'no'"
      ]
     },
     "execution_count": 27,
     "metadata": {},
     "output_type": "execute_result"
    }
   ],
   "source": [
    "answer = \"yes\" if username == \"M Li\" else \"no\"\n",
    "answer"
   ]
  },
  {
   "cell_type": "markdown",
   "metadata": {},
   "source": [
    "**2、while 循环**"
   ]
  },
  {
   "cell_type": "code",
   "execution_count": 22,
   "metadata": {},
   "outputs": [
    {
     "name": "stdout",
     "output_type": "stream",
     "text": [
      "please guess system age: 10\n",
      "think bigger\n",
      "please guess system age: 25\n",
      "think smaller\n",
      "please guess system age: 33\n",
      "think smaller\n",
      "You have tried too much times!\n"
     ]
    }
   ],
   "source": [
    "system_age = 23\n",
    "count = 0\n",
    "while count < 3:\n",
    "    age = int(input(\"please guess system age: \"))  # 输入并进行强制类型转换\n",
    "    if age == system_age:\n",
    "        print(\"you got it!\")\n",
    "        break\n",
    "    elif age > system_age:\n",
    "        print(\"think smaller\")\n",
    "    else:\n",
    "        print(\"think bigger\")\n",
    "    count = count + 1\n",
    "else: # 只有while正常执行完执行else，如果break就不执行\n",
    "    print(\"You have tried too much times!\")"
   ]
  },
  {
   "cell_type": "markdown",
   "metadata": {},
   "source": [
    "**3、for 循环**"
   ]
  },
  {
   "cell_type": "code",
   "execution_count": 24,
   "metadata": {},
   "outputs": [
    {
     "name": "stdout",
     "output_type": "stream",
     "text": [
      "please guess system age: 23\n",
      "you got it!\n"
     ]
    }
   ],
   "source": [
    "for count in range(3):\n",
    "    age = int(input(\"please guess system age: \"))  # 输入并进行强制类型转换\n",
    "    if age == system_age:\n",
    "        print(\"you got it!\")\n",
    "        break\n",
    "    elif age > system_age:\n",
    "        print(\"think smaller\")\n",
    "    else:\n",
    "        print(\"think bigger\")\n",
    "else:  # 只有for正常执行完执行else，如果break就不执行\n",
    "    print(\"You have tried too much times!\")"
   ]
  },
  {
   "cell_type": "markdown",
   "metadata": {},
   "source": [
    "range(a,b,c)中，a,b,c 分别表示起点、终点、步长，步长默认为1"
   ]
  },
  {
   "cell_type": "code",
   "execution_count": 35,
   "metadata": {},
   "outputs": [
    {
     "name": "stdout",
     "output_type": "stream",
     "text": [
      "step: 0\n",
      "step: 2\n",
      "step: 4\n",
      "step: 6\n",
      "step: 8\n"
     ]
    }
   ],
   "source": [
    "for count in range(0, 10, 2):\n",
    "    print(\"step:\", count)"
   ]
  },
  {
   "cell_type": "markdown",
   "metadata": {},
   "source": [
    "## 作业一：编写登陆接口"
   ]
  },
  {
   "cell_type": "markdown",
   "metadata": {},
   "source": [
    "任务说明：\n",
    "- 可输入用户名密码\n",
    "- 与硬盘中数据比对后，认证成功则显示欢迎信息\n",
    "- 输错三次后锁定，将该用户名存储到硬盘，拒绝该用户名下次登录"
   ]
  }
 ],
 "metadata": {
  "kernelspec": {
   "display_name": "Python 3",
   "language": "python",
   "name": "python3"
  },
  "language_info": {
   "codemirror_mode": {
    "name": "ipython",
    "version": 3
   },
   "file_extension": ".py",
   "mimetype": "text/x-python",
   "name": "python",
   "nbconvert_exporter": "python",
   "pygments_lexer": "ipython3",
   "version": "3.6.3"
  }
 },
 "nbformat": 4,
 "nbformat_minor": 2
}
