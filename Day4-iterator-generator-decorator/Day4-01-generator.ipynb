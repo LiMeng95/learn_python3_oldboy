{
 "cells": [
  {
   "cell_type": "markdown",
   "metadata": {},
   "source": [
    "## 本部分简介\n",
    "1. 列表生成式\n",
    "2. 生成器概述\n",
    "3. 生成器创建方式\n",
    "4. 生成器调用方式\n",
    "5. 使用举例\n",
    "\n",
    "[本部分参考网页](http://www.cnblogs.com/alex3714/articles/5765046.html)"
   ]
  },
  {
   "cell_type": "markdown",
   "metadata": {
    "collapsed": true
   },
   "source": [
    "## 列表生成式"
   ]
  },
  {
   "cell_type": "code",
   "execution_count": 21,
   "metadata": {},
   "outputs": [
    {
     "name": "stdout",
     "output_type": "stream",
     "text": [
      "[0, 2, 4]\n"
     ]
    }
   ],
   "source": [
    "# 普通列表定义方式：数据固定\n",
    "a=[1,2,3]\n",
    "\n",
    "# 列表生成式定义列表的方式：数据定义方式比较灵活。这里的i*2可以替换成其他函数\n",
    "b=[ i*2 for i in range(3)]\n",
    "print(b)"
   ]
  },
  {
   "cell_type": "markdown",
   "metadata": {
    "collapsed": true
   },
   "source": [
    "## 生成器概述\n",
    "通过列表生成式，我们可以直接创建一个列表。但是，受到内存限制，列表容量肯定是有限的。而且，创建一个包含100万个元素的列表，不仅占用很大的存储空间，而且如果我们仅仅需要访问前面几个元素，那后面绝大多数元素占用的空间都白白浪费了。\n",
    "\n",
    "所以，**如果列表元素可以按照某种算法推算出来，且仅仅需要访问前面几个元素**。那我们是否可以在循环的过程中不断推算出后续的元素呢？这样就不必创建完整的list，从而节省大量的空间。在Python中，这种**一边循环一边计算的机制，称为生成器**\n",
    "\n",
    "**生成器的好处**：\n",
    "- 节省内存\n",
    "- 可实现单线程并发运算（采用yield和send()联合使用的方式）"
   ]
  },
  {
   "cell_type": "markdown",
   "metadata": {
    "collapsed": true
   },
   "source": [
    "## 生成器创建方式\n",
    "**方式1：**类似于列表生成式，把[]改为()"
   ]
  },
  {
   "cell_type": "code",
   "execution_count": 5,
   "metadata": {
    "scrolled": true
   },
   "outputs": [
    {
     "data": {
      "text/plain": [
       "<generator object <genexpr> at 0x000000000586D620>"
      ]
     },
     "execution_count": 5,
     "metadata": {},
     "output_type": "execute_result"
    }
   ],
   "source": [
    "# 生成器创建方式1:\n",
    "b=( i*2 for i in range(3))\n",
    "b"
   ]
  },
  {
   "cell_type": "markdown",
   "metadata": {},
   "source": [
    "**方式2**：如果推算的算法比较复杂，用类似列表生成式的for循环无法实现的时候，还可以用函数的变形来实现。\n",
    "\n",
    "generator和函数的执行流程不一样。函数是顺序执行，遇到return语句或者最后一行函数语句就返回。而变成generator的函数，在每次调用next()的时候执行，**遇到yield语句返回，再次执行时从上次返回的yield语句处继续执行**。"
   ]
  },
  {
   "cell_type": "code",
   "execution_count": 20,
   "metadata": {
    "collapsed": true
   },
   "outputs": [],
   "source": [
    "# 生成器创建方式2:用函数的变形实现。\n",
    "# 这里的fib已经是一个生成器了，不是函数。\n",
    "\n",
    "def fib(max):  # 例如，定义了一个斐波那契函数\n",
    "    n,a,b = 0,0,1\n",
    "\n",
    "    while n < max:\n",
    "        #print(b)  # yield是一个关键字，后面可以加返回值、或者不加返回值。加返回值则可以输出。不回值，生成器执行时也会在这停止，等待下一次调用。\n",
    "        yield  b  # 如果一个函数定义中包含yield关键字，那么这个函数就不再是一个普通函数，而是一个generator。\n",
    "        a,b = b,a+b  # 相当于t = (b, a + b),a = t[0],b = t[1]。\n",
    "\n",
    "        n += 1\n",
    "\n",
    "    return 'done' "
   ]
  },
  {
   "cell_type": "markdown",
   "metadata": {
    "collapsed": true
   },
   "source": [
    "## 生成器调用方式\n",
    "生成器不支持切片等方式调用。只能一个一个地取值。因为生成器只有在调用时才能生成相应的数据。生成器只能记住当前位置，以这种机制节省内存。\n",
    "\n",
    "**方式1：**使用next()函数，每次调用next()，就计算出下一个元素的值，直到计算到最后一个元素，没有更多的元素时，抛出StopIteration的错误。因此，这种方式**不建议使用**"
   ]
  },
  {
   "cell_type": "code",
   "execution_count": 19,
   "metadata": {
    "scrolled": true
   },
   "outputs": [
    {
     "name": "stdout",
     "output_type": "stream",
     "text": [
      "0\n",
      "2\n",
      "4\n"
     ]
    },
    {
     "ename": "StopIteration",
     "evalue": "",
     "output_type": "error",
     "traceback": [
      "\u001b[1;31m---------------------------------------------------------------------------\u001b[0m",
      "\u001b[1;31mStopIteration\u001b[0m                             Traceback (most recent call last)",
      "\u001b[1;32m<ipython-input-19-18db56ddd49f>\u001b[0m in \u001b[0;36m<module>\u001b[1;34m()\u001b[0m\n\u001b[0;32m      4\u001b[0m \u001b[0mprint\u001b[0m\u001b[1;33m(\u001b[0m\u001b[0mnext\u001b[0m\u001b[1;33m(\u001b[0m\u001b[0mb\u001b[0m\u001b[1;33m)\u001b[0m\u001b[1;33m)\u001b[0m\u001b[1;33m\u001b[0m\u001b[0m\n\u001b[0;32m      5\u001b[0m \u001b[0mprint\u001b[0m\u001b[1;33m(\u001b[0m\u001b[0mb\u001b[0m\u001b[1;33m.\u001b[0m\u001b[0m__next__\u001b[0m\u001b[1;33m(\u001b[0m\u001b[1;33m)\u001b[0m\u001b[1;33m)\u001b[0m\u001b[1;33m\u001b[0m\u001b[0m\n\u001b[1;32m----> 6\u001b[1;33m \u001b[0mprint\u001b[0m\u001b[1;33m(\u001b[0m\u001b[0mnext\u001b[0m\u001b[1;33m(\u001b[0m\u001b[0mb\u001b[0m\u001b[1;33m)\u001b[0m\u001b[1;33m)\u001b[0m  \u001b[1;31m# next取不到值得时候会抛出异常\u001b[0m\u001b[1;33m\u001b[0m\u001b[0m\n\u001b[0m",
      "\u001b[1;31mStopIteration\u001b[0m: "
     ]
    }
   ],
   "source": [
    "# 使用next()函数调用生成器\n",
    "b=( i*2 for i in range(3))\n",
    "print(next(b))\n",
    "print(next(b))\n",
    "print(b.__next__())\n",
    "print(next(b))  # next取不到值得时候会抛出异常"
   ]
  },
  {
   "cell_type": "code",
   "execution_count": 16,
   "metadata": {
    "scrolled": true
   },
   "outputs": [
    {
     "name": "stdout",
     "output_type": "stream",
     "text": [
      "1\n",
      "1\n",
      "2\n",
      "3\n"
     ]
    }
   ],
   "source": [
    "# 使用next()函数调用类似函数产生的生成器\n",
    "# 这样，可以在调用类似函数执行结果的同时执行其他操作。\n",
    "data = fib(10)\n",
    "print(next(data))\n",
    "print(next(data))\n",
    "print(data.__next__())\n",
    "print(next(data))"
   ]
  },
  {
   "cell_type": "code",
   "execution_count": 18,
   "metadata": {
    "scrolled": false
   },
   "outputs": [
    {
     "name": "stdout",
     "output_type": "stream",
     "text": [
      "g: 1\n",
      "g: 1\n",
      "g: 2\n",
      "g: 3\n",
      "g: 5\n",
      "g: 8\n",
      "Generator return value: done\n"
     ]
    }
   ],
   "source": [
    "# 使用next函数调用类似函数产生的生成器，并得到最终返回值\n",
    "# 如果想要拿到返回值，必须捕获StopIteration错误，返回值包含在StopIteration的value中\n",
    "# 这样，可以在调用类似函数执行结果的同时执行其他操作。\n",
    "g = fib(6)\n",
    "while True:\n",
    "     try:\n",
    "         x = next(g)  # next取不到值得时候会抛出异常\n",
    "         print('g:', x)\n",
    "     except StopIteration as e:  # 如果try下面的程序出StopIteration错误，则执行下面的操作\n",
    "         print('Generator return value:', e.value)  # e.value为函数的返回值\n",
    "         break"
   ]
  },
  {
   "cell_type": "markdown",
   "metadata": {},
   "source": [
    "**方式2：**使用for()函数。格式如下。不需要关心StopIteration的错误。因此，这种方式**建议使用**"
   ]
  },
  {
   "cell_type": "code",
   "execution_count": 10,
   "metadata": {
    "scrolled": false
   },
   "outputs": [
    {
     "name": "stdout",
     "output_type": "stream",
     "text": [
      "0\n",
      "2\n"
     ]
    }
   ],
   "source": [
    "# 使用for函数调用生成器\n",
    "b=( i*2 for i in range(2))\n",
    "for i in b:\n",
    "    print(i)"
   ]
  },
  {
   "cell_type": "code",
   "execution_count": 17,
   "metadata": {
    "scrolled": true
   },
   "outputs": [
    {
     "name": "stdout",
     "output_type": "stream",
     "text": [
      "1\n",
      "1\n",
      "2\n",
      "3\n",
      "5\n",
      "8\n"
     ]
    }
   ],
   "source": [
    "# 使用for函数调用类似函数产生的生成器\n",
    "# 这样，可以在调用类似函数执行结果的同时执行其他操作。\n",
    "for n in fib(6):\n",
    "    print(n)"
   ]
  },
  {
   "cell_type": "markdown",
   "metadata": {},
   "source": [
    "**方式3：**使用send()函数,可以得到yield的返回值，又可以给yield发送值。因此，这种方式**也建议使用**。使用方法见下方“生成器使用举例”"
   ]
  },
  {
   "cell_type": "markdown",
   "metadata": {
    "collapsed": true
   },
   "source": [
    "## 生成器使用举例\n",
    "可以通过yield实现在单线程的情况下实现**单线程并发运算**的效果"
   ]
  },
  {
   "cell_type": "code",
   "execution_count": 32,
   "metadata": {},
   "outputs": [
    {
     "name": "stdout",
     "output_type": "stream",
     "text": [
      "A 准备吃包子啦!\n",
      "B 准备吃包子啦!\n",
      "老子开始准备做包子啦!\n",
      "做了2个包子!\n",
      "包子[0]来了,被[A]吃了!\n",
      "---> A\n",
      "包子[0]来了,被[B]吃了!\n",
      "做了2个包子!\n",
      "包子[1]来了,被[A]吃了!\n",
      "---> A\n",
      "包子[1]来了,被[B]吃了!\n",
      "做了2个包子!\n",
      "包子[2]来了,被[A]吃了!\n",
      "---> A\n",
      "包子[2]来了,被[B]吃了!\n"
     ]
    }
   ],
   "source": [
    "# 生成器实现单线程并发运算\n",
    "# 这是一个典型的生产者、消费者模型\n",
    "import time\n",
    "\n",
    "def consumer(name):  # 生成器\n",
    "    print(\"%s 准备吃包子啦!\" %name)\n",
    "    while True:\n",
    "       baozi = yield name # 这里yield返回值为空。\n",
    "\n",
    "       print(\"包子[%s]来了,被[%s]吃了!\" %(baozi,name))\n",
    "\n",
    "\n",
    "def producer(name):  # 函数\n",
    "    c = consumer('A')  # 得到了一个生成器\n",
    "    c2 = consumer('B')\n",
    "    c.__next__()  # 执行到yield关键字停止。因此只输出“准备吃包子啦!”。调用next函数时，不给yield传值，得到yield的返回值\n",
    "    c2.__next__()\n",
    "    print(\"老子开始准备做包子啦!\")\n",
    "    for i in range(3):  # 单线程\n",
    "        time.sleep(1)\n",
    "        print(\"做了2个包子!\")\n",
    "        print(\"--->\",c.send(i))  # 发给yield。协程1\n",
    "        c2.send(i)  # 发给yield。协程2 \n",
    "\n",
    "# send执行之后，从yield处开始执行，再次回  到yield时停止。调用send函数时，可以给yield传值，且可以得到返回值。       \n",
    "# 注意，每次给生成器传值使用完毕后（再次执行到yield后），生成器中的值不会保存。因此，需要每次都向生成器传值。\n",
    "\n",
    "producer(\"alex\")"
   ]
  },
  {
   "cell_type": "code",
   "execution_count": null,
   "metadata": {
    "collapsed": true
   },
   "outputs": [],
   "source": []
  }
 ],
 "metadata": {
  "kernelspec": {
   "display_name": "Python 3",
   "language": "python",
   "name": "python3"
  },
  "language_info": {
   "codemirror_mode": {
    "name": "ipython",
    "version": 3
   },
   "file_extension": ".py",
   "mimetype": "text/x-python",
   "name": "python",
   "nbconvert_exporter": "python",
   "pygments_lexer": "ipython3",
   "version": "3.6.3"
  }
 },
 "nbformat": 4,
 "nbformat_minor": 2
}
