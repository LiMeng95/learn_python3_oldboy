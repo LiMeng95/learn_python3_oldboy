{
 "cells": [
  {
   "cell_type": "markdown",
   "metadata": {},
   "source": [
    "## 本部分简介\n",
    "1. 可直接作用于for循环的数据类型：可迭代对象\n",
    "2. 迭代器概述\n",
    "3. 可迭代对象到迭代器的转化\n",
    "4. 迭代器的特点及使用方式\n",
    "5. range()函数与xrange()函数\n",
    "\n",
    "[本部分参考网页](http://www.cnblogs.com/alex3714/articles/5765046.html)"
   ]
  },
  {
   "cell_type": "markdown",
   "metadata": {
    "collapsed": true
   },
   "source": [
    "## 可直接作用于for循环的数据类型：可迭代对象\n",
    "- 一类是集合数据类型，如list、tuple、dict、set、str等\n",
    "- 一类是生成器（generator），包括生成器和带yield的generator function\n",
    "\n",
    "这些可以直接作用于for循环的对象统称为可迭代对象：Iterable。可以使用isinstance()判断一个对象是否是Iterable对象："
   ]
  },
  {
   "cell_type": "code",
   "execution_count": 3,
   "metadata": {},
   "outputs": [
    {
     "data": {
      "text/plain": [
       "True"
      ]
     },
     "execution_count": 3,
     "metadata": {},
     "output_type": "execute_result"
    }
   ],
   "source": [
    "# 判断某个数据类型是否可以进行迭代\n",
    "from collections import Iterable\n",
    "isinstance([], Iterable)"
   ]
  },
  {
   "cell_type": "markdown",
   "metadata": {
    "collapsed": true
   },
   "source": [
    "## 迭代器概述\n",
    "**1. 迭代器的概念**：\n",
    "\n",
    "**可以被next()函数调用并不断返回下一个值的对象称为迭代器**：Iterator。迭代器与可迭代对象是不一样的概念。\n",
    "\n",
    "可以使用isinstance()判断一个对象是否是迭代器对象："
   ]
  },
  {
   "cell_type": "code",
   "execution_count": 5,
   "metadata": {},
   "outputs": [
    {
     "data": {
      "text/plain": [
       "False"
      ]
     },
     "execution_count": 5,
     "metadata": {},
     "output_type": "execute_result"
    }
   ],
   "source": [
    "# 判断某个数据类型是否可以进行迭代\n",
    "from collections import Iterator\n",
    "isinstance([], Iterator)"
   ]
  },
  {
   "cell_type": "markdown",
   "metadata": {},
   "source": [
    "**2. 迭代器与可迭代对象的区别**：\n",
    "- 可迭代对象包含迭代器\n",
    "- list、tuple、dict、set、str等虽然是可迭代对象，却不是迭代器，不能直接使用next()函数。\n",
    "- 迭代器是可迭代对象，可直接用于for循环。\n",
    "\n",
    "**3. 迭代器与生成器的区别**：\n",
    "- 生成器一定是迭代器（因为有next()函数）\n",
    "- 但迭代器不一定是生成器（因为原理不同）"
   ]
  },
  {
   "cell_type": "markdown",
   "metadata": {
    "collapsed": true
   },
   "source": [
    "# 可迭代对象到迭代器的转化\n",
    "使用iter()函数："
   ]
  },
  {
   "cell_type": "code",
   "execution_count": 6,
   "metadata": {
    "scrolled": true
   },
   "outputs": [
    {
     "data": {
      "text/plain": [
       "True"
      ]
     },
     "execution_count": 6,
     "metadata": {},
     "output_type": "execute_result"
    }
   ],
   "source": [
    "# 生成器创建方式1:\n",
    "from collections import Iterator\n",
    "isinstance(iter([]), Iterator)"
   ]
  },
  {
   "cell_type": "markdown",
   "metadata": {
    "collapsed": true
   },
   "source": [
    "## 迭代器的特点及使用方式\n",
    "**1. 迭代器的特点：**\n",
    "\n",
    "Python的迭代器（Iterator）对象表示的是一个数据流，迭代器（Iterator）对象可以**被next()函数调用**并不断返回下一个数据，直到**没有数据时抛出StopIteration错误**。\n",
    "\n",
    "可以把这个数据流看做是一个有序序列，但我们却不能提前知道序列的长度，只能不断通过next()函数实现按需计算下一个数据，所以迭代器（Iterator）的计算是**惰性的，只有在需要返回下一个数据时它才会计算**。\n",
    "\n",
    "Iterator甚至**可以表示一个无限大的数据流**，例如全体自然数。而使用list是永远不可能存储全体自然数的。\n",
    "\n",
    "**2. 迭代器的使用方式**:\n",
    "\n",
    "可通过循环+检测异常的方式使用迭代器："
   ]
  },
  {
   "cell_type": "code",
   "execution_count": 8,
   "metadata": {
    "scrolled": true
   },
   "outputs": [
    {
     "name": "stdout",
     "output_type": "stream",
     "text": [
      "1\n",
      "2\n",
      "3\n",
      "4\n",
      "5\n"
     ]
    }
   ],
   "source": [
    "# 下方代码完全等价于：\n",
    "# for x in [1, 2, 3, 4, 5]:\n",
    "#     print(x)\n",
    "\n",
    "# 首先获得Iterator对象:\n",
    "it = iter([1, 2, 3, 4, 5])\n",
    "# 循环:\n",
    "while True:\n",
    "    try:\n",
    "        # 获得下一个值:\n",
    "        x = next(it)\n",
    "        print(x)\n",
    "    except StopIteration:\n",
    "        # 遇到StopIteration就退出循环\n",
    "        break"
   ]
  },
  {
   "cell_type": "markdown",
   "metadata": {},
   "source": [
    "## range()函数与xrange()函数\n",
    "Python3中，使用range()函数返回的是一个迭代器。而在Python2中,range()函数返回的是一个列表，xrange()函数返回的是迭代器。\n",
    "\n",
    "Python3中对range()函数和xrange()函数做了统一，取消了xrange()函数，统一成range()函数。"
   ]
  }
 ],
 "metadata": {
  "kernelspec": {
   "display_name": "Python 3",
   "language": "python",
   "name": "python3"
  },
  "language_info": {
   "codemirror_mode": {
    "name": "ipython",
    "version": 3
   },
   "file_extension": ".py",
   "mimetype": "text/x-python",
   "name": "python",
   "nbconvert_exporter": "python",
   "pygments_lexer": "ipython3",
   "version": "3.6.3"
  }
 },
 "nbformat": 4,
 "nbformat_minor": 2
}
