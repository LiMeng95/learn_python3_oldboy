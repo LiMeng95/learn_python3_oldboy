{
 "cells": [
  {
   "cell_type": "markdown",
   "metadata": {},
   "source": [
    "## 本部分简介\n",
    "1. 装饰器概述\n",
    "2. 装饰器直观应用\n",
    "3. 函数即“变量”\n",
    "4. 复习：高阶函数、嵌套函数\n",
    "5. 案例1：统计函数运行时间，无参数装饰器，尽量不要当做实际装饰器使用\n",
    "6. 案例2：统计函数运行时间，有参数装饰器，可当做实际装饰器使用\n",
    "7. 装饰器的高级使用：装饰器本身带参数的\n",
    "\n",
    "[本部分参考网页](http://www.cnblogs.com/alex3714/articles/5765046.html)"
   ]
  },
  {
   "cell_type": "markdown",
   "metadata": {},
   "source": [
    "## 装饰器概述\n",
    "- 本质：装饰器本质是函数。\n",
    "- 定义方式：其本身与函数没区别，也是用\"def\"定义。\n",
    "- 功能：用于装饰其他函数，可以给其他函数添加附加功能。\n",
    "- 应用场景：例如，如果要在已经发布的源代码上新增功能，最好不要修改原函数的源代码，而是使用装饰器\n",
    "- 使用原则：（装饰器对被装饰函数是完全透明的）\n",
    " - 原则1：不能修改被装饰函数的源代码\n",
    " - 原则2：不能修改被装饰函数的调用方式\n",
    "- 实现装饰器的知识储备:\n",
    " - 函数即“变量”\n",
    " - 高阶函数\n",
    " - 嵌套函数\n",
    "- 高阶函数+嵌套函数 = 装饰器\n",
    "- 装饰器也可叫“语法糖”"
   ]
  },
  {
   "cell_type": "markdown",
   "metadata": {},
   "source": [
    "## 装饰器直观应用\n",
    "例如统计函数运行时间的应用"
   ]
  },
  {
   "cell_type": "code",
   "execution_count": 3,
   "metadata": {},
   "outputs": [
    {
     "name": "stdout",
     "output_type": "stream",
     "text": [
      "In the test1\n",
      "The function run time is 3.000171422958374\n"
     ]
    }
   ],
   "source": [
    "import time\n",
    "def timmer(func):  # 装饰器,给其他函数增加一个计算运行时间的应用\n",
    "    def wrapper(*args,**kwargs):\n",
    "        start_time = time.time()\n",
    "        func()\n",
    "        stop_time = time.time()\n",
    "        print(\"The function run time is %s\" %(stop_time - start_time))\n",
    "    return warpper\n",
    "\n",
    "@timmer\n",
    "def test1():  # 普通的函数\n",
    "    time.sleep(3)  # 暂停3s\n",
    "    print(\"In the test1\")\n",
    "\n",
    "test1()"
   ]
  },
  {
   "cell_type": "markdown",
   "metadata": {},
   "source": [
    "## 函数即“变量”"
   ]
  },
  {
   "cell_type": "markdown",
   "metadata": {},
   "source": [
    "函数名称相当于一个变量名，需要经过定义之后才能使用。变量在使用过程中分为两步，第一步是定义。第二步是调用。\n",
    "\n",
    "Python中变量回收机制：对每个变量、函数都定义一个空间存储内容（房间），并对该房间加入变量名称（门牌号）。当使用del命令删除某个变量名称后，删除的仅是变量名称（门牌号），而不直接删除存储的内容（房间）。python会隔某段时间查询存储空间（房间）是否有变量调用（门牌号），如果没有被调用，则再清除存储空间中的内容。"
   ]
  },
  {
   "cell_type": "markdown",
   "metadata": {},
   "source": [
    "## 复习：高阶函数、嵌套函数\n",
    "- 高阶函数：将其他函数作为参数传入当前函数中（可实现在不修改被装饰函数源代码的情况下为其添加功能），或者在返回值中包含函数名（不修改函数的调用方式）"
   ]
  },
  {
   "cell_type": "code",
   "execution_count": 6,
   "metadata": {},
   "outputs": [
    {
     "name": "stdout",
     "output_type": "stream",
     "text": [
      "In fun1\n",
      "In fun2\n"
     ]
    }
   ],
   "source": [
    "# 不修改被装饰函数源代码的情况下为函数fun1()添加功能\n",
    "def fun1():\n",
    "    print(\"In fun1\")\n",
    "    \n",
    "def fun2(fun):\n",
    "    fun()\n",
    "    print(\"In fun2\")\n",
    "\n",
    "fun2(fun1)"
   ]
  },
  {
   "cell_type": "markdown",
   "metadata": {},
   "source": [
    "- 嵌套函数：在当前函数中定义一个新函数"
   ]
  },
  {
   "cell_type": "markdown",
   "metadata": {},
   "source": [
    "## 案例1：统计函数运行时间，无参数装饰器\n",
    "**这里的方法均不能当做实际装饰器使用**。因为不能传入参数，且不能返回函数执行结果。"
   ]
  },
  {
   "cell_type": "code",
   "execution_count": 9,
   "metadata": {
    "scrolled": false
   },
   "outputs": [
    {
     "name": "stdout",
     "output_type": "stream",
     "text": [
      "In function test1\n",
      "The function run time is 1.0000569820404053\n",
      "In function test2\n",
      "The function run time is 1.0000572204589844\n"
     ]
    }
   ],
   "source": [
    "# 错误方法一。只使用高阶函数。将被修饰函数当成实参传入。但这样修改了函数调用方式，不符合装饰器原则1\n",
    "import time\n",
    "\n",
    "def calculate_time(func):  # 新增的\n",
    "    start_time = time.time()\n",
    "    func()\n",
    "    stop_time = time.time()\n",
    "    print(\"The function run time is %s\" %(stop_time - start_time))\n",
    "    return func\n",
    "\n",
    "def test1():  # 源代码\n",
    "    time.sleep(1)\n",
    "    print(\"In function test1\")\n",
    "\n",
    "def test2():  # 源代码\n",
    "    time.sleep(1)\n",
    "    print(\"In function test2\")\n",
    "\n",
    "test1 = calculate_time(test1)\n",
    "test2 = calculate_time(test2)"
   ]
  },
  {
   "cell_type": "code",
   "execution_count": 10,
   "metadata": {},
   "outputs": [
    {
     "name": "stdout",
     "output_type": "stream",
     "text": [
      "In function test1\n",
      "The function run time is 1.0000572204589844\n",
      "In function test1\n",
      "In function test2\n",
      "The function run time is 1.0000572204589844\n",
      "In function test2\n"
     ]
    }
   ],
   "source": [
    "# 错误方法二。只使用高阶函数。将被修饰函数在新增函数中返回。但这样重复执行了函数功能，不符合要求\n",
    "import time\n",
    "\n",
    "def calculate_time(func):  # 新增的\n",
    "    start_time = time.time()\n",
    "    func()\n",
    "    stop_time = time.time()\n",
    "    print(\"The function run time is %s\" %(stop_time - start_time))\n",
    "    return func\n",
    "\n",
    "def test1():  # 源代码\n",
    "    time.sleep(1)\n",
    "    print(\"In function test1\")\n",
    "\n",
    "def test2():  # 源代码\n",
    "    time.sleep(1)\n",
    "    print(\"In function test2\")\n",
    "\n",
    "test1 = calculate_time(test1)\n",
    "test1()\n",
    "test2 = calculate_time(test2)\n",
    "test2()"
   ]
  },
  {
   "cell_type": "code",
   "execution_count": 12,
   "metadata": {},
   "outputs": [
    {
     "name": "stdout",
     "output_type": "stream",
     "text": [
      "In function test1\n",
      "The function run time is 1.0000569820404053\n"
     ]
    }
   ],
   "source": [
    "# 装饰器方法一。使用高阶函数+嵌套函数。较复杂，不建议使用\n",
    "import time\n",
    "\n",
    "def timer(func):  # 新增的\n",
    "    def calculate_time():  # 新增的，在内存中定义了一个变量，不执行\n",
    "        start_time = time.time()\n",
    "        func()\n",
    "        stop_time = time.time()\n",
    "        print(\"The function run time is %s\" %(stop_time - start_time))\n",
    "    return calculate_time\n",
    "\n",
    "def test1():  # 源代码\n",
    "    time.sleep(1)\n",
    "    print(\"In function test1\")\n",
    "\n",
    "def test2():  # 源代码\n",
    "    time.sleep(1)\n",
    "    print(\"In function test2\")\n",
    "\n",
    "test1 = timer(test1)  # 这里实际上test1成为了calculate_time函数\n",
    "test1()"
   ]
  },
  {
   "cell_type": "code",
   "execution_count": 35,
   "metadata": {
    "scrolled": false
   },
   "outputs": [
    {
     "name": "stdout",
     "output_type": "stream",
     "text": [
      "In function test1\n",
      "The function run time is 1.0000569820404053\n",
      "In function test2\n",
      "The function run time is 1.0000572204589844\n"
     ]
    }
   ],
   "source": [
    "# 装饰器方法二。使用高阶函数+嵌套函数。简单。无参数、无返回，不建议使用\n",
    "import time\n",
    "\n",
    "def timer(func):  # 新增的\n",
    "    def calculate_time():  # 新增的，在内存中定义了一个变量，不执行\n",
    "        start_time = time.time()\n",
    "        func()\n",
    "        stop_time = time.time()\n",
    "        print(\"The function run time is %s\" %(stop_time - start_time))\n",
    "    return calculate_time\n",
    "\n",
    "@timer  # 功能等同于 test1 = timer(test1)。 实现了装饰器的功能\n",
    "def test1():  # 源代码\n",
    "    time.sleep(1)\n",
    "    print(\"In function test1\")\n",
    "\n",
    "@timer  # 功能等同于 test2 = timer(test2)。 实现了装饰器的功能\n",
    "def test2():  # 源代码\n",
    "    time.sleep(1)\n",
    "    print(\"In function test2\")\n",
    "\n",
    "test1()\n",
    "test2()"
   ]
  },
  {
   "cell_type": "markdown",
   "metadata": {},
   "source": [
    "## 案例2：统计函数运行时间，有参数装饰器\n",
    "该方法能满足基本需求,可以传入参数，且可以返回函数执行结果。"
   ]
  },
  {
   "cell_type": "code",
   "execution_count": 25,
   "metadata": {
    "scrolled": false
   },
   "outputs": [
    {
     "name": "stdout",
     "output_type": "stream",
     "text": [
      "In function test1\n",
      "The function run time is 1.0000574588775635\n",
      "In function test2, name =  Meng Li\n",
      "The function run time is 1.0000569820404053\n",
      "From test2\n"
     ]
    }
   ],
   "source": [
    "# 有参数的装饰器。有参数、有返回，可以使用\n",
    "# 考虑到装饰的函数可能有各种功能\n",
    "# 使用非固定参数，*args,**kwargs\n",
    "import time\n",
    "\n",
    "def timer(func):  # 新增的\n",
    "    def calculate_time(*args,**kwargs):  # 新增的，在内存中定义了一个变量，不执行\n",
    "        start_time = time.time()\n",
    "        res = func(*args,**kwargs)  # 函数执行结果\n",
    "        stop_time = time.time()\n",
    "        print(\"The function run time is %s\" %(stop_time - start_time))\n",
    "        return res  # 返回原函数的执行结果\n",
    "    return calculate_time\n",
    "\n",
    "@timer  # 功能等同于 test1 = timer(test1)。 实现了装饰器的功能\n",
    "def test1():  # 源代码\n",
    "    time.sleep(1)\n",
    "    print(\"In function test1\")\n",
    "\n",
    "@timer  # 功能等同于 test2 = timer(test2)。 实现了装饰器的功能\n",
    "def test2(name):  # 源代码\n",
    "    time.sleep(1)\n",
    "    print(\"In function test2, name = \",name)\n",
    "    return \"From test2\"\n",
    "\n",
    "test1()\n",
    "print(test2('Meng Li'))"
   ]
  },
  {
   "cell_type": "markdown",
   "metadata": {},
   "source": [
    "## 装饰器的高级使用\n",
    "装饰器中加参数，可用于在装饰器中对不同函数加以区分。"
   ]
  },
  {
   "cell_type": "code",
   "execution_count": 34,
   "metadata": {},
   "outputs": [
    {
     "name": "stdout",
     "output_type": "stream",
     "text": [
      "Welcome to index page\n",
      "-------------------\n",
      "local\n",
      "Username :Meng\n",
      "Password :12\n",
      "Invalid username or password\n",
      "0\n",
      "-------------------\n",
      "ldap\n",
      "Username :Meng Li\n",
      "Password :123\n",
      "User has passed authentication\n",
      "Welcome to bbs page\n",
      "from bbs\n"
     ]
    }
   ],
   "source": [
    "user = 'Meng Li'\n",
    "password = '123'\n",
    "\n",
    "def auth(auth_type):\n",
    "    def outer_wrapper(func):\n",
    "        def wrapper(*args,**kwargs):\n",
    "            # 在这里可以使用auth_type参数\n",
    "            print(auth_type)\n",
    "            username = input(\"Username :\").strip()\n",
    "            passwd = input(\"Password :\").strip()\n",
    "            if username == user and passwd == password:\n",
    "                print(\"User has passed authentication\")\n",
    "                res = func(*args,**kwargs)  # 原来函数的执行\n",
    "            else:\n",
    "                print(\"Invalid username or password\")\n",
    "                res = 0\n",
    "            return res  # 返回原来函数的执行结果\n",
    "        return wrapper\n",
    "    return outer_wrapper\n",
    "\n",
    "def index():\n",
    "    print(\"Welcome to index page\")\n",
    "    return 0\n",
    "\n",
    "@auth(auth_type='local')  # 相当于执行了auth('local')函数，且home = outer_wrapper(home)\n",
    "def home():\n",
    "    print(\"Welcome to home page\")\n",
    "    return \"from home\"\n",
    "\n",
    "@auth(auth_type='ldap')\n",
    "def bbs():\n",
    "    print(\"Welcome to bbs page\")\n",
    "    return \"from bbs\"\n",
    "\n",
    "index()\n",
    "print(\"-------------------\")\n",
    "print(home())\n",
    "print(\"-------------------\")\n",
    "print(bbs())"
   ]
  }
 ],
 "metadata": {
  "kernelspec": {
   "display_name": "Python 3",
   "language": "python",
   "name": "python3"
  },
  "language_info": {
   "codemirror_mode": {
    "name": "ipython",
    "version": 3
   },
   "file_extension": ".py",
   "mimetype": "text/x-python",
   "name": "python",
   "nbconvert_exporter": "python",
   "pygments_lexer": "ipython3",
   "version": "3.6.3"
  }
 },
 "nbformat": 4,
 "nbformat_minor": 2
}
